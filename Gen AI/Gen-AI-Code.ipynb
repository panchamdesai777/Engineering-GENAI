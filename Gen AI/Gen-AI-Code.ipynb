{
  "cells": [
    {
      "cell_type": "markdown",
      "metadata": {
        "id": "s8_0od-Kb9er"
      },
      "source": [
        "## Import Libraries"
      ]
    },
    {
      "cell_type": "code",
      "execution_count": 105,
      "metadata": {
        "colab": {
          "base_uri": "https://localhost:8080/"
        },
        "id": "KTrvwSACmKrF",
        "outputId": "1ad92590-98b3-44c3-f69b-67840419abbc"
      },
      "outputs": [
        {
          "name": "stdout",
          "output_type": "stream",
          "text": [
            "Requirement already satisfied: langchain-groq in /usr/local/lib/python3.11/dist-packages (0.3.2)\n",
            "Requirement already satisfied: langchain-core<1.0.0,>=0.3.49 in /usr/local/lib/python3.11/dist-packages (from langchain-groq) (0.3.59)\n",
            "Requirement already satisfied: groq<1,>=0.4.1 in /usr/local/lib/python3.11/dist-packages (from langchain-groq) (0.25.0)\n",
            "Requirement already satisfied: anyio<5,>=3.5.0 in /usr/local/lib/python3.11/dist-packages (from groq<1,>=0.4.1->langchain-groq) (4.9.0)\n",
            "Requirement already satisfied: distro<2,>=1.7.0 in /usr/local/lib/python3.11/dist-packages (from groq<1,>=0.4.1->langchain-groq) (1.9.0)\n",
            "Requirement already satisfied: httpx<1,>=0.23.0 in /usr/local/lib/python3.11/dist-packages (from groq<1,>=0.4.1->langchain-groq) (0.28.1)\n",
            "Requirement already satisfied: pydantic<3,>=1.9.0 in /usr/local/lib/python3.11/dist-packages (from groq<1,>=0.4.1->langchain-groq) (2.11.4)\n",
            "Requirement already satisfied: sniffio in /usr/local/lib/python3.11/dist-packages (from groq<1,>=0.4.1->langchain-groq) (1.3.1)\n",
            "Requirement already satisfied: typing-extensions<5,>=4.10 in /usr/local/lib/python3.11/dist-packages (from groq<1,>=0.4.1->langchain-groq) (4.13.2)\n",
            "Requirement already satisfied: langsmith<0.4,>=0.1.125 in /usr/local/lib/python3.11/dist-packages (from langchain-core<1.0.0,>=0.3.49->langchain-groq) (0.3.42)\n",
            "Requirement already satisfied: tenacity!=8.4.0,<10.0.0,>=8.1.0 in /usr/local/lib/python3.11/dist-packages (from langchain-core<1.0.0,>=0.3.49->langchain-groq) (9.1.2)\n",
            "Requirement already satisfied: jsonpatch<2.0,>=1.33 in /usr/local/lib/python3.11/dist-packages (from langchain-core<1.0.0,>=0.3.49->langchain-groq) (1.33)\n",
            "Requirement already satisfied: PyYAML>=5.3 in /usr/local/lib/python3.11/dist-packages (from langchain-core<1.0.0,>=0.3.49->langchain-groq) (6.0.2)\n",
            "Requirement already satisfied: packaging<25,>=23.2 in /usr/local/lib/python3.11/dist-packages (from langchain-core<1.0.0,>=0.3.49->langchain-groq) (24.2)\n",
            "Requirement already satisfied: idna>=2.8 in /usr/local/lib/python3.11/dist-packages (from anyio<5,>=3.5.0->groq<1,>=0.4.1->langchain-groq) (3.10)\n",
            "Requirement already satisfied: certifi in /usr/local/lib/python3.11/dist-packages (from httpx<1,>=0.23.0->groq<1,>=0.4.1->langchain-groq) (2025.4.26)\n",
            "Requirement already satisfied: httpcore==1.* in /usr/local/lib/python3.11/dist-packages (from httpx<1,>=0.23.0->groq<1,>=0.4.1->langchain-groq) (1.0.9)\n",
            "Requirement already satisfied: h11>=0.16 in /usr/local/lib/python3.11/dist-packages (from httpcore==1.*->httpx<1,>=0.23.0->groq<1,>=0.4.1->langchain-groq) (0.16.0)\n",
            "Requirement already satisfied: jsonpointer>=1.9 in /usr/local/lib/python3.11/dist-packages (from jsonpatch<2.0,>=1.33->langchain-core<1.0.0,>=0.3.49->langchain-groq) (3.0.0)\n",
            "Requirement already satisfied: orjson<4.0.0,>=3.9.14 in /usr/local/lib/python3.11/dist-packages (from langsmith<0.4,>=0.1.125->langchain-core<1.0.0,>=0.3.49->langchain-groq) (3.10.18)\n",
            "Requirement already satisfied: requests<3,>=2 in /usr/local/lib/python3.11/dist-packages (from langsmith<0.4,>=0.1.125->langchain-core<1.0.0,>=0.3.49->langchain-groq) (2.32.3)\n",
            "Requirement already satisfied: requests-toolbelt<2.0.0,>=1.0.0 in /usr/local/lib/python3.11/dist-packages (from langsmith<0.4,>=0.1.125->langchain-core<1.0.0,>=0.3.49->langchain-groq) (1.0.0)\n",
            "Requirement already satisfied: zstandard<0.24.0,>=0.23.0 in /usr/local/lib/python3.11/dist-packages (from langsmith<0.4,>=0.1.125->langchain-core<1.0.0,>=0.3.49->langchain-groq) (0.23.0)\n",
            "Requirement already satisfied: annotated-types>=0.6.0 in /usr/local/lib/python3.11/dist-packages (from pydantic<3,>=1.9.0->groq<1,>=0.4.1->langchain-groq) (0.7.0)\n",
            "Requirement already satisfied: pydantic-core==2.33.2 in /usr/local/lib/python3.11/dist-packages (from pydantic<3,>=1.9.0->groq<1,>=0.4.1->langchain-groq) (2.33.2)\n",
            "Requirement already satisfied: typing-inspection>=0.4.0 in /usr/local/lib/python3.11/dist-packages (from pydantic<3,>=1.9.0->groq<1,>=0.4.1->langchain-groq) (0.4.0)\n",
            "Requirement already satisfied: charset-normalizer<4,>=2 in /usr/local/lib/python3.11/dist-packages (from requests<3,>=2->langsmith<0.4,>=0.1.125->langchain-core<1.0.0,>=0.3.49->langchain-groq) (3.4.2)\n",
            "Requirement already satisfied: urllib3<3,>=1.21.1 in /usr/local/lib/python3.11/dist-packages (from requests<3,>=2->langsmith<0.4,>=0.1.125->langchain-core<1.0.0,>=0.3.49->langchain-groq) (2.4.0)\n"
          ]
        }
      ],
      "source": [
        "!pip install langchain-groq"
      ]
    },
    {
      "cell_type": "code",
      "execution_count": 106,
      "metadata": {
        "id": "Rjb0uaNxRCMm"
      },
      "outputs": [],
      "source": [
        "import pandas as pd\n",
        "import numpy as np\n",
        "from pyspark.sql import SparkSession\n",
        "from pyspark.sql.functions import col, split, posexplode, udf, explode\n",
        "from pyspark.sql.types import ArrayType, DoubleType, StringType\n",
        "from pyspark.sql import functions as F\n",
        "from langchain.prompts import PromptTemplate\n",
        "from langchain.chains import LLMChain\n",
        "from langchain_groq import ChatGroq\n",
        "from sklearn.metrics.pairwise import cosine_similarity\n",
        "from sentence_transformers import SentenceTransformer"
      ]
    },
    {
      "cell_type": "code",
      "execution_count": 107,
      "metadata": {
        "id": "Z4znibytk54D"
      },
      "outputs": [],
      "source": [
        "# Set your Groq API key\n",
        "import os\n",
        "os.environ[\"GROQ_API_KEY\"] =  \"PASS YOUR API KEY\""
      ]
    },
    {
      "cell_type": "markdown",
      "metadata": {
        "id": "cju8pGttcB5U"
      },
      "source": [
        "## Read the dataset"
      ]
    },
    {
      "cell_type": "code",
      "execution_count": null,
      "metadata": {
        "id": "dzb5EHD0YND0"
      },
      "outputs": [],
      "source": [
        "# Create Spark session\n",
        "spark = SparkSession.builder.appName(\"GENAI-Task\").getOrCreate()"
      ]
    },
    {
      "cell_type": "code",
      "execution_count": null,
      "metadata": {
        "colab": {
          "base_uri": "https://localhost:8080/"
        },
        "id": "DOLzbCxzRRA6",
        "outputId": "d9d22324-0a0b-4b44-e87a-a180700d5845"
      },
      "outputs": [
        {
          "name": "stdout",
          "output_type": "stream",
          "text": [
            "+----------------+-------+----+--------------------+--------------------+--------------------+--------------------+--------------------+--------------------+--------------------+--------------------+--------------------+--------------------+--------------------+--------------------+--------------------+--------------------+--------------------+--------------------+--------------------+--------------------+--------------------+--------------------+\n",
            "|        filename|    cik|year|           section_1|          section_1A|          section_1B|           section_2|           section_3|           section_4|           section_5|           section_6|           section_7|          section_7A|           section_8|           section_9|          section_9A|          section_9B|          section_10|          section_11|          section_12|          section_13|          section_14|          section_15|\n",
            "+----------------+-------+----+--------------------+--------------------+--------------------+--------------------+--------------------+--------------------+--------------------+--------------------+--------------------+--------------------+--------------------+--------------------+--------------------+--------------------+--------------------+--------------------+--------------------+--------------------+--------------------+--------------------+\n",
            "|1566373_2018.htm|1566373|2018|Item 1. Business\\...|Item 1A. Risk Fac...|Item 1B. Unresolv...|Item 2. Propertie...|Item 3. Legal Pro...|Item 4. Mine Safe...|Item 5. Market fo...|Item 6. Selected ...|Item 7. Managemen...|Item 7A. Quantita...|Item 8. Financial...|Item 9. Changes i...|Item 9A. Controls...|Item 9B. Other In...|Item 10. Director...|Item 11. Executiv...|Item 12. Security...|Item 13. Certain ...|Item 14. Principa...|Item 15. Exhibits...|\n",
            "|  88121_2019.htm|  88121|2019|Item 1. Business\\...|Item 1A. Risk Fac...|Item 1B. Unresolv...|Item 2. Propertie...|Item 3. Legal Pro...|Item 4. Mine Safe...|Item 5. Market fo...|Item 6. Selected ...|Item 7. Managemen...|Item 7A. Quantita...|Item 8. Financial...|Item 9. Changes i...|Item 9A. Controls...|Item 9B. Other In...|Item 10. Director...|Item 11. Executiv...|Item 12. Security...|Item 13. Certain ...|Item 14. Principa...|Item 15. Exhibits...|\n",
            "| 718413_2020.htm| 718413|2020|Item 1. The Busin...|Item 1A. Risk Fac...|Item 1B. Unresolv...|Item 2. Propertie...|Item 3. Legal Pro...|Item 4. Mine Safe...|Item 5. Market fo...|Item 6. Selected ...|Item 7. Managemen...|Item 7A. Quantita...|Item 8. Financial...|Item 9. Changes i...|Item 9A. Controls...|Item 9B. Other In...|Item 10. Director...|Item 11. Executiv...|Item 12. Security...|Item 13. Certain ...|Item 14. Principa...|Item 15. Exhibits...|\n",
            "+----------------+-------+----+--------------------+--------------------+--------------------+--------------------+--------------------+--------------------+--------------------+--------------------+--------------------+--------------------+--------------------+--------------------+--------------------+--------------------+--------------------+--------------------+--------------------+--------------------+--------------------+--------------------+\n",
            "\n"
          ]
        }
      ],
      "source": [
        "path = '.\\GenAI\\Gen-AI-Data.csv'\n",
        "\n",
        "# Define path\n",
        "df = spark.read \\\n",
        "    .option(\"header\", True) \\\n",
        "    .option(\"inferSchema\", True) \\\n",
        "    .option(\"multiLine\", True) \\\n",
        "    .option(\"quote\", '\"') \\\n",
        "    .option(\"escape\", '\"') \\\n",
        "    .option(\"mode\", \"PERMISSIVE\") \\\n",
        "    .csv(path)\n",
        "\n",
        "# Filter for specific company identifier\n",
        "# df = df.filter(\"cik == 718413\")\n",
        "\n",
        "# Show the first few rows\n",
        "df.show()"
      ]
    },
    {
      "cell_type": "markdown",
      "metadata": {
        "id": "iYflPET5YrZ5"
      },
      "source": [
        "## Unpivoted version of Orginal DataFrame -  where each row represents one section of a 10-K document."
      ]
    },
    {
      "cell_type": "code",
      "execution_count": 110,
      "metadata": {
        "colab": {
          "base_uri": "https://localhost:8080/"
        },
        "id": "gMxu7sueR8RL",
        "outputId": "04071881-342b-4053-bb73-eff0d347b753"
      },
      "outputs": [
        {
          "name": "stdout",
          "output_type": "stream",
          "text": [
            "+----------------+-------+----+------------+--------------------+\n",
            "|        filename|    cik|year|section_name|                text|\n",
            "+----------------+-------+----+------------+--------------------+\n",
            "|1566373_2018.htm|1566373|2018|   section_1|Item 1. Business\\...|\n",
            "|1566373_2018.htm|1566373|2018|   section_2|Item 2. Propertie...|\n",
            "|1566373_2018.htm|1566373|2018|   section_3|Item 3. Legal Pro...|\n",
            "|1566373_2018.htm|1566373|2018|   section_4|Item 4. Mine Safe...|\n",
            "|1566373_2018.htm|1566373|2018|   section_5|Item 5. Market fo...|\n",
            "|1566373_2018.htm|1566373|2018|   section_6|Item 6. Selected ...|\n",
            "|1566373_2018.htm|1566373|2018|   section_7|Item 7. Managemen...|\n",
            "|1566373_2018.htm|1566373|2018|   section_8|Item 8. Financial...|\n",
            "|1566373_2018.htm|1566373|2018|  section_9A|Item 9A. Controls...|\n",
            "|1566373_2018.htm|1566373|2018|  section_9B|Item 9B. Other In...|\n",
            "|1566373_2018.htm|1566373|2018|  section_10|Item 10. Director...|\n",
            "|1566373_2018.htm|1566373|2018|  section_11|Item 11. Executiv...|\n",
            "|1566373_2018.htm|1566373|2018|  section_12|Item 12. Security...|\n",
            "|1566373_2018.htm|1566373|2018|  section_13|Item 13. Certain ...|\n",
            "|1566373_2018.htm|1566373|2018|  section_14|Item 14. Principa...|\n",
            "|1566373_2018.htm|1566373|2018|  section_15|Item 15. Exhibits...|\n",
            "|  88121_2019.htm|  88121|2019|   section_1|Item 1. Business\\...|\n",
            "|  88121_2019.htm|  88121|2019|   section_2|Item 2. Propertie...|\n",
            "|  88121_2019.htm|  88121|2019|   section_3|Item 3. Legal Pro...|\n",
            "|  88121_2019.htm|  88121|2019|   section_4|Item 4. Mine Safe...|\n",
            "+----------------+-------+----+------------+--------------------+\n",
            "only showing top 20 rows\n",
            "\n"
          ]
        }
      ],
      "source": [
        "section_cols = [f\"section_{i}\" if i not in ['9A', '9B'] else f\"section_{i}\" for i in list(range(1, 9)) + ['9A', '9B'] + list(range(10, 16))]\n",
        "df_melted = df.select(\n",
        "    col(\"filename\"),\n",
        "    col(\"cik\"),\n",
        "    col(\"year\"),\n",
        "    F.explode(F.array([\n",
        "        F.struct(F.lit(c).alias(\"section_name\"), col(c).alias(\"text\")) for c in section_cols\n",
        "    ])).alias(\"exploded\")\n",
        ").select(\n",
        "    \"filename\", \"cik\", \"year\", \"exploded.section_name\", \"exploded.text\"\n",
        ")\n",
        "df_melted.show()"
      ]
    },
    {
      "cell_type": "markdown",
      "metadata": {
        "id": "Z4X6_liVb2IH"
      },
      "source": [
        "## Check Shape Of DataFrame"
      ]
    },
    {
      "cell_type": "code",
      "execution_count": 111,
      "metadata": {
        "colab": {
          "base_uri": "https://localhost:8080/"
        },
        "id": "XbBwL-e2b0qN",
        "outputId": "d01970a9-8bf3-45a7-b8ee-2eab7841b42c"
      },
      "outputs": [
        {
          "name": "stdout",
          "output_type": "stream",
          "text": [
            "Shape: (48, 5)\n"
          ]
        }
      ],
      "source": [
        "# Number of rows\n",
        "num_rows = df_melted.count()\n",
        "\n",
        "# Number of columns\n",
        "num_cols = len(df_melted.columns)\n",
        "\n",
        "print(f\"Shape: ({num_rows}, {num_cols})\")"
      ]
    },
    {
      "cell_type": "markdown",
      "metadata": {
        "id": "1rlDQs1SchT4"
      },
      "source": [
        "## Implementing chunking on all sections data"
      ]
    },
    {
      "cell_type": "code",
      "execution_count": 112,
      "metadata": {
        "colab": {
          "base_uri": "https://localhost:8080/"
        },
        "id": "P-eXuJfxcgOG",
        "outputId": "b7b2d540-ea94-40c3-bd29-f7c8033641d3"
      },
      "outputs": [
        {
          "name": "stdout",
          "output_type": "stream",
          "text": [
            "+----------------+-------+----+------------+-----------+--------------------+\n",
            "|        filename|    cik|year|section_name|chunk_index|          chunk_text|\n",
            "+----------------+-------+----+------------+-----------+--------------------+\n",
            "|1566373_2018.htm|1566373|2018|   section_1|          0|Item 1. Business\\...|\n",
            "|1566373_2018.htm|1566373|2018|   section_1|          1|inarigivir 400mg ...|\n",
            "|1566373_2018.htm|1566373|2018|   section_1|          2|clinical trial in...|\n",
            "|1566373_2018.htm|1566373|2018|   section_1|          3|interferon recept...|\n",
            "|1566373_2018.htm|1566373|2018|   section_1|          4|serum HBV RNA, ar...|\n",
            "|1566373_2018.htm|1566373|2018|   section_1|          5|will evaluate in ...|\n",
            "|1566373_2018.htm|1566373|2018|   section_1|          6|modulating the ho...|\n",
            "|1566373_2018.htm|1566373|2018|   section_1|          7|Europe, Hong Kong...|\n",
            "|1566373_2018.htm|1566373|2018|   section_1|          8|any of our compou...|\n",
            "|1566373_2018.htm|1566373|2018|   section_1|          9|other countries a...|\n",
            "|1566373_2018.htm|1566373|2018|   section_1|         10|and optimal dosag...|\n",
            "|1566373_2018.htm|1566373|2018|   section_1|         11|product is or wil...|\n",
            "|1566373_2018.htm|1566373|2018|   section_1|         12|alternative treat...|\n",
            "|1566373_2018.htm|1566373|2018|   section_1|         13|approval, or comp...|\n",
            "|1566373_2018.htm|1566373|2018|   section_1|         14|and any other inf...|\n",
            "|1566373_2018.htm|1566373|2018|   section_1|         15|28 Member States ...|\n",
            "|1566373_2018.htm|1566373|2018|   section_1|         16|medicinal product...|\n",
            "|1566373_2018.htm|1566373|2018|   section_1|         17|and marketing aut...|\n",
            "|1566373_2018.htm|1566373|2018|   section_1|         18|products. Politic...|\n",
            "|1566373_2018.htm|1566373|2018|   section_1|         19|or IPAB, which ha...|\n",
            "+----------------+-------+----+------------+-----------+--------------------+\n",
            "only showing top 20 rows\n",
            "\n",
            "Shape: (116, 6)\n"
          ]
        }
      ],
      "source": [
        "# Step 1: Define UDF to chunk list of words into 500-word chunks\n",
        "def chunk_words(words, chunk_size=1000):\n",
        "    return [' '.join(words[i:i+chunk_size]) for i in range(0, len(words), chunk_size)]\n",
        "\n",
        "chunk_words_udf = udf(chunk_words, ArrayType(StringType()))\n",
        "\n",
        "# Step 2: Tokenize text\n",
        "df_tokenized = df_melted.withColumn(\"words\", split(col(\"text\"), \" \"))\n",
        "\n",
        "# Step 3: Create chunks from words\n",
        "df_chunked = df_tokenized.withColumn(\"chunks\", chunk_words_udf(col(\"words\")))\n",
        "\n",
        "df_final = df_chunked.select(\n",
        "    \"filename\", \"cik\", \"year\", \"section_name\",\n",
        "    posexplode(\"chunks\").alias(\"chunk_index\", \"chunk_text\")\n",
        ")\n",
        "\n",
        "df_final.show()\n",
        "\n",
        "# Number of rows\n",
        "num_rows = df_final.count()\n",
        "\n",
        "# Number of columns\n",
        "num_cols = len(df_final.columns)\n",
        "\n",
        "print(f\"Shape: ({num_rows}, {num_cols})\")"
      ]
    },
    {
      "cell_type": "markdown",
      "metadata": {
        "id": "PxSPfsK8Y9eb"
      },
      "source": [
        "## Extracting Attributes For Year 2020"
      ]
    },
    {
      "cell_type": "code",
      "execution_count": 113,
      "metadata": {
        "id": "BjytEwJ7dBbE"
      },
      "outputs": [],
      "source": [
        "model = SentenceTransformer('all-MiniLM-L6-v2')\n",
        "\n",
        "template = \"\"\"\n",
        "You are a financial analyst. Use the following 10-K report chunks to answer the question briefly and precisely.\n",
        "Respond in a few words only. No sentences, no explanations.\n",
        "\n",
        "Query: {query}\n",
        "\n",
        "Chunk 1:\n",
        "{chunk_1}\n",
        "\n",
        "Chunk 2:\n",
        "{chunk_2}\n",
        "\n",
        "Chunk 3:\n",
        "{chunk_3}\n",
        "\n",
        "Answer (few words only):\n",
        "\"\"\"\n",
        "\n",
        "def run_llm_query(query:str, year:int, template:str, model):\n",
        "\n",
        "  # Convert PySpark chunks to Pandas\n",
        "  chunks_pd = df_final.select( \"filename\", \"cik\", \"year\",\"section_name\",\"chunk_index\",\"chunk_text\").toPandas()\n",
        "\n",
        "  # Filter Based On year\n",
        "  chunks_pd = chunks_pd[chunks_pd['year'] == year]\n",
        "\n",
        "  # Creating Embedding Of Chunks\n",
        "  chunks_pd[\"augmented_text\"] = str(chunks_pd[\"cik\"]) + \"-\" + chunks_pd[\"section_name\"] + \": \" + chunks_pd[\"chunk_text\"]\n",
        "  chunks_pd[\"embedding\"] = chunks_pd[\"augmented_text\"].apply(lambda x: model.encode(x).tolist())\n",
        "\n",
        "  # Embed the query\n",
        "  query_embedding = model.encode([query])[0]\n",
        "\n",
        "  # Compute cosine similarity and get top 3 chunks\n",
        "  chunks_pd[\"similarity\"] = chunks_pd[\"embedding\"].apply(lambda x: cosine_similarity([query_embedding], [x])[0][0])\n",
        "  top_chunks = chunks_pd.sort_values(by=\"similarity\", ascending=False).head(3)\n",
        "\n",
        "\n",
        "\n",
        "  prompt = PromptTemplate(\n",
        "    input_variables=[\"query\", \"chunk_1\", \"chunk_2\", \"chunk_3\"],\n",
        "    template=template\n",
        "    )\n",
        "  llm = ChatGroq(model=\"llama3-70b-8192\", temperature=0.0,max_tokens = 100)\n",
        "  chain = LLMChain(llm=llm, prompt=prompt)\n",
        "  result = chain.run({\n",
        "      \"query\": query,\n",
        "      \"chunk_1\": top_chunks.iloc[0][\"chunk_text\"],\n",
        "      \"chunk_2\": top_chunks.iloc[1][\"chunk_text\"],\n",
        "      \"chunk_3\": top_chunks.iloc[2][\"chunk_text\"]\n",
        "  })\n",
        "  return result, top_chunks"
      ]
    },
    {
      "cell_type": "markdown",
      "metadata": {
        "id": "v60oOAMp67Ga"
      },
      "source": [
        "**Note** : LLM-based RAG was conducted on three different companies, each from a different year between 2018 and 2020, as no single company had filings available for all three years.\n",
        "\n",
        "|Year | cik |\n",
        "|-----|-----|\n",
        "|2018| 1566373|\n",
        "|2019|88121|\n",
        "|2020|718413|"
      ]
    },
    {
      "cell_type": "markdown",
      "metadata": {
        "id": "YaleG1GwmTLO"
      },
      "source": [
        "##  Attribute 1 : Business Information Of Company"
      ]
    },
    {
      "cell_type": "code",
      "execution_count": 114,
      "metadata": {
        "colab": {
          "base_uri": "https://localhost:8080/"
        },
        "id": "-Q_g7BpMhqf9",
        "outputId": "15d6b4b4-8079-4cef-bd5b-97634234dcbd"
      },
      "outputs": [
        {
          "name": "stdout",
          "output_type": "stream",
          "text": [
            "LLM Answer:\n",
            "Banking and financial services.\n"
          ]
        }
      ],
      "source": [
        "## ---------------------- FOR YEAR 2020 - cik 718413 -----------------\n",
        "\n",
        "# Attribute 1 : Business Information Of Company\n",
        "query = \"What is the business of the company as mentioned in the 10-K filing?\"\n",
        "year = 2020\n",
        "\n",
        "# Run your function\n",
        "answer, top_chunks = run_llm_query(query=query, year=year, template=template, model = model)\n",
        "\n",
        "# Show the output\n",
        "print(\"LLM Answer:\")\n",
        "print(answer)"
      ]
    },
    {
      "cell_type": "markdown",
      "metadata": {
        "id": "g2bjUvTamLuR"
      },
      "source": [
        "* Actual Answer : Banking and Financial Services"
      ]
    },
    {
      "cell_type": "code",
      "execution_count": 116,
      "metadata": {
        "colab": {
          "base_uri": "https://localhost:8080/",
          "height": 109
        },
        "id": "R5t7CF8XaB0D",
        "outputId": "8ec1557b-004b-4ac3-a96b-a28a6f860ccd"
      },
      "outputs": [
        {
          "data": {
            "application/vnd.google.colaboratory.intrinsic+json": {
              "type": "string"
            },
            "text/plain": [
              "'Item 1. The Business\\nOrganization and Operation\\nThe Company. The Company was organized under the laws of the State of Vermont in 1982 and became a registered bank holding company under the Bank Holding Company Act of 1956, as amended, in October 1983 when it acquired all of the voting shares of the Bank, headquartered in Derby, Vermont. The Bank is the only subsidiary of the Company and principally all of the Company’s business operations are presently conducted through it. Therefore, the following narrative and the other information about the Company contained in this report are based primarily on the Bank’s operations.\\nThe Bank; Banking Services. Community National Bank was organized in 1851 as the Peoples Bank, and was subsequently reorganized as the National Bank of Derby Line in 1865. In 1975, after 110 continuous years of operation as the National Bank of Derby Line, the Bank acquired the Island Pond National Bank and changed its name to “Community National Bank.” On December 31, 2007, the Company completed its acquisition of LyndonBank, a Vermont bank headquartered in Lyndonville, Vermont, in a cash merger transaction. As a result of the merger, the Company expanded its existing branch network in Caledonia and Orleans Counties and extended it into Lamoille and Franklin Counties. In addition to its main office in Derby, the Company currently maintains eleven branch offices in northeastern and central Vermont and loan production offices in Chittenden County, in northwestern Vermont, and Grafton County, in western New Hampshire.\\nThe opportunities for growth continue to be primarily in the Central Vermont and Chittenden County markets where economic activity is more robust than in the Company’s Orleans and Caledonia County markets, and where the Company is increasing its presence and market share. The Company is also focusing on expanding its presence in the neighboring state of New Hampshire through the opening of its loan production office in Lebanon, New Hampshire in 2019.\\nThe Company, through the Bank, provides a broad range of loan and deposit services to the residents, businesses, nonprofit organizations and municipalities in its northern and central Vermont markets. Significant services offered by the Company include:\\n·\\nBusiness Banking - The Company offers a range of credit products for a variety of general business purposes, including financing for commercial business properties, equipment, inventories and accounts receivable, as well as letters of credit. The Company also offers business checking and other deposit accounts, cash management services, repurchase agreements, ACH and wire transfer services, card processing and remote deposit capture.\\n·\\nCommercial Real Estate Lending - The Company provides a range of products to meet the financing needs of commercial developers and investors, residential builders and developers and community development entities. Credit products are available to facilitate the purchase of land and/or build structures for business use and for investors who are developing residential or commercial property, as well as for real estate secured financing of existing businesses. The Bank has previously been recognized by the SBA as Vermont’s top Section 7(a) program lender, providing financing to startups and other small businesses not eligible for more traditional financing, and as one of Vermont’s top third party small business lenders under the SBA’s Section 504 loan program.\\n·\\nResidential Real Estate Lending - The Company provides products to help meet the home financing needs of consumers, including conventional permanent and construction/permanent (fixed, adjustable, or variable rate) financing arrangements, and FHA/VA loan products. The Company offers both fixed-rate and adjustable rate residential mortgage (ARM) loans and home equity loans. A portion of the first lien residential mortgage loans originated by the Company are sold into the secondary market. The Company offers these products through its network of banking and loan production offices. The Company does not originate subprime residential real estate loans.\\n·\\nRetail Credit - The Company provides a full-range of loan products to meet the needs of consumers, including personal loans, automobile loans and boat/recreational vehicle loans. In addition, through a marketing alliance with a third party, the Company offers credit cards.\\n·\\nMunicipal and Institutional Banking - The Company provides banking services to meet the needs of state and local governments, schools, charities, membership and not-for-profit associations including deposit account services, tax-exempt loans, lines of credit and term loans. In addition, through an arrangement with the FHLBB, the Company offers a secured deposit product to its municipal customers, collateralized by FHLBB letters of credit.\\n·\\nRetail Banking - The Company provides a full-range of consumer banking services, including checking accounts, savings programs, ATMs, debit/credit cards, night deposit facilities and online, mobile and telephone banking.\\nThe Company focuses on establishing and maintaining long-term relationships with customers and is committed to providing for the financial services needs of the communities it serves. In particular, the Company continues to emphasize its relationships with individual customers and small-to-medium-sized businesses. The Company actively evaluates the banking needs of its markets, including low- and moderate-income areas, and offers products that are responsive to the needs of its customer base. The Company’s markets provide a mix of real estate, commercial and industrial, municipal and consumer lending opportunities, as well as a stable core deposit base. Additional information about our business, including the Company’s deposit-taking activities, lending activities and credit and risk management policies, is set forth under the caption “Management’s Discussion and Analysis of Financial Condition and Results of Operations” contained in the 2020 Annual Report filed as Exhibit 13 to this Report and is incorporated herein by reference.\\nRelated Trust Company. In 2002, the Bank transferred its trust operations to a newly formed Vermont-chartered non-depository trust and investment management company, CFSG, based in Newport, Vermont. The Bank’s ownership interest in CFSG is held indirectly, through CFS Partners, a Vermont limited liability company, which owns 100% of the limited liability company equity interests of CFSG. Immediately following transfer of its trust operations to CFSG, the Bank sold a two-thirds interest in CFS Partners, equally to the National Bank of Middlebury, headquartered in Middlebury, Vermont and Guaranty Bancorp Inc., the bank holding company parent of Woodsville Guaranty Savings Bank, headquartered in Woodsville, New Hampshire. CFSG offers fiduciary services throughout'"
            ]
          },
          "execution_count": 116,
          "metadata": {},
          "output_type": "execute_result"
        }
      ],
      "source": [
        "top_chunks[\"chunk_text\"].iloc[0]"
      ]
    },
    {
      "cell_type": "code",
      "execution_count": 117,
      "metadata": {
        "colab": {
          "base_uri": "https://localhost:8080/"
        },
        "id": "FcAqdozC5Beg",
        "outputId": "d658762e-626f-412f-a09c-cf229fff1f98"
      },
      "outputs": [
        {
          "name": "stdout",
          "output_type": "stream",
          "text": [
            "LLM Answer:\n",
            "Diverse global agribusiness and transportation company.\n"
          ]
        }
      ],
      "source": [
        "## ---------------------- FOR YEAR 2019 - cik 88121 -----------------\n",
        "\n",
        "# Attribute 1 : Business Information Of Company\n",
        "query = \"What is the business of the company as mentioned in the 10-K filing?\"\n",
        "year = 2019\n",
        "\n",
        "# Run your function\n",
        "answer, top_chunks = run_llm_query(query=query, year=year, template=template, model=model)\n",
        "\n",
        "# Show the output\n",
        "print(\"LLM Answer:\")\n",
        "print(answer)"
      ]
    },
    {
      "cell_type": "markdown",
      "metadata": {
        "id": "-HlX6FYdmTcy"
      },
      "source": [
        "* Actual Answer : Diverse Global Agribusiness and Transportation Company"
      ]
    },
    {
      "cell_type": "code",
      "execution_count": 121,
      "metadata": {
        "colab": {
          "base_uri": "https://localhost:8080/",
          "height": 109
        },
        "id": "83ZULzuT6L2J",
        "outputId": "3289932a-db76-4c45-f81b-c119c22fdb71"
      },
      "outputs": [
        {
          "data": {
            "application/vnd.google.colaboratory.intrinsic+json": {
              "type": "string"
            },
            "text/plain": [
              "'locations and applied auditor judgment to determine the locations at which procedures were to be performed. We tested certain internal controls over the Company’s revenue process, including controls related to the recognition and consolidation of global revenue amounts. We tested a sample of individual revenue transactions by comparing the amounts recognized by the Company to relevant underlying documentation such as contracts. In addition, we evaluated the overall sufficiency of audit evidence obtained over revenue.\\nWe have served as the Company’s auditor since 1959.\\nKansas City, Missouri\\nFebruary 19, 2020\\nSEABOARD CORPORATION\\nConsolidated Statements of Comprehensive Income\\nSee accompanying notes to consolidated financial statements.\\nSEABOARD CORPORATION\\nConsolidated Balance Sheets\\nSee accompanying notes to consolidated financial statements.\\nSEABOARD CORPORATION\\nConsolidated Statements of Cash Flows\\nSee accompanying notes to consolidated financial statements.\\nSEABOARD CORPORATION\\nConsolidated Statements of Changes in Equity\\nSee accompanying notes to consolidated financial statements.\\nSEABOARD CORPORATION\\nNotes to Consolidated Financial Statements\\nNote 1 - Summary of Significant Accounting Policies\\nOperations of Seaboard Corporation and its Subsidiaries\\nSeaboard Corporation and its subsidiaries (collectively, “Seaboard”) together comprise a diverse global agribusiness and transportation company. In the United States (“U.S.”), Seaboard is primarily engaged in hog production and pork processing and ocean transportation. Overseas, Seaboard is primarily engaged in commodity merchandising, grain processing, sugar and alcohol production and electric power generation. Seaboard also has an equity method investment in Butterball, LLC (“Butterball”), a producer and processor of branded and non-branded turkey products. Approximately 77% of the outstanding common stock of Seaboard is collectively owned by Seaboard Flour LLC and SFC Preferred, LLC.\\nPrinciples of Consolidation and Investments in Affiliates\\nThe consolidated financial statements include the accounts of Seaboard Corporation and its domestic and foreign subsidiaries. All significant intercompany balances and transactions have been eliminated in consolidation. Investments in non-controlled affiliates where we have significant influence are accounted for by the equity method. Financial information from certain foreign subsidiaries and affiliates is reported on a one- to three-month lag, depending on the specific entity. As Seaboard conducts its agricultural commodity trading business with third parties, consolidated subsidiaries and affiliates on an interrelated basis, cost of sales on affiliates cannot be clearly distinguished without making numerous assumptions, primarily with respect to mark-to-market accounting for commodity derivatives.\\nUse of Estimates\\nThe preparation of the consolidated financial statements in conformity with U.S. generally accepted accounting principles (“GAAP”) requires management to make estimates and assumptions that affect the reported amounts of assets and liabilities, the disclosure of contingent assets and liabilities at the date of the consolidated financial statements and the reported amounts of revenues and expenses during the reporting period. Significant items subject to such estimates and assumptions include those related to allowance for doubtful accounts, valuation of inventories, impairment of long-lived assets, potential write down related to investments in and advances to affiliates and notes receivable from affiliates, income taxes, lease liabilities and right of use (“ROU”) assets and accrued pension liability. Actual results could differ from those estimates.\\nForeign Currency Transactions and Translation\\nSeaboard has operations in several foreign countries, and the currencies of the countries fluctuate in relation to the U.S. dollar. Certain of the major contracts and transactions, however, are denominated in U.S. dollars. In addition, the value of the U.S. dollar fluctuates in relation to the currencies of countries where certain of Seaboard’s foreign subsidiaries and affiliates primarily conduct business. These fluctuations result in exchange gains and losses. The activities of these foreign subsidiaries and affiliates are primarily conducted with U.S. subsidiaries or operate in hyper-inflationary environments. As a result, the financial statements of certain foreign subsidiaries and affiliates are re-measured using the U.S. dollar as the functional currency. Certain CT&M segment consolidated subsidiaries located in Brazil, Canada, Guyana, Ivory Coast, Senegal, South Africa and Zambia use local currency as their functional currency. Also, certain non-controlled, non-consolidated affiliates of the CT&M and Sugar and Alcohol segments use local currency as their functional currency. Assets and liabilities of these subsidiaries are translated to U.S. dollars at year-end exchange rates, and income and expenses are translated at average rates. Translation gains and losses are recorded as components of other comprehensive income (loss). For the consolidated subsidiaries and non-consolidated affiliates, U.S. dollar denominated net asset or liability conversions to the local currency are recorded through income.\\nGAAP requires the use of highly inflationary accounting for countries whose cumulative three-year inflation exceeds 100%. In the second quarter of 2018, the Argentine peso rapidly devalued relative to the U.S. dollar, which along with increased inflation, indicated that the three-year cumulative inflation in that country exceeded 100%. As a result, Seaboard adopted highly inflationary accounting as of July 1, 2018 for Seaboard’s Sugar and Alcohol segment. Under highly inflationary accounting, the Sugar and Alcohol segment’s functional currency became the U.S. dollar, and its income statement and balance sheet are measured in U.S. dollars using both current and historical rates of exchange. The effect of changes in exchange rates on peso-denominated monetary assets and liabilities are reflected in foreign currency gains (losses), net. For the years ended December 31, 2019 and 2018, Seaboard recognized $(3) million and $9 million in foreign currency gains (losses) related to the adoption of highly inflationary accounting as a result of its net monetary liability position.\\nSEABOARD CORPORATION\\nNotes to Consolidated Financial Statements\\nCash and Cash Equivalents\\nFor purposes of the consolidated statements of cash flows, management considers all demand deposits, overnight investments and other investments with original maturities less than three months as cash equivalents.\\nSupplemental Cash Flow Information\\nFor the year ended December 31, 2019, cash paid for amounts included in the measurement of operating lease liabilities was $137 million, all included in net cash from operating activities. Cash paid for amounts included in the measurement of finance lease liabilities was $3 million, with principal payments of $2 million included in financing activities and interest of $1 million included in operating activities. Seaboard reports the amortization of ROU assets and the change in operating lease liabilities in other liabilities, exclusive of debt in the consolidated statement of cash flows. Right of use assets obtained in exchange for new and modified operating and finance lease liabilities were $95 million and $46 million, respectively, for the year'"
            ]
          },
          "execution_count": 121,
          "metadata": {},
          "output_type": "execute_result"
        }
      ],
      "source": [
        "# Show top chunk on which LLM answer is based on\n",
        "top_chunks[\"chunk_text\"].iloc[1]"
      ]
    },
    {
      "cell_type": "code",
      "execution_count": 122,
      "metadata": {
        "colab": {
          "base_uri": "https://localhost:8080/"
        },
        "id": "5K3jVh778N4d",
        "outputId": "ceeebd5f-5074-4536-9c12-1ff091fa5757"
      },
      "outputs": [
        {
          "name": "stdout",
          "output_type": "stream",
          "text": [
            "LLM Answer:\n",
            "Clinical-stage biopharmaceutical company.\n"
          ]
        }
      ],
      "source": [
        "## ---------------------- FOR YEAR 2018 cik - 1566373 -----------------\n",
        "\n",
        "# Attribute 1 : Business Information Of Company\n",
        "query = \"What is the business of the company as mentioned in the 10-K filing?\"\n",
        "year = 2018\n",
        "\n",
        "# Run your function\n",
        "answer, top_chunks = run_llm_query(query=query, year=year, template=template, model=model)\n",
        "\n",
        "# Show the output\n",
        "print(\"LLM Answer:\")\n",
        "print(answer)"
      ]
    },
    {
      "cell_type": "markdown",
      "metadata": {
        "id": "OCVYw-zhmhdt"
      },
      "source": [
        "* Actual Answer: Clinical Stage Biopharmaceutical Company."
      ]
    },
    {
      "cell_type": "code",
      "execution_count": 123,
      "metadata": {
        "colab": {
          "base_uri": "https://localhost:8080/",
          "height": 109
        },
        "id": "Co6g4Fqy8efO",
        "outputId": "442bcd85-1645-4a6c-94fc-35e8a5cdbdbd"
      },
      "outputs": [
        {
          "data": {
            "application/vnd.google.colaboratory.intrinsic+json": {
              "type": "string"
            },
            "text/plain": [
              "'Item 1. Business\\nOverview\\nWe are a clinical-stage biopharmaceutical company engaged in the discovery and development of a novel class of therapeutics for the treatment of viral infections, inflammatory diseases and certain cancers using our proprietary small molecule nucleotide platform. We design our compounds to selectively target and modulate the activity of specific proteins implicated in various disease states. We are developing our lead product candidate, inarigivir soproxil, or inarigivir, for the treatment of chronic hepatitis B virus, or HBV. We have designed our antiviral product candidates, including inarigivir, to selectively activate within infected hepatic cells the cellular protein, retinoic acid-inducible gene 1 (RIG-I), to inhibit viral replication and to cause the induction of intracellular interferon signaling pathways for antiviral defense. We believe that inarigivir, as a RIG-I agonist, could play an important role in antiviral therapy as a result of its dual mechanism of action that is designed to selectively modulate the body’s immune response and inhibit viral replication. We are also developing additional product candidates, including our lead STING (STimulator of INterferon Genes) agonist product candidate, SB 11285, which is an immunotherapeutic agent for the potential treatment of selected cancers.\\nThe following table summarizes the status of our development pipeline. We retain exclusive global commercial rights to all of our compounds.\\nChronic HBV Program\\nChronic HBV infection, which is defined by the presence of hepatitis B surface antigen, or HBsAg, for greater than six months, is a virus most commonly transmitted by contact with the blood or other bodily fluids of an infected person. Individuals with chronic HBV are at an increased risk of developing liver cancer, significant liver disease, or permanent scarring of the liver, leading to cirrhosis and liver failure. There is no approved cure for chronic HBV. Currently approved, standard of care therapies for the treatment of chronic HBV lack a broadly sustained response following the discontinuation of treatment and have significant limitations. Although treatment with pegylated interferon-a, or PEG-IFN- α, products can ultimately reduce the amount of HBV DNA, or viral load, in the body, this treatment only has a limited effect on the rate of loss or clearance of HBsAg. PEG-IFN- α products also have significant side effects, including flu-like symptoms and fever and, with long term use, can lead to suppression of the production of red and white blood cells, mood swings, depression, anxiety and other neuropsychiatric effects. Additionally, while nucleoside/tide analogue direct-acting oral antiviral agents such as entecavir (marketed by Bristol-Myers Squibb as Baraclude®), tenofovir disoproxil fumarate 300mg (TDF) (marketed by Gilead as Viread®), and tenofovir alafenamide 25mg (TAF) (marketed by Gilead as Vemlidy®), which we collectively refer to as “NUCs,” have demonstrated that they potently suppress HBV DNA, which\\ngenerally we refer to as “viral suppression” or “virally-suppressed,” they generally only suppress the virus during treatment without providing significant levels of HBsAg loss or clearance. Additionally, patients taking these NUCs likely require life-long treatment.\\nExperts and regulators have suggested that a “functional cure,” characterized as either the loss of HBsAg or complete suppression of HBV DNA production, both of which are sustained off therapy, should be the goal of any new curative HBV therapy. A functional cure for chronic HBV with a shorter, finite period of treatment could improve clinical prognosis with a reduction in the risks of cirrhosis and liver cancer.\\nInarigivir Clinical Trial Strategy. We are developing our lead product candidate, inarigivir, an orally-administered hepatic-selective immunomodulator, as a potential backbone in a combinatorial treatment for chronic HBV with the goal to accelerate and substantially increase chronic HBV functional cure rates in a simple, safe and selective manner.\\nACHIEVE Trial. We are currently evaluating inarigivir for the treatment of chronic HBV in a global Phase 2 multi-center clinical trial of inarigivir, which we refer to as the ACHIEVE trial. The ACHIEVE trial is being conducted under our first clinical trial supply and collaboration with Gilead Sciences, Inc., or Gilead. Approximately 80 treatment-naive patients infected with chronic HBV have received doses of 25mg, 50mg, 100mg or 200mg of inarigivir or a placebo as a monotherapy administered daily for 12 weeks, followed by all patients receiving a sequential dose of Viread for 12 weeks. The active-placebo randomization schedule was 4:1 in the inarigivir monotherapy dosing period.\\nIn the first three cohorts (25mg, 50mg and 100mg) of the ACHIEVE trial, 13 of 47 patients (28%) had a 0.5 log10 or greater reduction in HBsAg. Of these 13 responder patients, six were HBeAg-negative (-) patients and seven were HBeAg-positive (+) patients. Additionally, we have observed a dose dependent response of inarigivir on HBV DNA and HBV RNA over the first three cohorts. To date, inarigivir has been well tolerated in the ACHIEVE trial, with no inarigivir-related serious adverse events observed, and no flu-like symptoms or other interferon-like side effects.\\nAll patients in the final 200mg cohort of the ACHIEVE trial have completed dosing of Viread and top-line results from the final 200mg cohort will be presented at The International Liver Congress, the Annual Meeting of the European Association for the Study of the Liver (EASL) in April 2019.\\nGilead Collaboration. In July 2017, we entered into our second clinical trial collaboration agreement with Gilead under which Gilead is funding and conducting a Phase 2 clinical trial examining the co-administration of inarigivir and Vemlidy in patients infected with chronic HBV. This clinical trial collaboration was expanded in August 2018 to include two additional cohorts. In the first cohort of this Phase 2 trial, treatment-naive patients received 12 weeks of combination therapy with inarigivir 50mg and Vemlidy, while in the second cohort treatment-naive patients are receiving 12 weeks of combination therapy with inarigivir 200mg and Vemlidy. In a third cohort, Gilead is evaluating the administration of inarigivir 100mg in virally-suppressed patients who are already are and continue to be treated with a NUC. While we have approved the protocol for this trial under a joint steering committee, Gilead is conducting this trial at their own expense.\\nCATALYST Trials. We plan to initiate in the first half of 2019 two major Phase 2 global trials examining the administration of'"
            ]
          },
          "execution_count": 123,
          "metadata": {},
          "output_type": "execute_result"
        }
      ],
      "source": [
        "# Show top chunk on which LLM answer is based on\n",
        "top_chunks['chunk_text'].iloc[0]"
      ]
    },
    {
      "cell_type": "markdown",
      "metadata": {
        "id": "3TsfsHfk4cl1"
      },
      "source": [
        "## Attribute 2: Company Legal Proceedings"
      ]
    },
    {
      "cell_type": "code",
      "execution_count": 124,
      "metadata": {
        "colab": {
          "base_uri": "https://localhost:8080/"
        },
        "id": "zdC6hyEPlSm8",
        "outputId": "a6c5954a-a4f5-4784-c827-d6f92710e91b"
      },
      "outputs": [
        {
          "name": "stdout",
          "output_type": "stream",
          "text": [
            "LLM Answer:\n",
            "Routine litigation incidental to banking business.\n"
          ]
        }
      ],
      "source": [
        "## ---------------------- FOR YEAR 2020 - cik 718413 ---------------------\n",
        "query = \"What legal proceedings has the company disclosed?\"\n",
        "year = 2020\n",
        "\n",
        "# Run your function\n",
        "answer, top_chunks = run_llm_query(query=query, year=year, template=template, model=model)\n",
        "\n",
        "# Show the output\n",
        "print(\"LLM Answer:\")\n",
        "print(answer)"
      ]
    },
    {
      "cell_type": "markdown",
      "metadata": {
        "id": "OmgSae2QmvBr"
      },
      "source": [
        "Actual Answer : Routine litigation incidental to banking business."
      ]
    },
    {
      "cell_type": "code",
      "execution_count": 125,
      "metadata": {
        "colab": {
          "base_uri": "https://localhost:8080/",
          "height": 54
        },
        "id": "OuAxbNoM87ZH",
        "outputId": "b503c890-7816-40ff-e670-d3bd1bc41b8b"
      },
      "outputs": [
        {
          "data": {
            "application/vnd.google.colaboratory.intrinsic+json": {
              "type": "string"
            },
            "text/plain": [
              "'Item 3. Legal Proceedings\\nThere are no pending legal proceedings to which the Company or the Bank is a party or of which any of its property is the subject, other than routine litigation incidental to its banking business, none of which, in the opinion of management, is material to the Company’s consolidated operations or financial condition.\\nItem 4.'"
            ]
          },
          "execution_count": 125,
          "metadata": {},
          "output_type": "execute_result"
        }
      ],
      "source": [
        "# Show top chunk on which LLM answer is based on\n",
        "top_chunks['chunk_text'].iloc[0]"
      ]
    },
    {
      "cell_type": "code",
      "execution_count": 82,
      "metadata": {
        "colab": {
          "base_uri": "https://localhost:8080/"
        },
        "id": "lllF4he99LmS",
        "outputId": "98cc5fd0-7720-4be8-c0c9-1ee2f1923058"
      },
      "outputs": [
        {
          "name": "stdout",
          "output_type": "stream",
          "text": [
            "LLM Answer:\n",
            "Cereoil, Nolston, AFMLS.\n"
          ]
        }
      ],
      "source": [
        "## ---------------------- FOR YEAR 2019 - cik 88121 -----------------\n",
        "query = \"What legal proceedings has the company disclosed?\"\n",
        "year = 2019\n",
        "\n",
        "# Run your function\n",
        "answer, top_chunks = run_llm_query(query=query, year=year, template=template, model=model)\n",
        "\n",
        "# Show the output\n",
        "print(\"LLM Answer:\")\n",
        "print(answer)"
      ]
    },
    {
      "cell_type": "markdown",
      "metadata": {
        "id": "2YOLpW_3m5PR"
      },
      "source": [
        "Actual Answer : S.A. (“Cereoil”) ,  Asset Forfeiture and Money Laundering Section (“AFMLS”) , Nolston S.A. (“Nolston”)"
      ]
    },
    {
      "cell_type": "code",
      "execution_count": 83,
      "metadata": {
        "colab": {
          "base_uri": "https://localhost:8080/",
          "height": 109
        },
        "id": "vGNprQZN9sSj",
        "outputId": "03069727-70b6-4ee2-d871-266288bd106c"
      },
      "outputs": [
        {
          "data": {
            "application/vnd.google.colaboratory.intrinsic+json": {
              "type": "string"
            },
            "text/plain": [
              "'S.A. (“Cereoil”) filed a suit in the Bankruptcy Court of First Instance in Uruguay that was served during the second quarter of 2018 naming as parties Seaboard and Seaboard’s subsidiaries, Seaboard Overseas Limited (“SOL”) and Seaboard Uruguay Holdings Ltd. (“Seaboard Uruguay”). Seaboard has a 45% indirect ownership of Cereoil. The suit seeks an order requiring Seaboard, SOL and Seaboard Uruguay to reimburse Cereoil the amount of $22 million, contending that deliveries of soybeans to SOL pursuant to purchase agreements should be set aside as fraudulent conveyances. Seaboard intends to defend this case vigorously. It is impossible at this stage to determine the probability of a favorable or unfavorable outcome resulting from this suit. In the event of an adverse ruling, Seaboard and its two subsidiaries could be ordered to pay the amount of $22 million. Any award in this case would offset against any award in the additional case described below filed by the Trustee on April 27, 2018.\\nOn April 27, 2018, the Trustee for Cereoil filed another suit in the Bankruptcy Court of First Instance in Uruguay that was served during the second quarter of 2018 naming as parties Seaboard, SOL, Seaboard Uruguay, all directors of Cereoil, including two individuals employed by Seaboard who served as directors at the behest of Seaboard, and the Chief Financial Officer of Cereoil, an employee of Seaboard who also served at the behest of Seaboard (collectively, the “Cereoil Defendants”). The Trustee contends that the Cereoil Defendants acted with willful misconduct to cause Cereoil’s insolvency, and thus should be ordered to pay all liabilities of Cereoil, net of assets. The bankruptcy filing lists total liabilities of $53 million and assets of $30 million. Seaboard intends to defend this case vigorously. It is impossible at this stage to determine the probability of a favorable or unfavorable outcome resulting from this suit. In the event of an adverse ruling, Seaboard and the other Cereoil Defendants could be ordered to pay the amount of the net indebtedness of Cereoil, which based on the bankruptcy schedules would total $23 million. It is possible that the net indebtedness could be higher than this amount if Cereoil’s liabilities are greater than $53 million and/or Cereoil’s assets are worth less than $30 million.\\nSEABOARD CORPORATION\\nNotes to Consolidated Financial Statements\\nIn addition, in the event of an adverse ruling, the Bankruptcy Court of First Instance could order payment of the Trustee’s professional fees, interest, and other expenses. Any award in this case would offset against any award in the case described above filed on March 20, 2018.\\nA creditor of Cereoil which has a claim in the bankruptcy proceeding pending in Uruguay of approximately $10 million, plus accrued interest, has threatened to bring legal action in the U.S. against Seaboard alleging on various legal theories that Seaboard is responsible for this same indebtedness. Seaboard will vigorously defend this action should it be brought.\\nOn May 15, 2018, the Trustee for Nolston S.A. (“Nolston”) filed a suit in the Bankruptcy Court of First Instance in Uruguay that was served during the second quarter of 2018 naming as parties Seaboard and the other Cereoil Defendants. Seaboard has a 45% indirect ownership of Nolston. The Trustee contends that the Cereoil Defendants acted with willful misconduct to cause Nolston’s insolvency, and thus should be ordered to pay all liabilities of Nolston, net of assets. The bankruptcy filing lists total liabilities of $29 million and assets of $15 million. Seaboard intends to defend this case vigorously. It is impossible at this stage to determine the probability of a favorable or unfavorable outcome resulting from this suit. In the event of an adverse ruling, Seaboard and the other Cereoil Defendants could be ordered to pay the amount of the net indebtedness of Nolston, which based on the bankruptcy schedules would total $14 million. It is possible that the net indebtedness could be higher than this amount if Nolston’s liabilities are greater than $29 million and/or Nolston’s assets are worth less than $15 million. In addition, in the event of an adverse ruling, the Bankruptcy Court of First Instance could order payment of the Trustee’s professional fees, interest, and other expenses.\\nOn September 18, 2014, and subsequently in 2015 and 2016, Seaboard received a number of grand jury subpoenas and informal requests for information from the Department of Justice, Asset Forfeiture and Money Laundering Section (“AFMLS”), seeking records related to specified foreign companies and individuals. The companies and individuals as to which the requested records relate were not affiliated with Seaboard, although Seaboard has also received subpoenas and requests for additional information relating to an affiliate of Seaboard. During 2017, Seaboard received grand jury subpoenas requesting documents and information related to money transfers and bank accounts in the Democratic Republic of Congo and other African countries and requests to interview certain Seaboard employees and to obtain testimony before a grand jury. Seaboard retained outside counsel and cooperated with the government’s investigation. There has been no further communication from AFMLS for more than 18 months and to the knowledge of Seaboard, there has been no further action taken by AFMLS. As such, unless further communication is received from AFMLS or action is taken by AFMLS, disclosure of the matter described in this paragraph will not appear in Seaboard’s future SEC periodic reports.\\nSeaboard is subject to various administrative and judicial proceedings and other legal matters related to the normal conduct of its business. In the opinion of management, the ultimate resolution of these items is not expected to have a material adverse effect on the consolidated financial statements of Seaboard.\\nGuarantees\\nCertain of the non-consolidated affiliates and third-party contractors who perform services for Seaboard have bank debt supporting their underlying operations. From time to time, Seaboard will provide guarantees of that debt in order to further Seaboard’s business objectives. Seaboard does not issue guarantees for compensation. As of December 31, 2019, guarantees outstanding were not material. Seaboard has not accrued a liability for any of the guarantees as management considers the likelihood of loss to be remote. See'"
            ]
          },
          "execution_count": 83,
          "metadata": {},
          "output_type": "execute_result"
        }
      ],
      "source": [
        "# Show top chunk on which LLM answer is based on\n",
        "top_chunks['chunk_text'].iloc[1]"
      ]
    },
    {
      "cell_type": "code",
      "execution_count": 84,
      "metadata": {
        "colab": {
          "base_uri": "https://localhost:8080/"
        },
        "id": "Mn-jbRN79dbB",
        "outputId": "77694b06-a535-4ea4-a5dc-5a8b81751bb3"
      },
      "outputs": [
        {
          "name": "stdout",
          "output_type": "stream",
          "text": [
            "LLM Answer:\n",
            "None disclosed.\n"
          ]
        }
      ],
      "source": [
        "## ---------------------- FOR YEAR 2018 - cik 1566373 -----------------\n",
        "query = \"What legal proceedings has the company disclosed?\"\n",
        "year = 2018\n",
        "\n",
        "# Run your function\n",
        "answer, top_chunks = run_llm_query(query=query, year=year, template=template, model=model)\n",
        "\n",
        "# Show the output\n",
        "print(\"LLM Answer:\")\n",
        "print(answer)"
      ]
    },
    {
      "cell_type": "markdown",
      "metadata": {
        "id": "D3elF1G-neB4"
      },
      "source": [
        "* Actual Answer : No Information available"
      ]
    },
    {
      "cell_type": "code",
      "execution_count": 85,
      "metadata": {
        "colab": {
          "base_uri": "https://localhost:8080/",
          "height": 143
        },
        "id": "bRHstHVo-qyP",
        "outputId": "3f4b8ab2-5cda-441c-c0d5-c2eaaf5e0700"
      },
      "outputs": [
        {
          "data": {
            "application/vnd.google.colaboratory.intrinsic+json": {
              "summary": "{\n  \"name\": \"top_chunks\",\n  \"rows\": 3,\n  \"fields\": [\n    {\n      \"column\": \"filename\",\n      \"properties\": {\n        \"dtype\": \"category\",\n        \"num_unique_values\": 1,\n        \"samples\": [\n          \"1566373_2018.htm\"\n        ],\n        \"semantic_type\": \"\",\n        \"description\": \"\"\n      }\n    },\n    {\n      \"column\": \"cik\",\n      \"properties\": {\n        \"dtype\": \"int32\",\n        \"num_unique_values\": 1,\n        \"samples\": [\n          1566373\n        ],\n        \"semantic_type\": \"\",\n        \"description\": \"\"\n      }\n    },\n    {\n      \"column\": \"year\",\n      \"properties\": {\n        \"dtype\": \"int32\",\n        \"num_unique_values\": 1,\n        \"samples\": [\n          2018\n        ],\n        \"semantic_type\": \"\",\n        \"description\": \"\"\n      }\n    },\n    {\n      \"column\": \"section_name\",\n      \"properties\": {\n        \"dtype\": \"category\",\n        \"num_unique_values\": 1,\n        \"samples\": [\n          \"section_1\"\n        ],\n        \"semantic_type\": \"\",\n        \"description\": \"\"\n      }\n    },\n    {\n      \"column\": \"chunk_index\",\n      \"properties\": {\n        \"dtype\": \"int32\",\n        \"num_unique_values\": 3,\n        \"samples\": [\n          0\n        ],\n        \"semantic_type\": \"\",\n        \"description\": \"\"\n      }\n    },\n    {\n      \"column\": \"chunk_text\",\n      \"properties\": {\n        \"dtype\": \"string\",\n        \"num_unique_values\": 3,\n        \"samples\": [\n          \"Item 1. Business\\nOverview\\nWe are a clinical-stage biopharmaceutical company engaged in the discovery and development of a novel class of therapeutics for the treatment of viral infections, inflammatory diseases and certain cancers using our proprietary small molecule nucleotide platform. We design our compounds to selectively target and modulate the activity of specific proteins implicated in various disease states. We are developing our lead product candidate, inarigivir soproxil, or inarigivir, for the treatment of chronic hepatitis B virus, or HBV. We have designed our antiviral product candidates, including inarigivir, to selectively activate within infected hepatic cells the cellular protein, retinoic acid-inducible gene 1 (RIG-I), to inhibit viral replication and to cause the induction of intracellular interferon signaling pathways for antiviral defense. We believe that inarigivir, as a RIG-I agonist, could play an important role in antiviral therapy as a result of its dual mechanism of action that is designed to selectively modulate the body\\u2019s immune response and inhibit viral replication. We are also developing additional product candidates, including our lead STING (STimulator of INterferon Genes) agonist product candidate, SB 11285, which is an immunotherapeutic agent for the potential treatment of selected cancers.\\nThe following table summarizes the status of our development pipeline. We retain exclusive global commercial rights to all of our compounds.\\nChronic HBV Program\\nChronic HBV infection, which is defined by the presence of hepatitis B surface antigen, or HBsAg, for greater than six months, is a virus most commonly transmitted by contact with the blood or other bodily fluids of an infected person. Individuals with chronic HBV are at an increased risk of developing liver cancer, significant liver disease, or permanent scarring of the liver, leading to cirrhosis and liver failure. There is no approved cure for chronic HBV. Currently approved, standard of care therapies for the treatment of chronic HBV lack a broadly sustained response following the discontinuation of treatment and have significant limitations. Although treatment with pegylated interferon-a, or PEG-IFN- \\u03b1, products can ultimately reduce the amount of HBV DNA, or viral load, in the body, this treatment only has a limited effect on the rate of loss or clearance of HBsAg. PEG-IFN- \\u03b1 products also have significant side effects, including flu-like symptoms and fever and, with long term use, can lead to suppression of the production of red and white blood cells, mood swings, depression, anxiety and other neuropsychiatric effects. Additionally, while nucleoside/tide analogue direct-acting oral antiviral agents such as entecavir (marketed by Bristol-Myers Squibb as Baraclude\\u00ae), tenofovir disoproxil fumarate 300mg (TDF) (marketed by Gilead as Viread\\u00ae), and tenofovir alafenamide 25mg (TAF) (marketed by Gilead as Vemlidy\\u00ae), which we collectively refer to as \\u201cNUCs,\\u201d have demonstrated that they potently suppress HBV DNA, which\\ngenerally we refer to as \\u201cviral suppression\\u201d or \\u201cvirally-suppressed,\\u201d they generally only suppress the virus during treatment without providing significant levels of HBsAg loss or clearance. Additionally, patients taking these NUCs likely require life-long treatment.\\nExperts and regulators have suggested that a \\u201cfunctional cure,\\u201d characterized as either the loss of HBsAg or complete suppression of HBV DNA production, both of which are sustained off therapy, should be the goal of any new curative HBV therapy. A functional cure for chronic HBV with a shorter, finite period of treatment could improve clinical prognosis with a reduction in the risks of cirrhosis and liver cancer.\\nInarigivir Clinical Trial Strategy. We are developing our lead product candidate, inarigivir, an orally-administered hepatic-selective immunomodulator, as a potential backbone in a combinatorial treatment for chronic HBV with the goal to accelerate and substantially increase chronic HBV functional cure rates in a simple, safe and selective manner.\\nACHIEVE Trial. We are currently evaluating inarigivir for the treatment of chronic HBV in a global Phase 2 multi-center clinical trial of inarigivir, which we refer to as the ACHIEVE trial. The ACHIEVE trial is being conducted under our first clinical trial supply and collaboration with Gilead Sciences, Inc., or Gilead. Approximately 80 treatment-naive patients infected with chronic HBV have received doses of 25mg, 50mg, 100mg or 200mg of inarigivir or a placebo as a monotherapy administered daily for 12 weeks, followed by all patients receiving a sequential dose of Viread for 12 weeks. The active-placebo randomization schedule was 4:1 in the inarigivir monotherapy dosing period.\\nIn the first three cohorts (25mg, 50mg and 100mg) of the ACHIEVE trial, 13 of 47 patients (28%) had a 0.5 log10 or greater reduction in HBsAg. Of these 13 responder patients, six were HBeAg-negative (-) patients and seven were HBeAg-positive (+) patients. Additionally, we have observed a dose dependent response of inarigivir on HBV DNA and HBV RNA over the first three cohorts. To date, inarigivir has been well tolerated in the ACHIEVE trial, with no inarigivir-related serious adverse events observed, and no flu-like symptoms or other interferon-like side effects.\\nAll patients in the final 200mg cohort of the ACHIEVE trial have completed dosing of Viread and top-line results from the final 200mg cohort will be presented at The International Liver Congress, the Annual Meeting of the European Association for the Study of the Liver (EASL) in April 2019.\\nGilead Collaboration. In July 2017, we entered into our second clinical trial collaboration agreement with Gilead under which Gilead is funding and conducting a Phase 2 clinical trial examining the co-administration of inarigivir and Vemlidy in patients infected with chronic HBV. This clinical trial collaboration was expanded in August 2018 to include two additional cohorts. In the first cohort of this Phase 2 trial, treatment-naive patients received 12 weeks of combination therapy with inarigivir 50mg and Vemlidy, while in the second cohort treatment-naive patients are receiving 12 weeks of combination therapy with inarigivir 200mg and Vemlidy. In a third cohort, Gilead is evaluating the administration of inarigivir 100mg in virally-suppressed patients who are already are and continue to be treated with a NUC. While we have approved the protocol for this trial under a joint steering committee, Gilead is conducting this trial at their own expense.\\nCATALYST Trials. We plan to initiate in the first half of 2019 two major Phase 2 global trials examining the administration of\"\n        ],\n        \"semantic_type\": \"\",\n        \"description\": \"\"\n      }\n    },\n    {\n      \"column\": \"augmented_text\",\n      \"properties\": {\n        \"dtype\": \"string\",\n        \"num_unique_values\": 3,\n        \"samples\": [\n          \"0     1566373\\n1     1566373\\n2     1566373\\n3     1566373\\n4     1566373\\n5     1566373\\n6     1566373\\n7     1566373\\n8     1566373\\n9     1566373\\n10    1566373\\n11    1566373\\n12    1566373\\n13    1566373\\n14    1566373\\n15    1566373\\n16    1566373\\n17    1566373\\n18    1566373\\n19    1566373\\n20    1566373\\n21    1566373\\n22    1566373\\n23    1566373\\n24    1566373\\n25    1566373\\n26    1566373\\n27    1566373\\n28    1566373\\n29    1566373\\n30    1566373\\n31    1566373\\n32    1566373\\n33    1566373\\n34    1566373\\n35    1566373\\n36    1566373\\n37    1566373\\n38    1566373\\n39    1566373\\n40    1566373\\n41    1566373\\n42    1566373\\n43    1566373\\n44    1566373\\n45    1566373\\n46    1566373\\n47    1566373\\n48    1566373\\n49    1566373\\n50    1566373\\n51    1566373\\nName: cik, dtype: int32-section_1: Item 1. Business\\nOverview\\nWe are a clinical-stage biopharmaceutical company engaged in the discovery and development of a novel class of therapeutics for the treatment of viral infections, inflammatory diseases and certain cancers using our proprietary small molecule nucleotide platform. We design our compounds to selectively target and modulate the activity of specific proteins implicated in various disease states. We are developing our lead product candidate, inarigivir soproxil, or inarigivir, for the treatment of chronic hepatitis B virus, or HBV. We have designed our antiviral product candidates, including inarigivir, to selectively activate within infected hepatic cells the cellular protein, retinoic acid-inducible gene 1 (RIG-I), to inhibit viral replication and to cause the induction of intracellular interferon signaling pathways for antiviral defense. We believe that inarigivir, as a RIG-I agonist, could play an important role in antiviral therapy as a result of its dual mechanism of action that is designed to selectively modulate the body\\u2019s immune response and inhibit viral replication. We are also developing additional product candidates, including our lead STING (STimulator of INterferon Genes) agonist product candidate, SB 11285, which is an immunotherapeutic agent for the potential treatment of selected cancers.\\nThe following table summarizes the status of our development pipeline. We retain exclusive global commercial rights to all of our compounds.\\nChronic HBV Program\\nChronic HBV infection, which is defined by the presence of hepatitis B surface antigen, or HBsAg, for greater than six months, is a virus most commonly transmitted by contact with the blood or other bodily fluids of an infected person. Individuals with chronic HBV are at an increased risk of developing liver cancer, significant liver disease, or permanent scarring of the liver, leading to cirrhosis and liver failure. There is no approved cure for chronic HBV. Currently approved, standard of care therapies for the treatment of chronic HBV lack a broadly sustained response following the discontinuation of treatment and have significant limitations. Although treatment with pegylated interferon-a, or PEG-IFN- \\u03b1, products can ultimately reduce the amount of HBV DNA, or viral load, in the body, this treatment only has a limited effect on the rate of loss or clearance of HBsAg. PEG-IFN- \\u03b1 products also have significant side effects, including flu-like symptoms and fever and, with long term use, can lead to suppression of the production of red and white blood cells, mood swings, depression, anxiety and other neuropsychiatric effects. Additionally, while nucleoside/tide analogue direct-acting oral antiviral agents such as entecavir (marketed by Bristol-Myers Squibb as Baraclude\\u00ae), tenofovir disoproxil fumarate 300mg (TDF) (marketed by Gilead as Viread\\u00ae), and tenofovir alafenamide 25mg (TAF) (marketed by Gilead as Vemlidy\\u00ae), which we collectively refer to as \\u201cNUCs,\\u201d have demonstrated that they potently suppress HBV DNA, which\\ngenerally we refer to as \\u201cviral suppression\\u201d or \\u201cvirally-suppressed,\\u201d they generally only suppress the virus during treatment without providing significant levels of HBsAg loss or clearance. Additionally, patients taking these NUCs likely require life-long treatment.\\nExperts and regulators have suggested that a \\u201cfunctional cure,\\u201d characterized as either the loss of HBsAg or complete suppression of HBV DNA production, both of which are sustained off therapy, should be the goal of any new curative HBV therapy. A functional cure for chronic HBV with a shorter, finite period of treatment could improve clinical prognosis with a reduction in the risks of cirrhosis and liver cancer.\\nInarigivir Clinical Trial Strategy. We are developing our lead product candidate, inarigivir, an orally-administered hepatic-selective immunomodulator, as a potential backbone in a combinatorial treatment for chronic HBV with the goal to accelerate and substantially increase chronic HBV functional cure rates in a simple, safe and selective manner.\\nACHIEVE Trial. We are currently evaluating inarigivir for the treatment of chronic HBV in a global Phase 2 multi-center clinical trial of inarigivir, which we refer to as the ACHIEVE trial. The ACHIEVE trial is being conducted under our first clinical trial supply and collaboration with Gilead Sciences, Inc., or Gilead. Approximately 80 treatment-naive patients infected with chronic HBV have received doses of 25mg, 50mg, 100mg or 200mg of inarigivir or a placebo as a monotherapy administered daily for 12 weeks, followed by all patients receiving a sequential dose of Viread for 12 weeks. The active-placebo randomization schedule was 4:1 in the inarigivir monotherapy dosing period.\\nIn the first three cohorts (25mg, 50mg and 100mg) of the ACHIEVE trial, 13 of 47 patients (28%) had a 0.5 log10 or greater reduction in HBsAg. Of these 13 responder patients, six were HBeAg-negative (-) patients and seven were HBeAg-positive (+) patients. Additionally, we have observed a dose dependent response of inarigivir on HBV DNA and HBV RNA over the first three cohorts. To date, inarigivir has been well tolerated in the ACHIEVE trial, with no inarigivir-related serious adverse events observed, and no flu-like symptoms or other interferon-like side effects.\\nAll patients in the final 200mg cohort of the ACHIEVE trial have completed dosing of Viread and top-line results from the final 200mg cohort will be presented at The International Liver Congress, the Annual Meeting of the European Association for the Study of the Liver (EASL) in April 2019.\\nGilead Collaboration. In July 2017, we entered into our second clinical trial collaboration agreement with Gilead under which Gilead is funding and conducting a Phase 2 clinical trial examining the co-administration of inarigivir and Vemlidy in patients infected with chronic HBV. This clinical trial collaboration was expanded in August 2018 to include two additional cohorts. In the first cohort of this Phase 2 trial, treatment-naive patients received 12 weeks of combination therapy with inarigivir 50mg and Vemlidy, while in the second cohort treatment-naive patients are receiving 12 weeks of combination therapy with inarigivir 200mg and Vemlidy. In a third cohort, Gilead is evaluating the administration of inarigivir 100mg in virally-suppressed patients who are already are and continue to be treated with a NUC. While we have approved the protocol for this trial under a joint steering committee, Gilead is conducting this trial at their own expense.\\nCATALYST Trials. We plan to initiate in the first half of 2019 two major Phase 2 global trials examining the administration of\"\n        ],\n        \"semantic_type\": \"\",\n        \"description\": \"\"\n      }\n    },\n    {\n      \"column\": \"embedding\",\n      \"properties\": {\n        \"dtype\": \"object\",\n        \"semantic_type\": \"\",\n        \"description\": \"\"\n      }\n    },\n    {\n      \"column\": \"similarity\",\n      \"properties\": {\n        \"dtype\": \"number\",\n        \"std\": 0.0,\n        \"min\": -0.07925306602454014,\n        \"max\": -0.07925306602454014,\n        \"num_unique_values\": 1,\n        \"samples\": [\n          -0.07925306602454014\n        ],\n        \"semantic_type\": \"\",\n        \"description\": \"\"\n      }\n    }\n  ]\n}",
              "type": "dataframe",
              "variable_name": "top_chunks"
            },
            "text/html": [
              "\n",
              "  <div id=\"df-8a5a93c3-c19c-4b45-a7a9-660bc5eac59f\" class=\"colab-df-container\">\n",
              "    <div>\n",
              "<style scoped>\n",
              "    .dataframe tbody tr th:only-of-type {\n",
              "        vertical-align: middle;\n",
              "    }\n",
              "\n",
              "    .dataframe tbody tr th {\n",
              "        vertical-align: top;\n",
              "    }\n",
              "\n",
              "    .dataframe thead th {\n",
              "        text-align: right;\n",
              "    }\n",
              "</style>\n",
              "<table border=\"1\" class=\"dataframe\">\n",
              "  <thead>\n",
              "    <tr style=\"text-align: right;\">\n",
              "      <th></th>\n",
              "      <th>filename</th>\n",
              "      <th>cik</th>\n",
              "      <th>year</th>\n",
              "      <th>section_name</th>\n",
              "      <th>chunk_index</th>\n",
              "      <th>chunk_text</th>\n",
              "      <th>augmented_text</th>\n",
              "      <th>embedding</th>\n",
              "      <th>similarity</th>\n",
              "    </tr>\n",
              "  </thead>\n",
              "  <tbody>\n",
              "    <tr>\n",
              "      <th>0</th>\n",
              "      <td>1566373_2018.htm</td>\n",
              "      <td>1566373</td>\n",
              "      <td>2018</td>\n",
              "      <td>section_1</td>\n",
              "      <td>0</td>\n",
              "      <td>Item 1. Business\\nOverview\\nWe are a clinical-...</td>\n",
              "      <td>0     1566373\\n1     1566373\\n2     1566373\\n3...</td>\n",
              "      <td>[0.009221972897648811, -0.0379352867603302, -0...</td>\n",
              "      <td>-0.079253</td>\n",
              "    </tr>\n",
              "    <tr>\n",
              "      <th>1</th>\n",
              "      <td>1566373_2018.htm</td>\n",
              "      <td>1566373</td>\n",
              "      <td>2018</td>\n",
              "      <td>section_1</td>\n",
              "      <td>1</td>\n",
              "      <td>inarigivir 400mg in different patient populati...</td>\n",
              "      <td>0     1566373\\n1     1566373\\n2     1566373\\n3...</td>\n",
              "      <td>[0.009221972897648811, -0.0379352867603302, -0...</td>\n",
              "      <td>-0.079253</td>\n",
              "    </tr>\n",
              "    <tr>\n",
              "      <th>2</th>\n",
              "      <td>1566373_2018.htm</td>\n",
              "      <td>1566373</td>\n",
              "      <td>2018</td>\n",
              "      <td>section_1</td>\n",
              "      <td>2</td>\n",
              "      <td>clinical trial in cancer later in 2019. SB 112...</td>\n",
              "      <td>0     1566373\\n1     1566373\\n2     1566373\\n3...</td>\n",
              "      <td>[0.009221972897648811, -0.0379352867603302, -0...</td>\n",
              "      <td>-0.079253</td>\n",
              "    </tr>\n",
              "  </tbody>\n",
              "</table>\n",
              "</div>\n",
              "    <div class=\"colab-df-buttons\">\n",
              "\n",
              "  <div class=\"colab-df-container\">\n",
              "    <button class=\"colab-df-convert\" onclick=\"convertToInteractive('df-8a5a93c3-c19c-4b45-a7a9-660bc5eac59f')\"\n",
              "            title=\"Convert this dataframe to an interactive table.\"\n",
              "            style=\"display:none;\">\n",
              "\n",
              "  <svg xmlns=\"http://www.w3.org/2000/svg\" height=\"24px\" viewBox=\"0 -960 960 960\">\n",
              "    <path d=\"M120-120v-720h720v720H120Zm60-500h600v-160H180v160Zm220 220h160v-160H400v160Zm0 220h160v-160H400v160ZM180-400h160v-160H180v160Zm440 0h160v-160H620v160ZM180-180h160v-160H180v160Zm440 0h160v-160H620v160Z\"/>\n",
              "  </svg>\n",
              "    </button>\n",
              "\n",
              "  <style>\n",
              "    .colab-df-container {\n",
              "      display:flex;\n",
              "      gap: 12px;\n",
              "    }\n",
              "\n",
              "    .colab-df-convert {\n",
              "      background-color: #E8F0FE;\n",
              "      border: none;\n",
              "      border-radius: 50%;\n",
              "      cursor: pointer;\n",
              "      display: none;\n",
              "      fill: #1967D2;\n",
              "      height: 32px;\n",
              "      padding: 0 0 0 0;\n",
              "      width: 32px;\n",
              "    }\n",
              "\n",
              "    .colab-df-convert:hover {\n",
              "      background-color: #E2EBFA;\n",
              "      box-shadow: 0px 1px 2px rgba(60, 64, 67, 0.3), 0px 1px 3px 1px rgba(60, 64, 67, 0.15);\n",
              "      fill: #174EA6;\n",
              "    }\n",
              "\n",
              "    .colab-df-buttons div {\n",
              "      margin-bottom: 4px;\n",
              "    }\n",
              "\n",
              "    [theme=dark] .colab-df-convert {\n",
              "      background-color: #3B4455;\n",
              "      fill: #D2E3FC;\n",
              "    }\n",
              "\n",
              "    [theme=dark] .colab-df-convert:hover {\n",
              "      background-color: #434B5C;\n",
              "      box-shadow: 0px 1px 3px 1px rgba(0, 0, 0, 0.15);\n",
              "      filter: drop-shadow(0px 1px 2px rgba(0, 0, 0, 0.3));\n",
              "      fill: #FFFFFF;\n",
              "    }\n",
              "  </style>\n",
              "\n",
              "    <script>\n",
              "      const buttonEl =\n",
              "        document.querySelector('#df-8a5a93c3-c19c-4b45-a7a9-660bc5eac59f button.colab-df-convert');\n",
              "      buttonEl.style.display =\n",
              "        google.colab.kernel.accessAllowed ? 'block' : 'none';\n",
              "\n",
              "      async function convertToInteractive(key) {\n",
              "        const element = document.querySelector('#df-8a5a93c3-c19c-4b45-a7a9-660bc5eac59f');\n",
              "        const dataTable =\n",
              "          await google.colab.kernel.invokeFunction('convertToInteractive',\n",
              "                                                    [key], {});\n",
              "        if (!dataTable) return;\n",
              "\n",
              "        const docLinkHtml = 'Like what you see? Visit the ' +\n",
              "          '<a target=\"_blank\" href=https://colab.research.google.com/notebooks/data_table.ipynb>data table notebook</a>'\n",
              "          + ' to learn more about interactive tables.';\n",
              "        element.innerHTML = '';\n",
              "        dataTable['output_type'] = 'display_data';\n",
              "        await google.colab.output.renderOutput(dataTable, element);\n",
              "        const docLink = document.createElement('div');\n",
              "        docLink.innerHTML = docLinkHtml;\n",
              "        element.appendChild(docLink);\n",
              "      }\n",
              "    </script>\n",
              "  </div>\n",
              "\n",
              "\n",
              "    <div id=\"df-5263b4c7-073f-420e-b9ac-3c1ab1437707\">\n",
              "      <button class=\"colab-df-quickchart\" onclick=\"quickchart('df-5263b4c7-073f-420e-b9ac-3c1ab1437707')\"\n",
              "                title=\"Suggest charts\"\n",
              "                style=\"display:none;\">\n",
              "\n",
              "<svg xmlns=\"http://www.w3.org/2000/svg\" height=\"24px\"viewBox=\"0 0 24 24\"\n",
              "     width=\"24px\">\n",
              "    <g>\n",
              "        <path d=\"M19 3H5c-1.1 0-2 .9-2 2v14c0 1.1.9 2 2 2h14c1.1 0 2-.9 2-2V5c0-1.1-.9-2-2-2zM9 17H7v-7h2v7zm4 0h-2V7h2v10zm4 0h-2v-4h2v4z\"/>\n",
              "    </g>\n",
              "</svg>\n",
              "      </button>\n",
              "\n",
              "<style>\n",
              "  .colab-df-quickchart {\n",
              "      --bg-color: #E8F0FE;\n",
              "      --fill-color: #1967D2;\n",
              "      --hover-bg-color: #E2EBFA;\n",
              "      --hover-fill-color: #174EA6;\n",
              "      --disabled-fill-color: #AAA;\n",
              "      --disabled-bg-color: #DDD;\n",
              "  }\n",
              "\n",
              "  [theme=dark] .colab-df-quickchart {\n",
              "      --bg-color: #3B4455;\n",
              "      --fill-color: #D2E3FC;\n",
              "      --hover-bg-color: #434B5C;\n",
              "      --hover-fill-color: #FFFFFF;\n",
              "      --disabled-bg-color: #3B4455;\n",
              "      --disabled-fill-color: #666;\n",
              "  }\n",
              "\n",
              "  .colab-df-quickchart {\n",
              "    background-color: var(--bg-color);\n",
              "    border: none;\n",
              "    border-radius: 50%;\n",
              "    cursor: pointer;\n",
              "    display: none;\n",
              "    fill: var(--fill-color);\n",
              "    height: 32px;\n",
              "    padding: 0;\n",
              "    width: 32px;\n",
              "  }\n",
              "\n",
              "  .colab-df-quickchart:hover {\n",
              "    background-color: var(--hover-bg-color);\n",
              "    box-shadow: 0 1px 2px rgba(60, 64, 67, 0.3), 0 1px 3px 1px rgba(60, 64, 67, 0.15);\n",
              "    fill: var(--button-hover-fill-color);\n",
              "  }\n",
              "\n",
              "  .colab-df-quickchart-complete:disabled,\n",
              "  .colab-df-quickchart-complete:disabled:hover {\n",
              "    background-color: var(--disabled-bg-color);\n",
              "    fill: var(--disabled-fill-color);\n",
              "    box-shadow: none;\n",
              "  }\n",
              "\n",
              "  .colab-df-spinner {\n",
              "    border: 2px solid var(--fill-color);\n",
              "    border-color: transparent;\n",
              "    border-bottom-color: var(--fill-color);\n",
              "    animation:\n",
              "      spin 1s steps(1) infinite;\n",
              "  }\n",
              "\n",
              "  @keyframes spin {\n",
              "    0% {\n",
              "      border-color: transparent;\n",
              "      border-bottom-color: var(--fill-color);\n",
              "      border-left-color: var(--fill-color);\n",
              "    }\n",
              "    20% {\n",
              "      border-color: transparent;\n",
              "      border-left-color: var(--fill-color);\n",
              "      border-top-color: var(--fill-color);\n",
              "    }\n",
              "    30% {\n",
              "      border-color: transparent;\n",
              "      border-left-color: var(--fill-color);\n",
              "      border-top-color: var(--fill-color);\n",
              "      border-right-color: var(--fill-color);\n",
              "    }\n",
              "    40% {\n",
              "      border-color: transparent;\n",
              "      border-right-color: var(--fill-color);\n",
              "      border-top-color: var(--fill-color);\n",
              "    }\n",
              "    60% {\n",
              "      border-color: transparent;\n",
              "      border-right-color: var(--fill-color);\n",
              "    }\n",
              "    80% {\n",
              "      border-color: transparent;\n",
              "      border-right-color: var(--fill-color);\n",
              "      border-bottom-color: var(--fill-color);\n",
              "    }\n",
              "    90% {\n",
              "      border-color: transparent;\n",
              "      border-bottom-color: var(--fill-color);\n",
              "    }\n",
              "  }\n",
              "</style>\n",
              "\n",
              "      <script>\n",
              "        async function quickchart(key) {\n",
              "          const quickchartButtonEl =\n",
              "            document.querySelector('#' + key + ' button');\n",
              "          quickchartButtonEl.disabled = true;  // To prevent multiple clicks.\n",
              "          quickchartButtonEl.classList.add('colab-df-spinner');\n",
              "          try {\n",
              "            const charts = await google.colab.kernel.invokeFunction(\n",
              "                'suggestCharts', [key], {});\n",
              "          } catch (error) {\n",
              "            console.error('Error during call to suggestCharts:', error);\n",
              "          }\n",
              "          quickchartButtonEl.classList.remove('colab-df-spinner');\n",
              "          quickchartButtonEl.classList.add('colab-df-quickchart-complete');\n",
              "        }\n",
              "        (() => {\n",
              "          let quickchartButtonEl =\n",
              "            document.querySelector('#df-5263b4c7-073f-420e-b9ac-3c1ab1437707 button');\n",
              "          quickchartButtonEl.style.display =\n",
              "            google.colab.kernel.accessAllowed ? 'block' : 'none';\n",
              "        })();\n",
              "      </script>\n",
              "    </div>\n",
              "\n",
              "  <div id=\"id_87569fdb-5100-4afa-8eff-1c1c2d4b7f09\">\n",
              "    <style>\n",
              "      .colab-df-generate {\n",
              "        background-color: #E8F0FE;\n",
              "        border: none;\n",
              "        border-radius: 50%;\n",
              "        cursor: pointer;\n",
              "        display: none;\n",
              "        fill: #1967D2;\n",
              "        height: 32px;\n",
              "        padding: 0 0 0 0;\n",
              "        width: 32px;\n",
              "      }\n",
              "\n",
              "      .colab-df-generate:hover {\n",
              "        background-color: #E2EBFA;\n",
              "        box-shadow: 0px 1px 2px rgba(60, 64, 67, 0.3), 0px 1px 3px 1px rgba(60, 64, 67, 0.15);\n",
              "        fill: #174EA6;\n",
              "      }\n",
              "\n",
              "      [theme=dark] .colab-df-generate {\n",
              "        background-color: #3B4455;\n",
              "        fill: #D2E3FC;\n",
              "      }\n",
              "\n",
              "      [theme=dark] .colab-df-generate:hover {\n",
              "        background-color: #434B5C;\n",
              "        box-shadow: 0px 1px 3px 1px rgba(0, 0, 0, 0.15);\n",
              "        filter: drop-shadow(0px 1px 2px rgba(0, 0, 0, 0.3));\n",
              "        fill: #FFFFFF;\n",
              "      }\n",
              "    </style>\n",
              "    <button class=\"colab-df-generate\" onclick=\"generateWithVariable('top_chunks')\"\n",
              "            title=\"Generate code using this dataframe.\"\n",
              "            style=\"display:none;\">\n",
              "\n",
              "  <svg xmlns=\"http://www.w3.org/2000/svg\" height=\"24px\"viewBox=\"0 0 24 24\"\n",
              "       width=\"24px\">\n",
              "    <path d=\"M7,19H8.4L18.45,9,17,7.55,7,17.6ZM5,21V16.75L18.45,3.32a2,2,0,0,1,2.83,0l1.4,1.43a1.91,1.91,0,0,1,.58,1.4,1.91,1.91,0,0,1-.58,1.4L9.25,21ZM18.45,9,17,7.55Zm-12,3A5.31,5.31,0,0,0,4.9,8.1,5.31,5.31,0,0,0,1,6.5,5.31,5.31,0,0,0,4.9,4.9,5.31,5.31,0,0,0,6.5,1,5.31,5.31,0,0,0,8.1,4.9,5.31,5.31,0,0,0,12,6.5,5.46,5.46,0,0,0,6.5,12Z\"/>\n",
              "  </svg>\n",
              "    </button>\n",
              "    <script>\n",
              "      (() => {\n",
              "      const buttonEl =\n",
              "        document.querySelector('#id_87569fdb-5100-4afa-8eff-1c1c2d4b7f09 button.colab-df-generate');\n",
              "      buttonEl.style.display =\n",
              "        google.colab.kernel.accessAllowed ? 'block' : 'none';\n",
              "\n",
              "      buttonEl.onclick = () => {\n",
              "        google.colab.notebook.generateWithVariable('top_chunks');\n",
              "      }\n",
              "      })();\n",
              "    </script>\n",
              "  </div>\n",
              "\n",
              "    </div>\n",
              "  </div>\n"
            ],
            "text/plain": [
              "           filename      cik  year section_name  chunk_index  \\\n",
              "0  1566373_2018.htm  1566373  2018    section_1            0   \n",
              "1  1566373_2018.htm  1566373  2018    section_1            1   \n",
              "2  1566373_2018.htm  1566373  2018    section_1            2   \n",
              "\n",
              "                                          chunk_text  \\\n",
              "0  Item 1. Business\\nOverview\\nWe are a clinical-...   \n",
              "1  inarigivir 400mg in different patient populati...   \n",
              "2  clinical trial in cancer later in 2019. SB 112...   \n",
              "\n",
              "                                      augmented_text  \\\n",
              "0  0     1566373\\n1     1566373\\n2     1566373\\n3...   \n",
              "1  0     1566373\\n1     1566373\\n2     1566373\\n3...   \n",
              "2  0     1566373\\n1     1566373\\n2     1566373\\n3...   \n",
              "\n",
              "                                           embedding  similarity  \n",
              "0  [0.009221972897648811, -0.0379352867603302, -0...   -0.079253  \n",
              "1  [0.009221972897648811, -0.0379352867603302, -0...   -0.079253  \n",
              "2  [0.009221972897648811, -0.0379352867603302, -0...   -0.079253  "
            ]
          },
          "execution_count": 85,
          "metadata": {},
          "output_type": "execute_result"
        }
      ],
      "source": [
        "# Show top chunk on which LLM answer is based on\n",
        "top_chunks"
      ]
    },
    {
      "cell_type": "markdown",
      "metadata": {
        "id": "XMPqA0Mc_jKE"
      },
      "source": [
        "## Attribute 3 : Risk Factors for investors"
      ]
    },
    {
      "cell_type": "code",
      "execution_count": 130,
      "metadata": {
        "colab": {
          "base_uri": "https://localhost:8080/"
        },
        "id": "8uFa0VG8_g4k",
        "outputId": "81229b7b-c9e8-4545-8258-b1798281c282"
      },
      "outputs": [
        {
          "name": "stdout",
          "output_type": "stream",
          "text": [
            "LLM Answer:\n",
            "Competition, regulation, and market risks.\n"
          ]
        }
      ],
      "source": [
        "## ---------------------- FOR YEAR 2020 - cik 718413 -----------------\n",
        "query = \"What are the principal risk factors for investors?\"\n",
        "year = 2020\n",
        "\n",
        "# Run your function\n",
        "answer, top_chunks = run_llm_query(query=query, year=year, template=template, model=model)\n",
        "\n",
        "# Show the output\n",
        "print(\"LLM Answer:\")\n",
        "print(answer)"
      ]
    },
    {
      "cell_type": "markdown",
      "metadata": {
        "id": "UgwQI_51pKif"
      },
      "source": [
        "* Actual Answer  - Competition, regulation, and market risks."
      ]
    },
    {
      "cell_type": "code",
      "execution_count": 132,
      "metadata": {
        "colab": {
          "base_uri": "https://localhost:8080/",
          "height": 109
        },
        "id": "vlKyHbzMAi4n",
        "outputId": "56bc833e-482c-4873-fa39-6ca1b147fc2e"
      },
      "outputs": [
        {
          "data": {
            "application/vnd.google.colaboratory.intrinsic+json": {
              "type": "string"
            },
            "text/plain": [
              "'the market areas of the three owner financial institutions and leases space from them in some of their branch offices, including at the Bank’s facilities in Barre and Lyndonville, Vermont.\\nStatutory Business Trust. In 2007, the Company formed CMTV Statutory Trust I (the Trust), a Delaware statutory business trust, for the purpose of issuing $12.5 million of trust preferred securities and lending the proceeds to the Company. This funding provided a portion of the cash consideration paid by the Company in the acquisition of LyndonBank and provided additional regulatory capital. The Trust is a variable interest entity for which the Company is not the primary beneficiary, within the meaning of applicable accounting standards. Accordingly, the Trust is not consolidated with the Company for financial reporting purposes.\\nCompetition\\nAll of the Bank’s full-service banking offices are located in northern and central Vermont. The Bank’s main office is located in Derby, in Orleans County. In addition to its main office, the Bank has four other banking offices in Orleans County, one office in Essex County, two offices in Caledonia County, two offices in Washington County and one office each in Franklin and Lamoille Counties. The Bank also maintains loan production offices in Chittenden County, Vermont and Grafton County, New Hampshire. (See Part I, Item 2 (Properties) of this report.)\\nThe Bank competes in all aspects of its business with other banks and credit unions in northern and central Vermont, including three of the largest banks operating in the state, which maintain branch offices throughout the Bank’s service area. The Bank also competes with bank and non-bank lenders in Chittenden County, Vermont and Grafton County, New Hampshire where it maintains loan production offices. Changes in the regulatory framework of the financial services industry during the past decade have broadened the competition for commercial bank products, such as deposits and loans, to include not only traditional rivals such as banks, savings banks and credit unions, but also many non-traditional rivals such as insurance companies, brokerage firms, mutual funds and consumer and commercial finance and leasing companies. In addition, many out-of-market nationwide banks, nonbank lenders and other financial service firms operate in the Company’s market areas through mass marketing solicitations by mail, radio, television, the internet and email. At the same time, technological changes have facilitated remote delivery of financial services by bank and nonbank competitors outside the context of a traditional branch bank network, thereby intensifying competition from out-of-market firms. This trend may accelerate, as customers’ use of and reliance on technology for remote delivery of financial services has accelerated as a result of the limitations imposed on in-person banking during the COVID-19 pandemic.\\nCompetition from the tax-exempt credit union industry has also intensified in recent years. A number of the Bank’s credit union competitors, including the largest state-chartered Vermont credit union, have converted from an employment based common bond to a community common bond, thereby significantly increasing their fields of membership in the Bank’s market areas. Because federal law subsidizes credit unions by giving them a general exemption from federal income taxes, they have a significant pricing advantage over commercial banks for their deposit and loan products. This pricing advantage, coupled with the relaxing of membership criteria and regulatory restrictions on product offerings, has resulted in increased competition for the Bank from this tax exempt sector of the financial services industry.\\nIn order to compete with other bank and non-bank service providers, the Company stresses the community orientation of its banking operations and relies to a large extent upon personal relationships established by its officers, directors and employees with their customers and on their strong ties to the local community. In addition, management’s knowledge of the local community assists it in tailoring the Company’s products and services to meet the needs of its customer base. Although competition is strong throughout the Company’s market area, management believes that the Company can continue to compete effectively, in view of its local market knowledge and community ties and its understanding of customer needs.\\nEmployees\\nAs of December 31, 2020, the Company did not have any employees at the holding company level. However, as of such date, the Bank employed 126 full-time employees and 10 part-time employees. The Bank provides our full-time and part-time employees with a comprehensive employee benefit package, including medical benefits, life insurance and a 401K retirement savings plan. Additionally, full-time employees also have disability insurance as part of their benefit package. The Bank is not a party to any collective bargaining agreement and management of the Bank considers its employee relations to be good.\\nRegulation and Supervision\\nThe following discussion describes elements of an extensive regulatory framework applicable to bank holding companies and banks, to which the Company and the Bank are subject. Regulation of banks and bank holding companies is intended primarily for the protection of depositors and the Deposit Insurance Fund of the FDIC, rather than for the protection of shareholders and creditors.\\nThe Company’s earnings are affected by general economic conditions, management policies, changes in federal and state laws and regulations and actions of various regulatory authorities, including those referred to below. Banking is a highly regulated business and proposals to change the laws and regulations to which the Company and the Bank are subject are frequently introduced at both the federal and state levels. The likelihood and timing of any such changes and the impact such changes may have on the Company and the Bank is impossible to predict with any certainty.\\nThe following summary does not purport to be complete and is qualified by reference to the particular statutes and regulations.\\nBank Holding Company Act. As a registered bank holding company, the Company is subject to on-going regulation, supervision and examination by the FRB, under the Bank Holding Company Act of 1956, as amended (the Act). A bank holding company for example, must generally obtain the prior approval of the FRB before it acquires all or substantially all of the assets of any bank, or acquires ownership or control of more than 5% of the voting shares of a bank. FRB'"
            ]
          },
          "execution_count": 132,
          "metadata": {},
          "output_type": "execute_result"
        }
      ],
      "source": [
        "# Show top chunk on which LLM answer is based on\n",
        "top_chunks[\"chunk_text\"].iloc[1]"
      ]
    },
    {
      "cell_type": "code",
      "execution_count": 133,
      "metadata": {
        "colab": {
          "base_uri": "https://localhost:8080/"
        },
        "id": "SYnQQeK5Br6j",
        "outputId": "4e963488-5ced-45d8-d817-493b1efe3e28"
      },
      "outputs": [
        {
          "name": "stdout",
          "output_type": "stream",
          "text": [
            "LLM Answer:\n",
            "Assumptions, estimates, and judgments.\n"
          ]
        }
      ],
      "source": [
        "## ---------------------- FOR YEAR 2019 - cik 88121  -----------------\n",
        "query = \"What are the principal risk factors for investors?\"\n",
        "year = 2019\n",
        "\n",
        "# Run your function\n",
        "answer, top_chunks = run_llm_query(query=query, year=year, template=template, model=model)\n",
        "\n",
        "# Show the output\n",
        "print(\"LLM Answer:\")\n",
        "print(answer)"
      ]
    },
    {
      "cell_type": "markdown",
      "metadata": {
        "id": "T3YU0YmDpcDU"
      },
      "source": [
        "* Actual Answer - Assumption, estimates, judgement"
      ]
    },
    {
      "cell_type": "code",
      "execution_count": 136,
      "metadata": {
        "colab": {
          "base_uri": "https://localhost:8080/",
          "height": 143
        },
        "id": "g2lyHkTcBidv",
        "outputId": "3c6d6c46-7343-4df3-845f-09594beb7a28"
      },
      "outputs": [
        {
          "data": {
            "application/vnd.google.colaboratory.intrinsic+json": {
              "summary": "{\n  \"name\": \"top_chunks\",\n  \"rows\": 3,\n  \"fields\": [\n    {\n      \"column\": \"filename\",\n      \"properties\": {\n        \"dtype\": \"category\",\n        \"num_unique_values\": 1,\n        \"samples\": [\n          \"88121_2019.htm\"\n        ],\n        \"semantic_type\": \"\",\n        \"description\": \"\"\n      }\n    },\n    {\n      \"column\": \"cik\",\n      \"properties\": {\n        \"dtype\": \"int32\",\n        \"num_unique_values\": 1,\n        \"samples\": [\n          88121\n        ],\n        \"semantic_type\": \"\",\n        \"description\": \"\"\n      }\n    },\n    {\n      \"column\": \"year\",\n      \"properties\": {\n        \"dtype\": \"int32\",\n        \"num_unique_values\": 1,\n        \"samples\": [\n          2019\n        ],\n        \"semantic_type\": \"\",\n        \"description\": \"\"\n      }\n    },\n    {\n      \"column\": \"section_name\",\n      \"properties\": {\n        \"dtype\": \"string\",\n        \"num_unique_values\": 2,\n        \"samples\": [\n          \"section_7\"\n        ],\n        \"semantic_type\": \"\",\n        \"description\": \"\"\n      }\n    },\n    {\n      \"column\": \"chunk_index\",\n      \"properties\": {\n        \"dtype\": \"int32\",\n        \"num_unique_values\": 3,\n        \"samples\": [\n          5\n        ],\n        \"semantic_type\": \"\",\n        \"description\": \"\"\n      }\n    },\n    {\n      \"column\": \"chunk_text\",\n      \"properties\": {\n        \"dtype\": \"string\",\n        \"num_unique_values\": 3,\n        \"samples\": [\n          \"investments, Seaboard also has trading securities related to Seaboard\\u2019s deferred compensation plans classified in other current assets in the consolidated balance sheets. See Note 11 for information on the types of trading securities held related to the deferred compensation plans. See Note 10 for a discussion of assets held in conjunction with investments related to Seaboard\\u2019s defined benefit pension plan.\\nNote 4 - Inventories\\nThe following table is a summary of inventories:\\nThe use of the LIFO method for certain inventories of the Pork segment decreased net earnings $5 million ($4.10 per common share), $20 million ($16.87 per common share) and $6 million ($5.40 per common share) for the years ended December 31, 2019, 2018 and 2017, respectively, after taxes were considered. If the FIFO method had been used for all inventories of the Pork segment, inventories would have been higher by $64 million and $58 million as of December 31, 2019 and 2018, respectively. The LIFO valuation reserve activity for 2019, 2018 and 2017 was as follows:\\nNote 5 - Net Property, Plant and Equipment\\nThe following table is a summary of property, plant and equipment:\\nSEABOARD CORPORATION\\nNotes to Consolidated Financial Statements\\nFinance lease ROU assets of $50 million, net of $3 million in accumulated amortization, are included in property, plant and equipment and comprise all of the contract growers asset category, with the remaining balance in buildings, machinery and equipment and land.\\nSeaboard\\u2019s capitalized interest on construction in progress was $7 million and less than $1 million for the years ended December 31, 2019 and 2018, respectively.\\nNote 6 - Leases\\nSeaboard\\u2019s operating leases are primarily for ports, vessels, contract grower assets, and to a lesser extent, land, buildings and machinery and equipment. Seaboard\\u2019s finance leases are primarily for contract grower assets. Seaboard\\u2019s Marine segment leases its PortMiami terminal, among other ports. The Marine and CT&M segments lease vessels for use in operations. The Pork segment has contract grower agreements in place with farmers to raise a portion of Seaboard\\u2019s hogs using the farmer\\u2019s buildings, land and equipment. Seaboard\\u2019s nonlease components are primarily for services related to labor associated with caring for hogs in its contract grower agreements and crew services on vessel charter arrangements.\\nAs of December 31, 2019, the weighted average remaining lease term for Seaboard\\u2019s operating and finance leases was approximately six years and nine years, respectively. Seaboard\\u2019s lease terms vary depending upon the class of asset and some leases include options to extend or terminate. Since Seaboard is not reasonably certain to exercise these renewal or termination options, the options are not considered in determining the lease term and associated potential option payments or penalties are excluded from lease payments.\\nSeaboard\\u2019s operating lease assets and liabilities are reported separately in the consolidated balance sheet. The classification of Seaboard\\u2019s finance leases in the consolidated balance sheet as of December 31, 2019 was as follows:\\nThe components of lease cost for 2019 were as follows:\\nOperating lease cost and short-term lease cost are recognized on a straight-line basis over the lease term. Finance lease cost is recognized based on the effective interest method for the lease liability and straight-line amortization of the ROU asset. Variable lease payments are recognized when the circumstance in the lease agreement on which those payments are assessed occurs. Variable lease payments are primarily for payments in excess of minimums with regards to throughput of shipping containers. Short-term leases are primarily for containers and vessels at Seaboard\\u2019s Marine segment. Lease cost is included in various line items in the consolidated statements of comprehensive income or capitalized to inventory. Rental expense for leases with terms of a month or less are excluded from the total lease cost above.\\nRental expense for facility and equipment operating leases for all segments was $46 million and $44 million in 2018 and 2017, respectively. The Marine and CT&M segments\\u2019 vessel charter hire expenses during 2018 and 2017 totaled $111 million and $96 million, respectively. The Pork segment paid $48 million and $37 million for contract grower agreements in 2018 and 2017, respectively.\\nSEABOARD CORPORATION\\nNotes to Consolidated Financial Statements\\nMaturities of lease liabilities as of December 31, 2019 were as follows:\\nSeaboard\\u2019s weighted average discount rate for operating and finances leases was 6.58% and 6.31%, respectively, as of December 31, 2019. There were estimates and judgments made in determining Seaboard\\u2019s multiple discount rates based on term, country and currency, including developing a secured credit rating and spreading market yield data across maturities and country risk-free rates.\\nBelow is Seaboard\\u2019s commitments table as of December 31, 2018 that disclosed operating lease payments for the next five years and thereafter. Seaboard had no material capital leases as of December 31, 2018.\\nNote 7 - Equity Method Investments\\nSeaboard has several investments in and advances to non-controlled, non-consolidated affiliates that are all accounted for using the equity method of accounting. See Note 15 for detail of the investments in and advances to affiliates by segment. Financial information from certain foreign affiliates is reported on a one- to three-month lag, depending on the specific entity.\\nThe Pork segment has a 50% noncontrolling interest in Daily\\u2019s Premium Meats, LLC (\\u201cDaily\\u2019s\\u201d) and STF. Daily\\u2019s produces and markets raw and pre-cooked bacon. STF operates a pork processing plant, which began operations in September 2017. Seaboard\\u2019s Pork segment supplies raw materials to both of these facilities for processing and provides marketing services to STF for its pork products. Combined condensed financial information of these entities for each of Seaboard\\u2019s years ended is included in the table above.\\nSeaboard and Triumph Foods, LLC (\\u201cTriumph\\u201d) formed STF in May 2015 with equal ownership of 50%. In connection with the development and operation of the plant, Seaboard contributed $73 million during 2017. Also, Seaboard agreed to provide a portion of the hogs to be processed at the plant. The Pork segment currently has a business relationship with Triumph under which Seaboard markets substantially all of the pork products produced at Triumph\\u2019s plant in Missouri and STF\\u2019s plant in Iowa.\\nSEABOARD CORPORATION\\nNotes to Consolidated Financial Statements\\nThe CT&M segment has noncontrolling interests in foreign businesses conducting flour, maize and feed milling, baking operations, poultry production\"\n        ],\n        \"semantic_type\": \"\",\n        \"description\": \"\"\n      }\n    },\n    {\n      \"column\": \"augmented_text\",\n      \"properties\": {\n        \"dtype\": \"string\",\n        \"num_unique_values\": 3,\n        \"samples\": [\n          \"52    88121\\n53    88121\\n54    88121\\n55    88121\\n56    88121\\n57    88121\\n58    88121\\n59    88121\\n60    88121\\n61    88121\\n62    88121\\n63    88121\\n64    88121\\n65    88121\\n66    88121\\n67    88121\\n68    88121\\n69    88121\\n70    88121\\n71    88121\\n72    88121\\n73    88121\\n74    88121\\n75    88121\\n76    88121\\n77    88121\\n78    88121\\n79    88121\\n80    88121\\n81    88121\\n82    88121\\n83    88121\\n84    88121\\n85    88121\\n86    88121\\n87    88121\\n88    88121\\n89    88121\\nName: cik, dtype: int32-section_8: investments, Seaboard also has trading securities related to Seaboard\\u2019s deferred compensation plans classified in other current assets in the consolidated balance sheets. See Note 11 for information on the types of trading securities held related to the deferred compensation plans. See Note 10 for a discussion of assets held in conjunction with investments related to Seaboard\\u2019s defined benefit pension plan.\\nNote 4 - Inventories\\nThe following table is a summary of inventories:\\nThe use of the LIFO method for certain inventories of the Pork segment decreased net earnings $5 million ($4.10 per common share), $20 million ($16.87 per common share) and $6 million ($5.40 per common share) for the years ended December 31, 2019, 2018 and 2017, respectively, after taxes were considered. If the FIFO method had been used for all inventories of the Pork segment, inventories would have been higher by $64 million and $58 million as of December 31, 2019 and 2018, respectively. The LIFO valuation reserve activity for 2019, 2018 and 2017 was as follows:\\nNote 5 - Net Property, Plant and Equipment\\nThe following table is a summary of property, plant and equipment:\\nSEABOARD CORPORATION\\nNotes to Consolidated Financial Statements\\nFinance lease ROU assets of $50 million, net of $3 million in accumulated amortization, are included in property, plant and equipment and comprise all of the contract growers asset category, with the remaining balance in buildings, machinery and equipment and land.\\nSeaboard\\u2019s capitalized interest on construction in progress was $7 million and less than $1 million for the years ended December 31, 2019 and 2018, respectively.\\nNote 6 - Leases\\nSeaboard\\u2019s operating leases are primarily for ports, vessels, contract grower assets, and to a lesser extent, land, buildings and machinery and equipment. Seaboard\\u2019s finance leases are primarily for contract grower assets. Seaboard\\u2019s Marine segment leases its PortMiami terminal, among other ports. The Marine and CT&M segments lease vessels for use in operations. The Pork segment has contract grower agreements in place with farmers to raise a portion of Seaboard\\u2019s hogs using the farmer\\u2019s buildings, land and equipment. Seaboard\\u2019s nonlease components are primarily for services related to labor associated with caring for hogs in its contract grower agreements and crew services on vessel charter arrangements.\\nAs of December 31, 2019, the weighted average remaining lease term for Seaboard\\u2019s operating and finance leases was approximately six years and nine years, respectively. Seaboard\\u2019s lease terms vary depending upon the class of asset and some leases include options to extend or terminate. Since Seaboard is not reasonably certain to exercise these renewal or termination options, the options are not considered in determining the lease term and associated potential option payments or penalties are excluded from lease payments.\\nSeaboard\\u2019s operating lease assets and liabilities are reported separately in the consolidated balance sheet. The classification of Seaboard\\u2019s finance leases in the consolidated balance sheet as of December 31, 2019 was as follows:\\nThe components of lease cost for 2019 were as follows:\\nOperating lease cost and short-term lease cost are recognized on a straight-line basis over the lease term. Finance lease cost is recognized based on the effective interest method for the lease liability and straight-line amortization of the ROU asset. Variable lease payments are recognized when the circumstance in the lease agreement on which those payments are assessed occurs. Variable lease payments are primarily for payments in excess of minimums with regards to throughput of shipping containers. Short-term leases are primarily for containers and vessels at Seaboard\\u2019s Marine segment. Lease cost is included in various line items in the consolidated statements of comprehensive income or capitalized to inventory. Rental expense for leases with terms of a month or less are excluded from the total lease cost above.\\nRental expense for facility and equipment operating leases for all segments was $46 million and $44 million in 2018 and 2017, respectively. The Marine and CT&M segments\\u2019 vessel charter hire expenses during 2018 and 2017 totaled $111 million and $96 million, respectively. The Pork segment paid $48 million and $37 million for contract grower agreements in 2018 and 2017, respectively.\\nSEABOARD CORPORATION\\nNotes to Consolidated Financial Statements\\nMaturities of lease liabilities as of December 31, 2019 were as follows:\\nSeaboard\\u2019s weighted average discount rate for operating and finances leases was 6.58% and 6.31%, respectively, as of December 31, 2019. There were estimates and judgments made in determining Seaboard\\u2019s multiple discount rates based on term, country and currency, including developing a secured credit rating and spreading market yield data across maturities and country risk-free rates.\\nBelow is Seaboard\\u2019s commitments table as of December 31, 2018 that disclosed operating lease payments for the next five years and thereafter. Seaboard had no material capital leases as of December 31, 2018.\\nNote 7 - Equity Method Investments\\nSeaboard has several investments in and advances to non-controlled, non-consolidated affiliates that are all accounted for using the equity method of accounting. See Note 15 for detail of the investments in and advances to affiliates by segment. Financial information from certain foreign affiliates is reported on a one- to three-month lag, depending on the specific entity.\\nThe Pork segment has a 50% noncontrolling interest in Daily\\u2019s Premium Meats, LLC (\\u201cDaily\\u2019s\\u201d) and STF. Daily\\u2019s produces and markets raw and pre-cooked bacon. STF operates a pork processing plant, which began operations in September 2017. Seaboard\\u2019s Pork segment supplies raw materials to both of these facilities for processing and provides marketing services to STF for its pork products. Combined condensed financial information of these entities for each of Seaboard\\u2019s years ended is included in the table above.\\nSeaboard and Triumph Foods, LLC (\\u201cTriumph\\u201d) formed STF in May 2015 with equal ownership of 50%. In connection with the development and operation of the plant, Seaboard contributed $73 million during 2017. Also, Seaboard agreed to provide a portion of the hogs to be processed at the plant. The Pork segment currently has a business relationship with Triumph under which Seaboard markets substantially all of the pork products produced at Triumph\\u2019s plant in Missouri and STF\\u2019s plant in Iowa.\\nSEABOARD CORPORATION\\nNotes to Consolidated Financial Statements\\nThe CT&M segment has noncontrolling interests in foreign businesses conducting flour, maize and feed milling, baking operations, poultry production\"\n        ],\n        \"semantic_type\": \"\",\n        \"description\": \"\"\n      }\n    },\n    {\n      \"column\": \"embedding\",\n      \"properties\": {\n        \"dtype\": \"object\",\n        \"semantic_type\": \"\",\n        \"description\": \"\"\n      }\n    },\n    {\n      \"column\": \"similarity\",\n      \"properties\": {\n        \"dtype\": \"number\",\n        \"std\": 0.01082584630175514,\n        \"min\": 0.24167454479269304,\n        \"max\": 0.26315508978263585,\n        \"num_unique_values\": 3,\n        \"samples\": [\n          0.26315508978263585\n        ],\n        \"semantic_type\": \"\",\n        \"description\": \"\"\n      }\n    }\n  ]\n}",
              "type": "dataframe",
              "variable_name": "top_chunks"
            },
            "text/html": [
              "\n",
              "  <div id=\"df-da31f595-9c3c-4006-81e8-d882e3cccf16\" class=\"colab-df-container\">\n",
              "    <div>\n",
              "<style scoped>\n",
              "    .dataframe tbody tr th:only-of-type {\n",
              "        vertical-align: middle;\n",
              "    }\n",
              "\n",
              "    .dataframe tbody tr th {\n",
              "        vertical-align: top;\n",
              "    }\n",
              "\n",
              "    .dataframe thead th {\n",
              "        text-align: right;\n",
              "    }\n",
              "</style>\n",
              "<table border=\"1\" class=\"dataframe\">\n",
              "  <thead>\n",
              "    <tr style=\"text-align: right;\">\n",
              "      <th></th>\n",
              "      <th>filename</th>\n",
              "      <th>cik</th>\n",
              "      <th>year</th>\n",
              "      <th>section_name</th>\n",
              "      <th>chunk_index</th>\n",
              "      <th>chunk_text</th>\n",
              "      <th>augmented_text</th>\n",
              "      <th>embedding</th>\n",
              "      <th>similarity</th>\n",
              "    </tr>\n",
              "  </thead>\n",
              "  <tbody>\n",
              "    <tr>\n",
              "      <th>72</th>\n",
              "      <td>88121_2019.htm</td>\n",
              "      <td>88121</td>\n",
              "      <td>2019</td>\n",
              "      <td>section_8</td>\n",
              "      <td>5</td>\n",
              "      <td>investments, Seaboard also has trading securit...</td>\n",
              "      <td>52    88121\\n53    88121\\n54    88121\\n55    8...</td>\n",
              "      <td>[-0.0389004684984684, 0.023023409768939018, -0...</td>\n",
              "      <td>0.263155</td>\n",
              "    </tr>\n",
              "    <tr>\n",
              "      <th>66</th>\n",
              "      <td>88121_2019.htm</td>\n",
              "      <td>88121</td>\n",
              "      <td>2019</td>\n",
              "      <td>section_7</td>\n",
              "      <td>6</td>\n",
              "      <td>in estimate could result in a material adverse...</td>\n",
              "      <td>52    88121\\n53    88121\\n54    88121\\n55    8...</td>\n",
              "      <td>[-0.01666143164038658, 0.11231815069913864, -0...</td>\n",
              "      <td>0.250062</td>\n",
              "    </tr>\n",
              "    <tr>\n",
              "      <th>71</th>\n",
              "      <td>88121_2019.htm</td>\n",
              "      <td>88121</td>\n",
              "      <td>2019</td>\n",
              "      <td>section_8</td>\n",
              "      <td>4</td>\n",
              "      <td>gains/losses on these equity investments is re...</td>\n",
              "      <td>52    88121\\n53    88121\\n54    88121\\n55    8...</td>\n",
              "      <td>[-0.04535048082470894, -0.01630735956132412, -...</td>\n",
              "      <td>0.241675</td>\n",
              "    </tr>\n",
              "  </tbody>\n",
              "</table>\n",
              "</div>\n",
              "    <div class=\"colab-df-buttons\">\n",
              "\n",
              "  <div class=\"colab-df-container\">\n",
              "    <button class=\"colab-df-convert\" onclick=\"convertToInteractive('df-da31f595-9c3c-4006-81e8-d882e3cccf16')\"\n",
              "            title=\"Convert this dataframe to an interactive table.\"\n",
              "            style=\"display:none;\">\n",
              "\n",
              "  <svg xmlns=\"http://www.w3.org/2000/svg\" height=\"24px\" viewBox=\"0 -960 960 960\">\n",
              "    <path d=\"M120-120v-720h720v720H120Zm60-500h600v-160H180v160Zm220 220h160v-160H400v160Zm0 220h160v-160H400v160ZM180-400h160v-160H180v160Zm440 0h160v-160H620v160ZM180-180h160v-160H180v160Zm440 0h160v-160H620v160Z\"/>\n",
              "  </svg>\n",
              "    </button>\n",
              "\n",
              "  <style>\n",
              "    .colab-df-container {\n",
              "      display:flex;\n",
              "      gap: 12px;\n",
              "    }\n",
              "\n",
              "    .colab-df-convert {\n",
              "      background-color: #E8F0FE;\n",
              "      border: none;\n",
              "      border-radius: 50%;\n",
              "      cursor: pointer;\n",
              "      display: none;\n",
              "      fill: #1967D2;\n",
              "      height: 32px;\n",
              "      padding: 0 0 0 0;\n",
              "      width: 32px;\n",
              "    }\n",
              "\n",
              "    .colab-df-convert:hover {\n",
              "      background-color: #E2EBFA;\n",
              "      box-shadow: 0px 1px 2px rgba(60, 64, 67, 0.3), 0px 1px 3px 1px rgba(60, 64, 67, 0.15);\n",
              "      fill: #174EA6;\n",
              "    }\n",
              "\n",
              "    .colab-df-buttons div {\n",
              "      margin-bottom: 4px;\n",
              "    }\n",
              "\n",
              "    [theme=dark] .colab-df-convert {\n",
              "      background-color: #3B4455;\n",
              "      fill: #D2E3FC;\n",
              "    }\n",
              "\n",
              "    [theme=dark] .colab-df-convert:hover {\n",
              "      background-color: #434B5C;\n",
              "      box-shadow: 0px 1px 3px 1px rgba(0, 0, 0, 0.15);\n",
              "      filter: drop-shadow(0px 1px 2px rgba(0, 0, 0, 0.3));\n",
              "      fill: #FFFFFF;\n",
              "    }\n",
              "  </style>\n",
              "\n",
              "    <script>\n",
              "      const buttonEl =\n",
              "        document.querySelector('#df-da31f595-9c3c-4006-81e8-d882e3cccf16 button.colab-df-convert');\n",
              "      buttonEl.style.display =\n",
              "        google.colab.kernel.accessAllowed ? 'block' : 'none';\n",
              "\n",
              "      async function convertToInteractive(key) {\n",
              "        const element = document.querySelector('#df-da31f595-9c3c-4006-81e8-d882e3cccf16');\n",
              "        const dataTable =\n",
              "          await google.colab.kernel.invokeFunction('convertToInteractive',\n",
              "                                                    [key], {});\n",
              "        if (!dataTable) return;\n",
              "\n",
              "        const docLinkHtml = 'Like what you see? Visit the ' +\n",
              "          '<a target=\"_blank\" href=https://colab.research.google.com/notebooks/data_table.ipynb>data table notebook</a>'\n",
              "          + ' to learn more about interactive tables.';\n",
              "        element.innerHTML = '';\n",
              "        dataTable['output_type'] = 'display_data';\n",
              "        await google.colab.output.renderOutput(dataTable, element);\n",
              "        const docLink = document.createElement('div');\n",
              "        docLink.innerHTML = docLinkHtml;\n",
              "        element.appendChild(docLink);\n",
              "      }\n",
              "    </script>\n",
              "  </div>\n",
              "\n",
              "\n",
              "    <div id=\"df-041edc8b-c56c-4195-8f25-8c2f1d475d9c\">\n",
              "      <button class=\"colab-df-quickchart\" onclick=\"quickchart('df-041edc8b-c56c-4195-8f25-8c2f1d475d9c')\"\n",
              "                title=\"Suggest charts\"\n",
              "                style=\"display:none;\">\n",
              "\n",
              "<svg xmlns=\"http://www.w3.org/2000/svg\" height=\"24px\"viewBox=\"0 0 24 24\"\n",
              "     width=\"24px\">\n",
              "    <g>\n",
              "        <path d=\"M19 3H5c-1.1 0-2 .9-2 2v14c0 1.1.9 2 2 2h14c1.1 0 2-.9 2-2V5c0-1.1-.9-2-2-2zM9 17H7v-7h2v7zm4 0h-2V7h2v10zm4 0h-2v-4h2v4z\"/>\n",
              "    </g>\n",
              "</svg>\n",
              "      </button>\n",
              "\n",
              "<style>\n",
              "  .colab-df-quickchart {\n",
              "      --bg-color: #E8F0FE;\n",
              "      --fill-color: #1967D2;\n",
              "      --hover-bg-color: #E2EBFA;\n",
              "      --hover-fill-color: #174EA6;\n",
              "      --disabled-fill-color: #AAA;\n",
              "      --disabled-bg-color: #DDD;\n",
              "  }\n",
              "\n",
              "  [theme=dark] .colab-df-quickchart {\n",
              "      --bg-color: #3B4455;\n",
              "      --fill-color: #D2E3FC;\n",
              "      --hover-bg-color: #434B5C;\n",
              "      --hover-fill-color: #FFFFFF;\n",
              "      --disabled-bg-color: #3B4455;\n",
              "      --disabled-fill-color: #666;\n",
              "  }\n",
              "\n",
              "  .colab-df-quickchart {\n",
              "    background-color: var(--bg-color);\n",
              "    border: none;\n",
              "    border-radius: 50%;\n",
              "    cursor: pointer;\n",
              "    display: none;\n",
              "    fill: var(--fill-color);\n",
              "    height: 32px;\n",
              "    padding: 0;\n",
              "    width: 32px;\n",
              "  }\n",
              "\n",
              "  .colab-df-quickchart:hover {\n",
              "    background-color: var(--hover-bg-color);\n",
              "    box-shadow: 0 1px 2px rgba(60, 64, 67, 0.3), 0 1px 3px 1px rgba(60, 64, 67, 0.15);\n",
              "    fill: var(--button-hover-fill-color);\n",
              "  }\n",
              "\n",
              "  .colab-df-quickchart-complete:disabled,\n",
              "  .colab-df-quickchart-complete:disabled:hover {\n",
              "    background-color: var(--disabled-bg-color);\n",
              "    fill: var(--disabled-fill-color);\n",
              "    box-shadow: none;\n",
              "  }\n",
              "\n",
              "  .colab-df-spinner {\n",
              "    border: 2px solid var(--fill-color);\n",
              "    border-color: transparent;\n",
              "    border-bottom-color: var(--fill-color);\n",
              "    animation:\n",
              "      spin 1s steps(1) infinite;\n",
              "  }\n",
              "\n",
              "  @keyframes spin {\n",
              "    0% {\n",
              "      border-color: transparent;\n",
              "      border-bottom-color: var(--fill-color);\n",
              "      border-left-color: var(--fill-color);\n",
              "    }\n",
              "    20% {\n",
              "      border-color: transparent;\n",
              "      border-left-color: var(--fill-color);\n",
              "      border-top-color: var(--fill-color);\n",
              "    }\n",
              "    30% {\n",
              "      border-color: transparent;\n",
              "      border-left-color: var(--fill-color);\n",
              "      border-top-color: var(--fill-color);\n",
              "      border-right-color: var(--fill-color);\n",
              "    }\n",
              "    40% {\n",
              "      border-color: transparent;\n",
              "      border-right-color: var(--fill-color);\n",
              "      border-top-color: var(--fill-color);\n",
              "    }\n",
              "    60% {\n",
              "      border-color: transparent;\n",
              "      border-right-color: var(--fill-color);\n",
              "    }\n",
              "    80% {\n",
              "      border-color: transparent;\n",
              "      border-right-color: var(--fill-color);\n",
              "      border-bottom-color: var(--fill-color);\n",
              "    }\n",
              "    90% {\n",
              "      border-color: transparent;\n",
              "      border-bottom-color: var(--fill-color);\n",
              "    }\n",
              "  }\n",
              "</style>\n",
              "\n",
              "      <script>\n",
              "        async function quickchart(key) {\n",
              "          const quickchartButtonEl =\n",
              "            document.querySelector('#' + key + ' button');\n",
              "          quickchartButtonEl.disabled = true;  // To prevent multiple clicks.\n",
              "          quickchartButtonEl.classList.add('colab-df-spinner');\n",
              "          try {\n",
              "            const charts = await google.colab.kernel.invokeFunction(\n",
              "                'suggestCharts', [key], {});\n",
              "          } catch (error) {\n",
              "            console.error('Error during call to suggestCharts:', error);\n",
              "          }\n",
              "          quickchartButtonEl.classList.remove('colab-df-spinner');\n",
              "          quickchartButtonEl.classList.add('colab-df-quickchart-complete');\n",
              "        }\n",
              "        (() => {\n",
              "          let quickchartButtonEl =\n",
              "            document.querySelector('#df-041edc8b-c56c-4195-8f25-8c2f1d475d9c button');\n",
              "          quickchartButtonEl.style.display =\n",
              "            google.colab.kernel.accessAllowed ? 'block' : 'none';\n",
              "        })();\n",
              "      </script>\n",
              "    </div>\n",
              "\n",
              "  <div id=\"id_71f754b5-8c0e-4496-b4b3-bce48848837b\">\n",
              "    <style>\n",
              "      .colab-df-generate {\n",
              "        background-color: #E8F0FE;\n",
              "        border: none;\n",
              "        border-radius: 50%;\n",
              "        cursor: pointer;\n",
              "        display: none;\n",
              "        fill: #1967D2;\n",
              "        height: 32px;\n",
              "        padding: 0 0 0 0;\n",
              "        width: 32px;\n",
              "      }\n",
              "\n",
              "      .colab-df-generate:hover {\n",
              "        background-color: #E2EBFA;\n",
              "        box-shadow: 0px 1px 2px rgba(60, 64, 67, 0.3), 0px 1px 3px 1px rgba(60, 64, 67, 0.15);\n",
              "        fill: #174EA6;\n",
              "      }\n",
              "\n",
              "      [theme=dark] .colab-df-generate {\n",
              "        background-color: #3B4455;\n",
              "        fill: #D2E3FC;\n",
              "      }\n",
              "\n",
              "      [theme=dark] .colab-df-generate:hover {\n",
              "        background-color: #434B5C;\n",
              "        box-shadow: 0px 1px 3px 1px rgba(0, 0, 0, 0.15);\n",
              "        filter: drop-shadow(0px 1px 2px rgba(0, 0, 0, 0.3));\n",
              "        fill: #FFFFFF;\n",
              "      }\n",
              "    </style>\n",
              "    <button class=\"colab-df-generate\" onclick=\"generateWithVariable('top_chunks')\"\n",
              "            title=\"Generate code using this dataframe.\"\n",
              "            style=\"display:none;\">\n",
              "\n",
              "  <svg xmlns=\"http://www.w3.org/2000/svg\" height=\"24px\"viewBox=\"0 0 24 24\"\n",
              "       width=\"24px\">\n",
              "    <path d=\"M7,19H8.4L18.45,9,17,7.55,7,17.6ZM5,21V16.75L18.45,3.32a2,2,0,0,1,2.83,0l1.4,1.43a1.91,1.91,0,0,1,.58,1.4,1.91,1.91,0,0,1-.58,1.4L9.25,21ZM18.45,9,17,7.55Zm-12,3A5.31,5.31,0,0,0,4.9,8.1,5.31,5.31,0,0,0,1,6.5,5.31,5.31,0,0,0,4.9,4.9,5.31,5.31,0,0,0,6.5,1,5.31,5.31,0,0,0,8.1,4.9,5.31,5.31,0,0,0,12,6.5,5.46,5.46,0,0,0,6.5,12Z\"/>\n",
              "  </svg>\n",
              "    </button>\n",
              "    <script>\n",
              "      (() => {\n",
              "      const buttonEl =\n",
              "        document.querySelector('#id_71f754b5-8c0e-4496-b4b3-bce48848837b button.colab-df-generate');\n",
              "      buttonEl.style.display =\n",
              "        google.colab.kernel.accessAllowed ? 'block' : 'none';\n",
              "\n",
              "      buttonEl.onclick = () => {\n",
              "        google.colab.notebook.generateWithVariable('top_chunks');\n",
              "      }\n",
              "      })();\n",
              "    </script>\n",
              "  </div>\n",
              "\n",
              "    </div>\n",
              "  </div>\n"
            ],
            "text/plain": [
              "          filename    cik  year section_name  chunk_index  \\\n",
              "72  88121_2019.htm  88121  2019    section_8            5   \n",
              "66  88121_2019.htm  88121  2019    section_7            6   \n",
              "71  88121_2019.htm  88121  2019    section_8            4   \n",
              "\n",
              "                                           chunk_text  \\\n",
              "72  investments, Seaboard also has trading securit...   \n",
              "66  in estimate could result in a material adverse...   \n",
              "71  gains/losses on these equity investments is re...   \n",
              "\n",
              "                                       augmented_text  \\\n",
              "72  52    88121\\n53    88121\\n54    88121\\n55    8...   \n",
              "66  52    88121\\n53    88121\\n54    88121\\n55    8...   \n",
              "71  52    88121\\n53    88121\\n54    88121\\n55    8...   \n",
              "\n",
              "                                            embedding  similarity  \n",
              "72  [-0.0389004684984684, 0.023023409768939018, -0...    0.263155  \n",
              "66  [-0.01666143164038658, 0.11231815069913864, -0...    0.250062  \n",
              "71  [-0.04535048082470894, -0.01630735956132412, -...    0.241675  "
            ]
          },
          "execution_count": 136,
          "metadata": {},
          "output_type": "execute_result"
        }
      ],
      "source": [
        "# Show top chunk on which LLM answer is based on\n",
        "top_chunks"
      ]
    },
    {
      "cell_type": "code",
      "execution_count": 137,
      "metadata": {
        "colab": {
          "base_uri": "https://localhost:8080/"
        },
        "id": "V-6nz39uCLio",
        "outputId": "cd55472b-e573-4097-edb5-f7c5827c86fc"
      },
      "outputs": [
        {
          "name": "stdout",
          "output_type": "stream",
          "text": [
            "LLM Answer:\n",
            "Risks of clinical trials, regulatory approval, and competition.\n"
          ]
        }
      ],
      "source": [
        "## ---------------------- FOR YEAR 2018 - cik 1566373 -----------------\n",
        "\n",
        "query = \"What are the principal risk factors for investors?\"\n",
        "year = 2018\n",
        "\n",
        "# Run your function\n",
        "answer, top_chunks = run_llm_query(query=query, year=year, template=template, model=model)\n",
        "\n",
        "# Show the output\n",
        "print(\"LLM Answer:\")\n",
        "print(answer)"
      ]
    },
    {
      "cell_type": "markdown",
      "metadata": {
        "id": "FcBiFRB1pmLP"
      },
      "source": [
        "Actual Answer : Risks of clinical trials, regulatory approval, and competition."
      ]
    },
    {
      "cell_type": "code",
      "execution_count": 138,
      "metadata": {
        "colab": {
          "base_uri": "https://localhost:8080/",
          "height": 143
        },
        "id": "ArOChS2gCeUx",
        "outputId": "8f8b8f1c-dfe3-4a6c-8fc7-0264848b1a56"
      },
      "outputs": [
        {
          "data": {
            "application/vnd.google.colaboratory.intrinsic+json": {
              "summary": "{\n  \"name\": \"top_chunks\",\n  \"rows\": 3,\n  \"fields\": [\n    {\n      \"column\": \"filename\",\n      \"properties\": {\n        \"dtype\": \"category\",\n        \"num_unique_values\": 1,\n        \"samples\": [\n          \"1566373_2018.htm\"\n        ],\n        \"semantic_type\": \"\",\n        \"description\": \"\"\n      }\n    },\n    {\n      \"column\": \"cik\",\n      \"properties\": {\n        \"dtype\": \"int32\",\n        \"num_unique_values\": 1,\n        \"samples\": [\n          1566373\n        ],\n        \"semantic_type\": \"\",\n        \"description\": \"\"\n      }\n    },\n    {\n      \"column\": \"year\",\n      \"properties\": {\n        \"dtype\": \"int32\",\n        \"num_unique_values\": 1,\n        \"samples\": [\n          2018\n        ],\n        \"semantic_type\": \"\",\n        \"description\": \"\"\n      }\n    },\n    {\n      \"column\": \"section_name\",\n      \"properties\": {\n        \"dtype\": \"category\",\n        \"num_unique_values\": 1,\n        \"samples\": [\n          \"section_1\"\n        ],\n        \"semantic_type\": \"\",\n        \"description\": \"\"\n      }\n    },\n    {\n      \"column\": \"chunk_index\",\n      \"properties\": {\n        \"dtype\": \"int32\",\n        \"num_unique_values\": 3,\n        \"samples\": [\n          0\n        ],\n        \"semantic_type\": \"\",\n        \"description\": \"\"\n      }\n    },\n    {\n      \"column\": \"chunk_text\",\n      \"properties\": {\n        \"dtype\": \"string\",\n        \"num_unique_values\": 3,\n        \"samples\": [\n          \"Item 1. Business\\nOverview\\nWe are a clinical-stage biopharmaceutical company engaged in the discovery and development of a novel class of therapeutics for the treatment of viral infections, inflammatory diseases and certain cancers using our proprietary small molecule nucleotide platform. We design our compounds to selectively target and modulate the activity of specific proteins implicated in various disease states. We are developing our lead product candidate, inarigivir soproxil, or inarigivir, for the treatment of chronic hepatitis B virus, or HBV. We have designed our antiviral product candidates, including inarigivir, to selectively activate within infected hepatic cells the cellular protein, retinoic acid-inducible gene 1 (RIG-I), to inhibit viral replication and to cause the induction of intracellular interferon signaling pathways for antiviral defense. We believe that inarigivir, as a RIG-I agonist, could play an important role in antiviral therapy as a result of its dual mechanism of action that is designed to selectively modulate the body\\u2019s immune response and inhibit viral replication. We are also developing additional product candidates, including our lead STING (STimulator of INterferon Genes) agonist product candidate, SB 11285, which is an immunotherapeutic agent for the potential treatment of selected cancers.\\nThe following table summarizes the status of our development pipeline. We retain exclusive global commercial rights to all of our compounds.\\nChronic HBV Program\\nChronic HBV infection, which is defined by the presence of hepatitis B surface antigen, or HBsAg, for greater than six months, is a virus most commonly transmitted by contact with the blood or other bodily fluids of an infected person. Individuals with chronic HBV are at an increased risk of developing liver cancer, significant liver disease, or permanent scarring of the liver, leading to cirrhosis and liver failure. There is no approved cure for chronic HBV. Currently approved, standard of care therapies for the treatment of chronic HBV lack a broadly sustained response following the discontinuation of treatment and have significant limitations. Although treatment with pegylated interferon-a, or PEG-IFN- \\u03b1, products can ultimately reduce the amount of HBV DNA, or viral load, in the body, this treatment only has a limited effect on the rate of loss or clearance of HBsAg. PEG-IFN- \\u03b1 products also have significant side effects, including flu-like symptoms and fever and, with long term use, can lead to suppression of the production of red and white blood cells, mood swings, depression, anxiety and other neuropsychiatric effects. Additionally, while nucleoside/tide analogue direct-acting oral antiviral agents such as entecavir (marketed by Bristol-Myers Squibb as Baraclude\\u00ae), tenofovir disoproxil fumarate 300mg (TDF) (marketed by Gilead as Viread\\u00ae), and tenofovir alafenamide 25mg (TAF) (marketed by Gilead as Vemlidy\\u00ae), which we collectively refer to as \\u201cNUCs,\\u201d have demonstrated that they potently suppress HBV DNA, which\\ngenerally we refer to as \\u201cviral suppression\\u201d or \\u201cvirally-suppressed,\\u201d they generally only suppress the virus during treatment without providing significant levels of HBsAg loss or clearance. Additionally, patients taking these NUCs likely require life-long treatment.\\nExperts and regulators have suggested that a \\u201cfunctional cure,\\u201d characterized as either the loss of HBsAg or complete suppression of HBV DNA production, both of which are sustained off therapy, should be the goal of any new curative HBV therapy. A functional cure for chronic HBV with a shorter, finite period of treatment could improve clinical prognosis with a reduction in the risks of cirrhosis and liver cancer.\\nInarigivir Clinical Trial Strategy. We are developing our lead product candidate, inarigivir, an orally-administered hepatic-selective immunomodulator, as a potential backbone in a combinatorial treatment for chronic HBV with the goal to accelerate and substantially increase chronic HBV functional cure rates in a simple, safe and selective manner.\\nACHIEVE Trial. We are currently evaluating inarigivir for the treatment of chronic HBV in a global Phase 2 multi-center clinical trial of inarigivir, which we refer to as the ACHIEVE trial. The ACHIEVE trial is being conducted under our first clinical trial supply and collaboration with Gilead Sciences, Inc., or Gilead. Approximately 80 treatment-naive patients infected with chronic HBV have received doses of 25mg, 50mg, 100mg or 200mg of inarigivir or a placebo as a monotherapy administered daily for 12 weeks, followed by all patients receiving a sequential dose of Viread for 12 weeks. The active-placebo randomization schedule was 4:1 in the inarigivir monotherapy dosing period.\\nIn the first three cohorts (25mg, 50mg and 100mg) of the ACHIEVE trial, 13 of 47 patients (28%) had a 0.5 log10 or greater reduction in HBsAg. Of these 13 responder patients, six were HBeAg-negative (-) patients and seven were HBeAg-positive (+) patients. Additionally, we have observed a dose dependent response of inarigivir on HBV DNA and HBV RNA over the first three cohorts. To date, inarigivir has been well tolerated in the ACHIEVE trial, with no inarigivir-related serious adverse events observed, and no flu-like symptoms or other interferon-like side effects.\\nAll patients in the final 200mg cohort of the ACHIEVE trial have completed dosing of Viread and top-line results from the final 200mg cohort will be presented at The International Liver Congress, the Annual Meeting of the European Association for the Study of the Liver (EASL) in April 2019.\\nGilead Collaboration. In July 2017, we entered into our second clinical trial collaboration agreement with Gilead under which Gilead is funding and conducting a Phase 2 clinical trial examining the co-administration of inarigivir and Vemlidy in patients infected with chronic HBV. This clinical trial collaboration was expanded in August 2018 to include two additional cohorts. In the first cohort of this Phase 2 trial, treatment-naive patients received 12 weeks of combination therapy with inarigivir 50mg and Vemlidy, while in the second cohort treatment-naive patients are receiving 12 weeks of combination therapy with inarigivir 200mg and Vemlidy. In a third cohort, Gilead is evaluating the administration of inarigivir 100mg in virally-suppressed patients who are already are and continue to be treated with a NUC. While we have approved the protocol for this trial under a joint steering committee, Gilead is conducting this trial at their own expense.\\nCATALYST Trials. We plan to initiate in the first half of 2019 two major Phase 2 global trials examining the administration of\"\n        ],\n        \"semantic_type\": \"\",\n        \"description\": \"\"\n      }\n    },\n    {\n      \"column\": \"augmented_text\",\n      \"properties\": {\n        \"dtype\": \"string\",\n        \"num_unique_values\": 3,\n        \"samples\": [\n          \"0     1566373\\n1     1566373\\n2     1566373\\n3     1566373\\n4     1566373\\n5     1566373\\n6     1566373\\n7     1566373\\n8     1566373\\n9     1566373\\n10    1566373\\n11    1566373\\n12    1566373\\n13    1566373\\n14    1566373\\n15    1566373\\n16    1566373\\n17    1566373\\n18    1566373\\n19    1566373\\n20    1566373\\n21    1566373\\n22    1566373\\n23    1566373\\n24    1566373\\n25    1566373\\n26    1566373\\n27    1566373\\n28    1566373\\n29    1566373\\n30    1566373\\n31    1566373\\n32    1566373\\n33    1566373\\n34    1566373\\n35    1566373\\n36    1566373\\n37    1566373\\n38    1566373\\n39    1566373\\n40    1566373\\n41    1566373\\n42    1566373\\n43    1566373\\n44    1566373\\n45    1566373\\n46    1566373\\n47    1566373\\n48    1566373\\n49    1566373\\n50    1566373\\n51    1566373\\nName: cik, dtype: int32-section_1: Item 1. Business\\nOverview\\nWe are a clinical-stage biopharmaceutical company engaged in the discovery and development of a novel class of therapeutics for the treatment of viral infections, inflammatory diseases and certain cancers using our proprietary small molecule nucleotide platform. We design our compounds to selectively target and modulate the activity of specific proteins implicated in various disease states. We are developing our lead product candidate, inarigivir soproxil, or inarigivir, for the treatment of chronic hepatitis B virus, or HBV. We have designed our antiviral product candidates, including inarigivir, to selectively activate within infected hepatic cells the cellular protein, retinoic acid-inducible gene 1 (RIG-I), to inhibit viral replication and to cause the induction of intracellular interferon signaling pathways for antiviral defense. We believe that inarigivir, as a RIG-I agonist, could play an important role in antiviral therapy as a result of its dual mechanism of action that is designed to selectively modulate the body\\u2019s immune response and inhibit viral replication. We are also developing additional product candidates, including our lead STING (STimulator of INterferon Genes) agonist product candidate, SB 11285, which is an immunotherapeutic agent for the potential treatment of selected cancers.\\nThe following table summarizes the status of our development pipeline. We retain exclusive global commercial rights to all of our compounds.\\nChronic HBV Program\\nChronic HBV infection, which is defined by the presence of hepatitis B surface antigen, or HBsAg, for greater than six months, is a virus most commonly transmitted by contact with the blood or other bodily fluids of an infected person. Individuals with chronic HBV are at an increased risk of developing liver cancer, significant liver disease, or permanent scarring of the liver, leading to cirrhosis and liver failure. There is no approved cure for chronic HBV. Currently approved, standard of care therapies for the treatment of chronic HBV lack a broadly sustained response following the discontinuation of treatment and have significant limitations. Although treatment with pegylated interferon-a, or PEG-IFN- \\u03b1, products can ultimately reduce the amount of HBV DNA, or viral load, in the body, this treatment only has a limited effect on the rate of loss or clearance of HBsAg. PEG-IFN- \\u03b1 products also have significant side effects, including flu-like symptoms and fever and, with long term use, can lead to suppression of the production of red and white blood cells, mood swings, depression, anxiety and other neuropsychiatric effects. Additionally, while nucleoside/tide analogue direct-acting oral antiviral agents such as entecavir (marketed by Bristol-Myers Squibb as Baraclude\\u00ae), tenofovir disoproxil fumarate 300mg (TDF) (marketed by Gilead as Viread\\u00ae), and tenofovir alafenamide 25mg (TAF) (marketed by Gilead as Vemlidy\\u00ae), which we collectively refer to as \\u201cNUCs,\\u201d have demonstrated that they potently suppress HBV DNA, which\\ngenerally we refer to as \\u201cviral suppression\\u201d or \\u201cvirally-suppressed,\\u201d they generally only suppress the virus during treatment without providing significant levels of HBsAg loss or clearance. Additionally, patients taking these NUCs likely require life-long treatment.\\nExperts and regulators have suggested that a \\u201cfunctional cure,\\u201d characterized as either the loss of HBsAg or complete suppression of HBV DNA production, both of which are sustained off therapy, should be the goal of any new curative HBV therapy. A functional cure for chronic HBV with a shorter, finite period of treatment could improve clinical prognosis with a reduction in the risks of cirrhosis and liver cancer.\\nInarigivir Clinical Trial Strategy. We are developing our lead product candidate, inarigivir, an orally-administered hepatic-selective immunomodulator, as a potential backbone in a combinatorial treatment for chronic HBV with the goal to accelerate and substantially increase chronic HBV functional cure rates in a simple, safe and selective manner.\\nACHIEVE Trial. We are currently evaluating inarigivir for the treatment of chronic HBV in a global Phase 2 multi-center clinical trial of inarigivir, which we refer to as the ACHIEVE trial. The ACHIEVE trial is being conducted under our first clinical trial supply and collaboration with Gilead Sciences, Inc., or Gilead. Approximately 80 treatment-naive patients infected with chronic HBV have received doses of 25mg, 50mg, 100mg or 200mg of inarigivir or a placebo as a monotherapy administered daily for 12 weeks, followed by all patients receiving a sequential dose of Viread for 12 weeks. The active-placebo randomization schedule was 4:1 in the inarigivir monotherapy dosing period.\\nIn the first three cohorts (25mg, 50mg and 100mg) of the ACHIEVE trial, 13 of 47 patients (28%) had a 0.5 log10 or greater reduction in HBsAg. Of these 13 responder patients, six were HBeAg-negative (-) patients and seven were HBeAg-positive (+) patients. Additionally, we have observed a dose dependent response of inarigivir on HBV DNA and HBV RNA over the first three cohorts. To date, inarigivir has been well tolerated in the ACHIEVE trial, with no inarigivir-related serious adverse events observed, and no flu-like symptoms or other interferon-like side effects.\\nAll patients in the final 200mg cohort of the ACHIEVE trial have completed dosing of Viread and top-line results from the final 200mg cohort will be presented at The International Liver Congress, the Annual Meeting of the European Association for the Study of the Liver (EASL) in April 2019.\\nGilead Collaboration. In July 2017, we entered into our second clinical trial collaboration agreement with Gilead under which Gilead is funding and conducting a Phase 2 clinical trial examining the co-administration of inarigivir and Vemlidy in patients infected with chronic HBV. This clinical trial collaboration was expanded in August 2018 to include two additional cohorts. In the first cohort of this Phase 2 trial, treatment-naive patients received 12 weeks of combination therapy with inarigivir 50mg and Vemlidy, while in the second cohort treatment-naive patients are receiving 12 weeks of combination therapy with inarigivir 200mg and Vemlidy. In a third cohort, Gilead is evaluating the administration of inarigivir 100mg in virally-suppressed patients who are already are and continue to be treated with a NUC. While we have approved the protocol for this trial under a joint steering committee, Gilead is conducting this trial at their own expense.\\nCATALYST Trials. We plan to initiate in the first half of 2019 two major Phase 2 global trials examining the administration of\"\n        ],\n        \"semantic_type\": \"\",\n        \"description\": \"\"\n      }\n    },\n    {\n      \"column\": \"embedding\",\n      \"properties\": {\n        \"dtype\": \"object\",\n        \"semantic_type\": \"\",\n        \"description\": \"\"\n      }\n    },\n    {\n      \"column\": \"similarity\",\n      \"properties\": {\n        \"dtype\": \"number\",\n        \"std\": 0.0,\n        \"min\": -0.051749218071569104,\n        \"max\": -0.051749218071569104,\n        \"num_unique_values\": 1,\n        \"samples\": [\n          -0.051749218071569104\n        ],\n        \"semantic_type\": \"\",\n        \"description\": \"\"\n      }\n    }\n  ]\n}",
              "type": "dataframe",
              "variable_name": "top_chunks"
            },
            "text/html": [
              "\n",
              "  <div id=\"df-bc2602fb-70de-4ed9-a5cd-38b1aee50573\" class=\"colab-df-container\">\n",
              "    <div>\n",
              "<style scoped>\n",
              "    .dataframe tbody tr th:only-of-type {\n",
              "        vertical-align: middle;\n",
              "    }\n",
              "\n",
              "    .dataframe tbody tr th {\n",
              "        vertical-align: top;\n",
              "    }\n",
              "\n",
              "    .dataframe thead th {\n",
              "        text-align: right;\n",
              "    }\n",
              "</style>\n",
              "<table border=\"1\" class=\"dataframe\">\n",
              "  <thead>\n",
              "    <tr style=\"text-align: right;\">\n",
              "      <th></th>\n",
              "      <th>filename</th>\n",
              "      <th>cik</th>\n",
              "      <th>year</th>\n",
              "      <th>section_name</th>\n",
              "      <th>chunk_index</th>\n",
              "      <th>chunk_text</th>\n",
              "      <th>augmented_text</th>\n",
              "      <th>embedding</th>\n",
              "      <th>similarity</th>\n",
              "    </tr>\n",
              "  </thead>\n",
              "  <tbody>\n",
              "    <tr>\n",
              "      <th>0</th>\n",
              "      <td>1566373_2018.htm</td>\n",
              "      <td>1566373</td>\n",
              "      <td>2018</td>\n",
              "      <td>section_1</td>\n",
              "      <td>0</td>\n",
              "      <td>Item 1. Business\\nOverview\\nWe are a clinical-...</td>\n",
              "      <td>0     1566373\\n1     1566373\\n2     1566373\\n3...</td>\n",
              "      <td>[0.009221972897648811, -0.0379352867603302, -0...</td>\n",
              "      <td>-0.051749</td>\n",
              "    </tr>\n",
              "    <tr>\n",
              "      <th>1</th>\n",
              "      <td>1566373_2018.htm</td>\n",
              "      <td>1566373</td>\n",
              "      <td>2018</td>\n",
              "      <td>section_1</td>\n",
              "      <td>1</td>\n",
              "      <td>inarigivir 400mg in different patient populati...</td>\n",
              "      <td>0     1566373\\n1     1566373\\n2     1566373\\n3...</td>\n",
              "      <td>[0.009221972897648811, -0.0379352867603302, -0...</td>\n",
              "      <td>-0.051749</td>\n",
              "    </tr>\n",
              "    <tr>\n",
              "      <th>2</th>\n",
              "      <td>1566373_2018.htm</td>\n",
              "      <td>1566373</td>\n",
              "      <td>2018</td>\n",
              "      <td>section_1</td>\n",
              "      <td>2</td>\n",
              "      <td>clinical trial in cancer later in 2019. SB 112...</td>\n",
              "      <td>0     1566373\\n1     1566373\\n2     1566373\\n3...</td>\n",
              "      <td>[0.009221972897648811, -0.0379352867603302, -0...</td>\n",
              "      <td>-0.051749</td>\n",
              "    </tr>\n",
              "  </tbody>\n",
              "</table>\n",
              "</div>\n",
              "    <div class=\"colab-df-buttons\">\n",
              "\n",
              "  <div class=\"colab-df-container\">\n",
              "    <button class=\"colab-df-convert\" onclick=\"convertToInteractive('df-bc2602fb-70de-4ed9-a5cd-38b1aee50573')\"\n",
              "            title=\"Convert this dataframe to an interactive table.\"\n",
              "            style=\"display:none;\">\n",
              "\n",
              "  <svg xmlns=\"http://www.w3.org/2000/svg\" height=\"24px\" viewBox=\"0 -960 960 960\">\n",
              "    <path d=\"M120-120v-720h720v720H120Zm60-500h600v-160H180v160Zm220 220h160v-160H400v160Zm0 220h160v-160H400v160ZM180-400h160v-160H180v160Zm440 0h160v-160H620v160ZM180-180h160v-160H180v160Zm440 0h160v-160H620v160Z\"/>\n",
              "  </svg>\n",
              "    </button>\n",
              "\n",
              "  <style>\n",
              "    .colab-df-container {\n",
              "      display:flex;\n",
              "      gap: 12px;\n",
              "    }\n",
              "\n",
              "    .colab-df-convert {\n",
              "      background-color: #E8F0FE;\n",
              "      border: none;\n",
              "      border-radius: 50%;\n",
              "      cursor: pointer;\n",
              "      display: none;\n",
              "      fill: #1967D2;\n",
              "      height: 32px;\n",
              "      padding: 0 0 0 0;\n",
              "      width: 32px;\n",
              "    }\n",
              "\n",
              "    .colab-df-convert:hover {\n",
              "      background-color: #E2EBFA;\n",
              "      box-shadow: 0px 1px 2px rgba(60, 64, 67, 0.3), 0px 1px 3px 1px rgba(60, 64, 67, 0.15);\n",
              "      fill: #174EA6;\n",
              "    }\n",
              "\n",
              "    .colab-df-buttons div {\n",
              "      margin-bottom: 4px;\n",
              "    }\n",
              "\n",
              "    [theme=dark] .colab-df-convert {\n",
              "      background-color: #3B4455;\n",
              "      fill: #D2E3FC;\n",
              "    }\n",
              "\n",
              "    [theme=dark] .colab-df-convert:hover {\n",
              "      background-color: #434B5C;\n",
              "      box-shadow: 0px 1px 3px 1px rgba(0, 0, 0, 0.15);\n",
              "      filter: drop-shadow(0px 1px 2px rgba(0, 0, 0, 0.3));\n",
              "      fill: #FFFFFF;\n",
              "    }\n",
              "  </style>\n",
              "\n",
              "    <script>\n",
              "      const buttonEl =\n",
              "        document.querySelector('#df-bc2602fb-70de-4ed9-a5cd-38b1aee50573 button.colab-df-convert');\n",
              "      buttonEl.style.display =\n",
              "        google.colab.kernel.accessAllowed ? 'block' : 'none';\n",
              "\n",
              "      async function convertToInteractive(key) {\n",
              "        const element = document.querySelector('#df-bc2602fb-70de-4ed9-a5cd-38b1aee50573');\n",
              "        const dataTable =\n",
              "          await google.colab.kernel.invokeFunction('convertToInteractive',\n",
              "                                                    [key], {});\n",
              "        if (!dataTable) return;\n",
              "\n",
              "        const docLinkHtml = 'Like what you see? Visit the ' +\n",
              "          '<a target=\"_blank\" href=https://colab.research.google.com/notebooks/data_table.ipynb>data table notebook</a>'\n",
              "          + ' to learn more about interactive tables.';\n",
              "        element.innerHTML = '';\n",
              "        dataTable['output_type'] = 'display_data';\n",
              "        await google.colab.output.renderOutput(dataTable, element);\n",
              "        const docLink = document.createElement('div');\n",
              "        docLink.innerHTML = docLinkHtml;\n",
              "        element.appendChild(docLink);\n",
              "      }\n",
              "    </script>\n",
              "  </div>\n",
              "\n",
              "\n",
              "    <div id=\"df-d4b61e2a-0c15-438c-b2aa-b70555611ac0\">\n",
              "      <button class=\"colab-df-quickchart\" onclick=\"quickchart('df-d4b61e2a-0c15-438c-b2aa-b70555611ac0')\"\n",
              "                title=\"Suggest charts\"\n",
              "                style=\"display:none;\">\n",
              "\n",
              "<svg xmlns=\"http://www.w3.org/2000/svg\" height=\"24px\"viewBox=\"0 0 24 24\"\n",
              "     width=\"24px\">\n",
              "    <g>\n",
              "        <path d=\"M19 3H5c-1.1 0-2 .9-2 2v14c0 1.1.9 2 2 2h14c1.1 0 2-.9 2-2V5c0-1.1-.9-2-2-2zM9 17H7v-7h2v7zm4 0h-2V7h2v10zm4 0h-2v-4h2v4z\"/>\n",
              "    </g>\n",
              "</svg>\n",
              "      </button>\n",
              "\n",
              "<style>\n",
              "  .colab-df-quickchart {\n",
              "      --bg-color: #E8F0FE;\n",
              "      --fill-color: #1967D2;\n",
              "      --hover-bg-color: #E2EBFA;\n",
              "      --hover-fill-color: #174EA6;\n",
              "      --disabled-fill-color: #AAA;\n",
              "      --disabled-bg-color: #DDD;\n",
              "  }\n",
              "\n",
              "  [theme=dark] .colab-df-quickchart {\n",
              "      --bg-color: #3B4455;\n",
              "      --fill-color: #D2E3FC;\n",
              "      --hover-bg-color: #434B5C;\n",
              "      --hover-fill-color: #FFFFFF;\n",
              "      --disabled-bg-color: #3B4455;\n",
              "      --disabled-fill-color: #666;\n",
              "  }\n",
              "\n",
              "  .colab-df-quickchart {\n",
              "    background-color: var(--bg-color);\n",
              "    border: none;\n",
              "    border-radius: 50%;\n",
              "    cursor: pointer;\n",
              "    display: none;\n",
              "    fill: var(--fill-color);\n",
              "    height: 32px;\n",
              "    padding: 0;\n",
              "    width: 32px;\n",
              "  }\n",
              "\n",
              "  .colab-df-quickchart:hover {\n",
              "    background-color: var(--hover-bg-color);\n",
              "    box-shadow: 0 1px 2px rgba(60, 64, 67, 0.3), 0 1px 3px 1px rgba(60, 64, 67, 0.15);\n",
              "    fill: var(--button-hover-fill-color);\n",
              "  }\n",
              "\n",
              "  .colab-df-quickchart-complete:disabled,\n",
              "  .colab-df-quickchart-complete:disabled:hover {\n",
              "    background-color: var(--disabled-bg-color);\n",
              "    fill: var(--disabled-fill-color);\n",
              "    box-shadow: none;\n",
              "  }\n",
              "\n",
              "  .colab-df-spinner {\n",
              "    border: 2px solid var(--fill-color);\n",
              "    border-color: transparent;\n",
              "    border-bottom-color: var(--fill-color);\n",
              "    animation:\n",
              "      spin 1s steps(1) infinite;\n",
              "  }\n",
              "\n",
              "  @keyframes spin {\n",
              "    0% {\n",
              "      border-color: transparent;\n",
              "      border-bottom-color: var(--fill-color);\n",
              "      border-left-color: var(--fill-color);\n",
              "    }\n",
              "    20% {\n",
              "      border-color: transparent;\n",
              "      border-left-color: var(--fill-color);\n",
              "      border-top-color: var(--fill-color);\n",
              "    }\n",
              "    30% {\n",
              "      border-color: transparent;\n",
              "      border-left-color: var(--fill-color);\n",
              "      border-top-color: var(--fill-color);\n",
              "      border-right-color: var(--fill-color);\n",
              "    }\n",
              "    40% {\n",
              "      border-color: transparent;\n",
              "      border-right-color: var(--fill-color);\n",
              "      border-top-color: var(--fill-color);\n",
              "    }\n",
              "    60% {\n",
              "      border-color: transparent;\n",
              "      border-right-color: var(--fill-color);\n",
              "    }\n",
              "    80% {\n",
              "      border-color: transparent;\n",
              "      border-right-color: var(--fill-color);\n",
              "      border-bottom-color: var(--fill-color);\n",
              "    }\n",
              "    90% {\n",
              "      border-color: transparent;\n",
              "      border-bottom-color: var(--fill-color);\n",
              "    }\n",
              "  }\n",
              "</style>\n",
              "\n",
              "      <script>\n",
              "        async function quickchart(key) {\n",
              "          const quickchartButtonEl =\n",
              "            document.querySelector('#' + key + ' button');\n",
              "          quickchartButtonEl.disabled = true;  // To prevent multiple clicks.\n",
              "          quickchartButtonEl.classList.add('colab-df-spinner');\n",
              "          try {\n",
              "            const charts = await google.colab.kernel.invokeFunction(\n",
              "                'suggestCharts', [key], {});\n",
              "          } catch (error) {\n",
              "            console.error('Error during call to suggestCharts:', error);\n",
              "          }\n",
              "          quickchartButtonEl.classList.remove('colab-df-spinner');\n",
              "          quickchartButtonEl.classList.add('colab-df-quickchart-complete');\n",
              "        }\n",
              "        (() => {\n",
              "          let quickchartButtonEl =\n",
              "            document.querySelector('#df-d4b61e2a-0c15-438c-b2aa-b70555611ac0 button');\n",
              "          quickchartButtonEl.style.display =\n",
              "            google.colab.kernel.accessAllowed ? 'block' : 'none';\n",
              "        })();\n",
              "      </script>\n",
              "    </div>\n",
              "\n",
              "  <div id=\"id_a2c7bed4-ffa7-46cc-9b91-bc0f521575e4\">\n",
              "    <style>\n",
              "      .colab-df-generate {\n",
              "        background-color: #E8F0FE;\n",
              "        border: none;\n",
              "        border-radius: 50%;\n",
              "        cursor: pointer;\n",
              "        display: none;\n",
              "        fill: #1967D2;\n",
              "        height: 32px;\n",
              "        padding: 0 0 0 0;\n",
              "        width: 32px;\n",
              "      }\n",
              "\n",
              "      .colab-df-generate:hover {\n",
              "        background-color: #E2EBFA;\n",
              "        box-shadow: 0px 1px 2px rgba(60, 64, 67, 0.3), 0px 1px 3px 1px rgba(60, 64, 67, 0.15);\n",
              "        fill: #174EA6;\n",
              "      }\n",
              "\n",
              "      [theme=dark] .colab-df-generate {\n",
              "        background-color: #3B4455;\n",
              "        fill: #D2E3FC;\n",
              "      }\n",
              "\n",
              "      [theme=dark] .colab-df-generate:hover {\n",
              "        background-color: #434B5C;\n",
              "        box-shadow: 0px 1px 3px 1px rgba(0, 0, 0, 0.15);\n",
              "        filter: drop-shadow(0px 1px 2px rgba(0, 0, 0, 0.3));\n",
              "        fill: #FFFFFF;\n",
              "      }\n",
              "    </style>\n",
              "    <button class=\"colab-df-generate\" onclick=\"generateWithVariable('top_chunks')\"\n",
              "            title=\"Generate code using this dataframe.\"\n",
              "            style=\"display:none;\">\n",
              "\n",
              "  <svg xmlns=\"http://www.w3.org/2000/svg\" height=\"24px\"viewBox=\"0 0 24 24\"\n",
              "       width=\"24px\">\n",
              "    <path d=\"M7,19H8.4L18.45,9,17,7.55,7,17.6ZM5,21V16.75L18.45,3.32a2,2,0,0,1,2.83,0l1.4,1.43a1.91,1.91,0,0,1,.58,1.4,1.91,1.91,0,0,1-.58,1.4L9.25,21ZM18.45,9,17,7.55Zm-12,3A5.31,5.31,0,0,0,4.9,8.1,5.31,5.31,0,0,0,1,6.5,5.31,5.31,0,0,0,4.9,4.9,5.31,5.31,0,0,0,6.5,1,5.31,5.31,0,0,0,8.1,4.9,5.31,5.31,0,0,0,12,6.5,5.46,5.46,0,0,0,6.5,12Z\"/>\n",
              "  </svg>\n",
              "    </button>\n",
              "    <script>\n",
              "      (() => {\n",
              "      const buttonEl =\n",
              "        document.querySelector('#id_a2c7bed4-ffa7-46cc-9b91-bc0f521575e4 button.colab-df-generate');\n",
              "      buttonEl.style.display =\n",
              "        google.colab.kernel.accessAllowed ? 'block' : 'none';\n",
              "\n",
              "      buttonEl.onclick = () => {\n",
              "        google.colab.notebook.generateWithVariable('top_chunks');\n",
              "      }\n",
              "      })();\n",
              "    </script>\n",
              "  </div>\n",
              "\n",
              "    </div>\n",
              "  </div>\n"
            ],
            "text/plain": [
              "           filename      cik  year section_name  chunk_index  \\\n",
              "0  1566373_2018.htm  1566373  2018    section_1            0   \n",
              "1  1566373_2018.htm  1566373  2018    section_1            1   \n",
              "2  1566373_2018.htm  1566373  2018    section_1            2   \n",
              "\n",
              "                                          chunk_text  \\\n",
              "0  Item 1. Business\\nOverview\\nWe are a clinical-...   \n",
              "1  inarigivir 400mg in different patient populati...   \n",
              "2  clinical trial in cancer later in 2019. SB 112...   \n",
              "\n",
              "                                      augmented_text  \\\n",
              "0  0     1566373\\n1     1566373\\n2     1566373\\n3...   \n",
              "1  0     1566373\\n1     1566373\\n2     1566373\\n3...   \n",
              "2  0     1566373\\n1     1566373\\n2     1566373\\n3...   \n",
              "\n",
              "                                           embedding  similarity  \n",
              "0  [0.009221972897648811, -0.0379352867603302, -0...   -0.051749  \n",
              "1  [0.009221972897648811, -0.0379352867603302, -0...   -0.051749  \n",
              "2  [0.009221972897648811, -0.0379352867603302, -0...   -0.051749  "
            ]
          },
          "execution_count": 138,
          "metadata": {},
          "output_type": "execute_result"
        }
      ],
      "source": [
        "# Show top chunk on which LLM answer is based on\n",
        "top_chunks"
      ]
    },
    {
      "cell_type": "markdown",
      "metadata": {
        "id": "n06tzdH0FHpl"
      },
      "source": [
        "## Attribute 4 : Control Over Financial Reporting"
      ]
    },
    {
      "cell_type": "code",
      "execution_count": 92,
      "metadata": {
        "colab": {
          "base_uri": "https://localhost:8080/"
        },
        "id": "jeA3cWK6FG_6",
        "outputId": "5c34f1c6-3f47-4c96-a4ff-8e7efca6e6a2"
      },
      "outputs": [
        {
          "name": "stdout",
          "output_type": "stream",
          "text": [
            "LLM Answer:\n",
            "Effective\n"
          ]
        }
      ],
      "source": [
        "## ---------------------- FOR YEAR 2020 - cik 718413  -----------------\n",
        "\n",
        "query = \"What did management conclude about the effectiveness of internal controls over financial reporting?\"\n",
        "year = 2020\n",
        "\n",
        "# Run your function\n",
        "answer, top_chunks = run_llm_query(query=query, year=year, template=template, model=model)\n",
        "\n",
        "# Show the output\n",
        "print(\"LLM Answer:\")\n",
        "print(answer)"
      ]
    },
    {
      "cell_type": "markdown",
      "metadata": {
        "id": "R2zD9YYlqnt9"
      },
      "source": [
        "Actual Answer : Effective"
      ]
    },
    {
      "cell_type": "code",
      "execution_count": 93,
      "metadata": {
        "colab": {
          "base_uri": "https://localhost:8080/",
          "height": 109
        },
        "id": "EMPghtXyE5ou",
        "outputId": "7f33b07b-518f-4aa6-ec75-b8d02d56ecac"
      },
      "outputs": [
        {
          "data": {
            "application/vnd.google.colaboratory.intrinsic+json": {
              "type": "string"
            },
            "text/plain": [
              "'Item 9A. Controls and Procedures\\nDisclosure Controls and Procedures\\nManagement is responsible for establishing and maintaining effective disclosure controls and procedures, as defined in Rule 13a-15(e) under the Securities Exchange Act of 1934 (the Exchange Act). As of December 31, 2020, an evaluation was performed under the supervision and with the participation of management, including the principal executive officer and principal financial officer, of the effectiveness of the design and operation of the Company’s disclosure controls and procedures. Based on that evaluation, management concluded that its disclosure controls and procedures as of December 31, 2020 were effective in ensuring that material information required to be disclosed in the reports it files with the Commission under the Exchange Act was recorded, processed, summarized, and reported on a timely basis.\\nFor this purpose, the term “disclosure controls and procedures” means controls and other procedures of the Company that are designed to ensure that information required to be disclosed by it in the reports that it files or submits under the Exchange Act (15 U.S.C. 78a et seq.) is recorded, processed, summarized and reported, within the time periods specified in the SEC’s rules and forms. Disclosure controls and procedures include, without limitation, controls and procedures designed to ensure that information required to be disclosed by the Company in the reports that it files or submits under the Exchange Act is accumulated and communicated to the Company’s management, including its principal executive and principal financial officers, or persons performing similar functions, as appropriate to allow timely decisions regarding required disclosure.\\nManagement’s Report on Internal Control Over Financial Reporting\\nThe Management of the Company is responsible for the preparation and fair presentation of the consolidated financial statements and other financial information contained in this Form 10-K. Management is also responsible for establishing and maintaining adequate internal control over financial reporting and for identifying the framework used to evaluate its effectiveness. Management has designed processes, internal control and a business culture that foster financial integrity and accurate reporting. The Company’s comprehensive system of internal control over financial reporting was designed to provide reasonable assurances regarding the reliability of financial reporting and the preparation of the consolidated financial statements of the Company in accordance with generally accepted accounting principles. The Company’s accounting policies and internal control over financial reporting, established and maintained by Management, are under the general oversight of the Company’s Board of Directors, including the Board of Directors’ Audit Committee.\\nManagement has made a comprehensive review, evaluation, and assessment of the Company’s internal control over financial reporting as of December 31, 2020. The standard measures adopted by Management in making its evaluation are the measures in the 2013 Internal Control - Integrated Framework issued by the Committee of Sponsoring Organizations of the Treadway Commission. Based upon its review and evaluation, Management concluded that the Company maintained effective internal control over financial reporting as of December 31, 2020.\\nIn accordance with relief granted to non-accelerated filers as defined in SEC Release No. 34-88365, this Annual Report does not contain an attestation report of the Company’s independent registered public accounting firm regarding management’s internal control over financial reporting.\\nChanges in Internal Control Over Financial Reporting\\nThere were no changes in the Company’s internal control over financial reporting that occurred during the quarter ended December 31, 2020 that have materially affected, or are reasonably likely to materially affect, the Company’s internal control over financial reporting.\\nItem 9B.'"
            ]
          },
          "execution_count": 93,
          "metadata": {},
          "output_type": "execute_result"
        }
      ],
      "source": [
        "# Show top chunk on which LLM answer is based on\n",
        "top_chunks[\"chunk_text\"].iloc[0]"
      ]
    },
    {
      "cell_type": "code",
      "execution_count": 94,
      "metadata": {
        "colab": {
          "base_uri": "https://localhost:8080/"
        },
        "id": "CEpixY1bF5kq",
        "outputId": "8f2938c3-fb97-4e7b-d5c8-4a59538d198c"
      },
      "outputs": [
        {
          "name": "stdout",
          "output_type": "stream",
          "text": [
            "LLM Answer:\n",
            "Effective.\n"
          ]
        }
      ],
      "source": [
        "## ---------------------- FOR YEAR 2019 - cik 88121  -----------------\n",
        "\n",
        "query = \"What did management conclude about the effectiveness of internal controls over financial reporting?\"\n",
        "year = 2019\n",
        "\n",
        "# Run your function\n",
        "answer, top_chunks = run_llm_query(query=query, year=year, template=template, model=model)\n",
        "\n",
        "# Show the output\n",
        "print(\"LLM Answer:\")\n",
        "print(answer)"
      ]
    },
    {
      "cell_type": "markdown",
      "metadata": {
        "id": "yjjq5yH3qs4C"
      },
      "source": [
        "* Actual Answer : Effective"
      ]
    },
    {
      "cell_type": "code",
      "execution_count": 95,
      "metadata": {
        "colab": {
          "base_uri": "https://localhost:8080/",
          "height": 143
        },
        "id": "B3xUMneGGGvR",
        "outputId": "3a74a33d-e56d-48bf-94dc-64b3fee72eca"
      },
      "outputs": [
        {
          "data": {
            "application/vnd.google.colaboratory.intrinsic+json": {
              "summary": "{\n  \"name\": \"top_chunks\",\n  \"rows\": 3,\n  \"fields\": [\n    {\n      \"column\": \"filename\",\n      \"properties\": {\n        \"dtype\": \"category\",\n        \"num_unique_values\": 1,\n        \"samples\": [\n          \"88121_2019.htm\"\n        ],\n        \"semantic_type\": \"\",\n        \"description\": \"\"\n      }\n    },\n    {\n      \"column\": \"cik\",\n      \"properties\": {\n        \"dtype\": \"int32\",\n        \"num_unique_values\": 1,\n        \"samples\": [\n          88121\n        ],\n        \"semantic_type\": \"\",\n        \"description\": \"\"\n      }\n    },\n    {\n      \"column\": \"year\",\n      \"properties\": {\n        \"dtype\": \"int32\",\n        \"num_unique_values\": 1,\n        \"samples\": [\n          2019\n        ],\n        \"semantic_type\": \"\",\n        \"description\": \"\"\n      }\n    },\n    {\n      \"column\": \"section_name\",\n      \"properties\": {\n        \"dtype\": \"string\",\n        \"num_unique_values\": 2,\n        \"samples\": [\n          \"section_7\"\n        ],\n        \"semantic_type\": \"\",\n        \"description\": \"\"\n      }\n    },\n    {\n      \"column\": \"chunk_index\",\n      \"properties\": {\n        \"dtype\": \"int32\",\n        \"num_unique_values\": 3,\n        \"samples\": [\n          1\n        ],\n        \"semantic_type\": \"\",\n        \"description\": \"\"\n      }\n    },\n    {\n      \"column\": \"chunk_text\",\n      \"properties\": {\n        \"dtype\": \"string\",\n        \"num_unique_values\": 3,\n        \"samples\": [\n          \"locations and applied auditor judgment to determine the locations at which procedures were to be performed. We tested certain internal controls over the Company\\u2019s revenue process, including controls related to the recognition and consolidation of global revenue amounts. We tested a sample of individual revenue transactions by comparing the amounts recognized by the Company to relevant underlying documentation such as contracts. In addition, we evaluated the overall sufficiency of audit evidence obtained over revenue.\\nWe have served as the Company\\u2019s auditor since 1959.\\nKansas City, Missouri\\nFebruary 19, 2020\\nSEABOARD CORPORATION\\nConsolidated Statements of Comprehensive Income\\nSee accompanying notes to consolidated financial statements.\\nSEABOARD CORPORATION\\nConsolidated Balance Sheets\\nSee accompanying notes to consolidated financial statements.\\nSEABOARD CORPORATION\\nConsolidated Statements of Cash Flows\\nSee accompanying notes to consolidated financial statements.\\nSEABOARD CORPORATION\\nConsolidated Statements of Changes in Equity\\nSee accompanying notes to consolidated financial statements.\\nSEABOARD CORPORATION\\nNotes to Consolidated Financial Statements\\nNote 1 - Summary of Significant Accounting Policies\\nOperations of Seaboard Corporation and its Subsidiaries\\nSeaboard Corporation and its subsidiaries (collectively, \\u201cSeaboard\\u201d) together comprise a diverse global agribusiness and transportation company. In the United States (\\u201cU.S.\\u201d), Seaboard is primarily engaged in hog production and pork processing and ocean transportation. Overseas, Seaboard is primarily engaged in commodity merchandising, grain processing, sugar and alcohol production and electric power generation. Seaboard also has an equity method investment in Butterball, LLC (\\u201cButterball\\u201d), a producer and processor of branded and non-branded turkey products. Approximately 77% of the outstanding common stock of Seaboard is collectively owned by Seaboard Flour LLC and SFC Preferred, LLC.\\nPrinciples of Consolidation and Investments in Affiliates\\nThe consolidated financial statements include the accounts of Seaboard Corporation and its domestic and foreign subsidiaries. All significant intercompany balances and transactions have been eliminated in consolidation. Investments in non-controlled affiliates where we have significant influence are accounted for by the equity method. Financial information from certain foreign subsidiaries and affiliates is reported on a one- to three-month lag, depending on the specific entity. As Seaboard conducts its agricultural commodity trading business with third parties, consolidated subsidiaries and affiliates on an interrelated basis, cost of sales on affiliates cannot be clearly distinguished without making numerous assumptions, primarily with respect to mark-to-market accounting for commodity derivatives.\\nUse of Estimates\\nThe preparation of the consolidated financial statements in conformity with U.S. generally accepted accounting principles (\\u201cGAAP\\u201d) requires management to make estimates and assumptions that affect the reported amounts of assets and liabilities, the disclosure of contingent assets and liabilities at the date of the consolidated financial statements and the reported amounts of revenues and expenses during the reporting period. Significant items subject to such estimates and assumptions include those related to allowance for doubtful accounts, valuation of inventories, impairment of long-lived assets, potential write down related to investments in and advances to affiliates and notes receivable from affiliates, income taxes, lease liabilities and right of use (\\u201cROU\\u201d) assets and accrued pension liability. Actual results could differ from those estimates.\\nForeign Currency Transactions and Translation\\nSeaboard has operations in several foreign countries, and the currencies of the countries fluctuate in relation to the U.S. dollar. Certain of the major contracts and transactions, however, are denominated in U.S. dollars. In addition, the value of the U.S. dollar fluctuates in relation to the currencies of countries where certain of Seaboard\\u2019s foreign subsidiaries and affiliates primarily conduct business. These fluctuations result in exchange gains and losses. The activities of these foreign subsidiaries and affiliates are primarily conducted with U.S. subsidiaries or operate in hyper-inflationary environments. As a result, the financial statements of certain foreign subsidiaries and affiliates are re-measured using the U.S. dollar as the functional currency. Certain CT&M segment consolidated subsidiaries located in Brazil, Canada, Guyana, Ivory Coast, Senegal, South Africa and Zambia use local currency as their functional currency. Also, certain non-controlled, non-consolidated affiliates of the CT&M and Sugar and Alcohol segments use local currency as their functional currency. Assets and liabilities of these subsidiaries are translated to U.S. dollars at year-end exchange rates, and income and expenses are translated at average rates. Translation gains and losses are recorded as components of other comprehensive income (loss). For the consolidated subsidiaries and non-consolidated affiliates, U.S. dollar denominated net asset or liability conversions to the local currency are recorded through income.\\nGAAP requires the use of highly inflationary accounting for countries whose cumulative three-year inflation exceeds 100%. In the second quarter of 2018, the Argentine peso rapidly devalued relative to the U.S. dollar, which along with increased inflation, indicated that the three-year cumulative inflation in that country exceeded 100%. As a result, Seaboard adopted highly inflationary accounting as of July 1, 2018 for Seaboard\\u2019s Sugar and Alcohol segment. Under highly inflationary accounting, the Sugar and Alcohol segment\\u2019s functional currency became the U.S. dollar, and its income statement and balance sheet are measured in U.S. dollars using both current and historical rates of exchange. The effect of changes in exchange rates on peso-denominated monetary assets and liabilities are reflected in foreign currency gains (losses), net. For the years ended December 31, 2019 and 2018, Seaboard recognized $(3) million and $9 million in foreign currency gains (losses) related to the adoption of highly inflationary accounting as a result of its net monetary liability position.\\nSEABOARD CORPORATION\\nNotes to Consolidated Financial Statements\\nCash and Cash Equivalents\\nFor purposes of the consolidated statements of cash flows, management considers all demand deposits, overnight investments and other investments with original maturities less than three months as cash equivalents.\\nSupplemental Cash Flow Information\\nFor the year ended December 31, 2019, cash paid for amounts included in the measurement of operating lease liabilities was $137 million, all included in net cash from operating activities. Cash paid for amounts included in the measurement of finance lease liabilities was $3 million, with principal payments of $2 million included in financing activities and interest of $1 million included in operating activities. Seaboard reports the amortization of ROU assets and the change in operating lease liabilities in other liabilities, exclusive of debt in the consolidated statement of cash flows. Right of use assets obtained in exchange for new and modified operating and finance lease liabilities were $95 million and $46 million, respectively, for the year\"\n        ],\n        \"semantic_type\": \"\",\n        \"description\": \"\"\n      }\n    },\n    {\n      \"column\": \"augmented_text\",\n      \"properties\": {\n        \"dtype\": \"string\",\n        \"num_unique_values\": 3,\n        \"samples\": [\n          \"52    88121\\n53    88121\\n54    88121\\n55    88121\\n56    88121\\n57    88121\\n58    88121\\n59    88121\\n60    88121\\n61    88121\\n62    88121\\n63    88121\\n64    88121\\n65    88121\\n66    88121\\n67    88121\\n68    88121\\n69    88121\\n70    88121\\n71    88121\\n72    88121\\n73    88121\\n74    88121\\n75    88121\\n76    88121\\n77    88121\\n78    88121\\n79    88121\\n80    88121\\n81    88121\\n82    88121\\n83    88121\\n84    88121\\n85    88121\\n86    88121\\n87    88121\\n88    88121\\n89    88121\\nName: cik, dtype: int32-section_8: locations and applied auditor judgment to determine the locations at which procedures were to be performed. We tested certain internal controls over the Company\\u2019s revenue process, including controls related to the recognition and consolidation of global revenue amounts. We tested a sample of individual revenue transactions by comparing the amounts recognized by the Company to relevant underlying documentation such as contracts. In addition, we evaluated the overall sufficiency of audit evidence obtained over revenue.\\nWe have served as the Company\\u2019s auditor since 1959.\\nKansas City, Missouri\\nFebruary 19, 2020\\nSEABOARD CORPORATION\\nConsolidated Statements of Comprehensive Income\\nSee accompanying notes to consolidated financial statements.\\nSEABOARD CORPORATION\\nConsolidated Balance Sheets\\nSee accompanying notes to consolidated financial statements.\\nSEABOARD CORPORATION\\nConsolidated Statements of Cash Flows\\nSee accompanying notes to consolidated financial statements.\\nSEABOARD CORPORATION\\nConsolidated Statements of Changes in Equity\\nSee accompanying notes to consolidated financial statements.\\nSEABOARD CORPORATION\\nNotes to Consolidated Financial Statements\\nNote 1 - Summary of Significant Accounting Policies\\nOperations of Seaboard Corporation and its Subsidiaries\\nSeaboard Corporation and its subsidiaries (collectively, \\u201cSeaboard\\u201d) together comprise a diverse global agribusiness and transportation company. In the United States (\\u201cU.S.\\u201d), Seaboard is primarily engaged in hog production and pork processing and ocean transportation. Overseas, Seaboard is primarily engaged in commodity merchandising, grain processing, sugar and alcohol production and electric power generation. Seaboard also has an equity method investment in Butterball, LLC (\\u201cButterball\\u201d), a producer and processor of branded and non-branded turkey products. Approximately 77% of the outstanding common stock of Seaboard is collectively owned by Seaboard Flour LLC and SFC Preferred, LLC.\\nPrinciples of Consolidation and Investments in Affiliates\\nThe consolidated financial statements include the accounts of Seaboard Corporation and its domestic and foreign subsidiaries. All significant intercompany balances and transactions have been eliminated in consolidation. Investments in non-controlled affiliates where we have significant influence are accounted for by the equity method. Financial information from certain foreign subsidiaries and affiliates is reported on a one- to three-month lag, depending on the specific entity. As Seaboard conducts its agricultural commodity trading business with third parties, consolidated subsidiaries and affiliates on an interrelated basis, cost of sales on affiliates cannot be clearly distinguished without making numerous assumptions, primarily with respect to mark-to-market accounting for commodity derivatives.\\nUse of Estimates\\nThe preparation of the consolidated financial statements in conformity with U.S. generally accepted accounting principles (\\u201cGAAP\\u201d) requires management to make estimates and assumptions that affect the reported amounts of assets and liabilities, the disclosure of contingent assets and liabilities at the date of the consolidated financial statements and the reported amounts of revenues and expenses during the reporting period. Significant items subject to such estimates and assumptions include those related to allowance for doubtful accounts, valuation of inventories, impairment of long-lived assets, potential write down related to investments in and advances to affiliates and notes receivable from affiliates, income taxes, lease liabilities and right of use (\\u201cROU\\u201d) assets and accrued pension liability. Actual results could differ from those estimates.\\nForeign Currency Transactions and Translation\\nSeaboard has operations in several foreign countries, and the currencies of the countries fluctuate in relation to the U.S. dollar. Certain of the major contracts and transactions, however, are denominated in U.S. dollars. In addition, the value of the U.S. dollar fluctuates in relation to the currencies of countries where certain of Seaboard\\u2019s foreign subsidiaries and affiliates primarily conduct business. These fluctuations result in exchange gains and losses. The activities of these foreign subsidiaries and affiliates are primarily conducted with U.S. subsidiaries or operate in hyper-inflationary environments. As a result, the financial statements of certain foreign subsidiaries and affiliates are re-measured using the U.S. dollar as the functional currency. Certain CT&M segment consolidated subsidiaries located in Brazil, Canada, Guyana, Ivory Coast, Senegal, South Africa and Zambia use local currency as their functional currency. Also, certain non-controlled, non-consolidated affiliates of the CT&M and Sugar and Alcohol segments use local currency as their functional currency. Assets and liabilities of these subsidiaries are translated to U.S. dollars at year-end exchange rates, and income and expenses are translated at average rates. Translation gains and losses are recorded as components of other comprehensive income (loss). For the consolidated subsidiaries and non-consolidated affiliates, U.S. dollar denominated net asset or liability conversions to the local currency are recorded through income.\\nGAAP requires the use of highly inflationary accounting for countries whose cumulative three-year inflation exceeds 100%. In the second quarter of 2018, the Argentine peso rapidly devalued relative to the U.S. dollar, which along with increased inflation, indicated that the three-year cumulative inflation in that country exceeded 100%. As a result, Seaboard adopted highly inflationary accounting as of July 1, 2018 for Seaboard\\u2019s Sugar and Alcohol segment. Under highly inflationary accounting, the Sugar and Alcohol segment\\u2019s functional currency became the U.S. dollar, and its income statement and balance sheet are measured in U.S. dollars using both current and historical rates of exchange. The effect of changes in exchange rates on peso-denominated monetary assets and liabilities are reflected in foreign currency gains (losses), net. For the years ended December 31, 2019 and 2018, Seaboard recognized $(3) million and $9 million in foreign currency gains (losses) related to the adoption of highly inflationary accounting as a result of its net monetary liability position.\\nSEABOARD CORPORATION\\nNotes to Consolidated Financial Statements\\nCash and Cash Equivalents\\nFor purposes of the consolidated statements of cash flows, management considers all demand deposits, overnight investments and other investments with original maturities less than three months as cash equivalents.\\nSupplemental Cash Flow Information\\nFor the year ended December 31, 2019, cash paid for amounts included in the measurement of operating lease liabilities was $137 million, all included in net cash from operating activities. Cash paid for amounts included in the measurement of finance lease liabilities was $3 million, with principal payments of $2 million included in financing activities and interest of $1 million included in operating activities. Seaboard reports the amortization of ROU assets and the change in operating lease liabilities in other liabilities, exclusive of debt in the consolidated statement of cash flows. Right of use assets obtained in exchange for new and modified operating and finance lease liabilities were $95 million and $46 million, respectively, for the year\"\n        ],\n        \"semantic_type\": \"\",\n        \"description\": \"\"\n      }\n    },\n    {\n      \"column\": \"embedding\",\n      \"properties\": {\n        \"dtype\": \"object\",\n        \"semantic_type\": \"\",\n        \"description\": \"\"\n      }\n    },\n    {\n      \"column\": \"similarity\",\n      \"properties\": {\n        \"dtype\": \"number\",\n        \"std\": 0.060757814692839335,\n        \"min\": 0.25639307837606584,\n        \"max\": 0.36362577512504884,\n        \"num_unique_values\": 3,\n        \"samples\": [\n          0.36362577512504884\n        ],\n        \"semantic_type\": \"\",\n        \"description\": \"\"\n      }\n    }\n  ]\n}",
              "type": "dataframe",
              "variable_name": "top_chunks"
            },
            "text/html": [
              "\n",
              "  <div id=\"df-da9bf937-24d9-4996-b04f-8a17bd1b3d83\" class=\"colab-df-container\">\n",
              "    <div>\n",
              "<style scoped>\n",
              "    .dataframe tbody tr th:only-of-type {\n",
              "        vertical-align: middle;\n",
              "    }\n",
              "\n",
              "    .dataframe tbody tr th {\n",
              "        vertical-align: top;\n",
              "    }\n",
              "\n",
              "    .dataframe thead th {\n",
              "        text-align: right;\n",
              "    }\n",
              "</style>\n",
              "<table border=\"1\" class=\"dataframe\">\n",
              "  <thead>\n",
              "    <tr style=\"text-align: right;\">\n",
              "      <th></th>\n",
              "      <th>filename</th>\n",
              "      <th>cik</th>\n",
              "      <th>year</th>\n",
              "      <th>section_name</th>\n",
              "      <th>chunk_index</th>\n",
              "      <th>chunk_text</th>\n",
              "      <th>augmented_text</th>\n",
              "      <th>embedding</th>\n",
              "      <th>similarity</th>\n",
              "    </tr>\n",
              "  </thead>\n",
              "  <tbody>\n",
              "    <tr>\n",
              "      <th>68</th>\n",
              "      <td>88121_2019.htm</td>\n",
              "      <td>88121</td>\n",
              "      <td>2019</td>\n",
              "      <td>section_8</td>\n",
              "      <td>1</td>\n",
              "      <td>locations and applied auditor judgment to dete...</td>\n",
              "      <td>52    88121\\n53    88121\\n54    88121\\n55    8...</td>\n",
              "      <td>[-0.060247424989938736, 0.04971352964639664, -...</td>\n",
              "      <td>0.363626</td>\n",
              "    </tr>\n",
              "    <tr>\n",
              "      <th>67</th>\n",
              "      <td>88121_2019.htm</td>\n",
              "      <td>88121</td>\n",
              "      <td>2019</td>\n",
              "      <td>section_8</td>\n",
              "      <td>0</td>\n",
              "      <td>Item 8. Financial Statements and Supplementary...</td>\n",
              "      <td>52    88121\\n53    88121\\n54    88121\\n55    8...</td>\n",
              "      <td>[-0.05201123654842377, 0.0006078851292841136, ...</td>\n",
              "      <td>0.260508</td>\n",
              "    </tr>\n",
              "    <tr>\n",
              "      <th>63</th>\n",
              "      <td>88121_2019.htm</td>\n",
              "      <td>88121</td>\n",
              "      <td>2019</td>\n",
              "      <td>section_7</td>\n",
              "      <td>3</td>\n",
              "      <td>by realized margins or losses as revenue is re...</td>\n",
              "      <td>52    88121\\n53    88121\\n54    88121\\n55    8...</td>\n",
              "      <td>[-0.07151684165000916, 0.05800343304872513, 0....</td>\n",
              "      <td>0.256393</td>\n",
              "    </tr>\n",
              "  </tbody>\n",
              "</table>\n",
              "</div>\n",
              "    <div class=\"colab-df-buttons\">\n",
              "\n",
              "  <div class=\"colab-df-container\">\n",
              "    <button class=\"colab-df-convert\" onclick=\"convertToInteractive('df-da9bf937-24d9-4996-b04f-8a17bd1b3d83')\"\n",
              "            title=\"Convert this dataframe to an interactive table.\"\n",
              "            style=\"display:none;\">\n",
              "\n",
              "  <svg xmlns=\"http://www.w3.org/2000/svg\" height=\"24px\" viewBox=\"0 -960 960 960\">\n",
              "    <path d=\"M120-120v-720h720v720H120Zm60-500h600v-160H180v160Zm220 220h160v-160H400v160Zm0 220h160v-160H400v160ZM180-400h160v-160H180v160Zm440 0h160v-160H620v160ZM180-180h160v-160H180v160Zm440 0h160v-160H620v160Z\"/>\n",
              "  </svg>\n",
              "    </button>\n",
              "\n",
              "  <style>\n",
              "    .colab-df-container {\n",
              "      display:flex;\n",
              "      gap: 12px;\n",
              "    }\n",
              "\n",
              "    .colab-df-convert {\n",
              "      background-color: #E8F0FE;\n",
              "      border: none;\n",
              "      border-radius: 50%;\n",
              "      cursor: pointer;\n",
              "      display: none;\n",
              "      fill: #1967D2;\n",
              "      height: 32px;\n",
              "      padding: 0 0 0 0;\n",
              "      width: 32px;\n",
              "    }\n",
              "\n",
              "    .colab-df-convert:hover {\n",
              "      background-color: #E2EBFA;\n",
              "      box-shadow: 0px 1px 2px rgba(60, 64, 67, 0.3), 0px 1px 3px 1px rgba(60, 64, 67, 0.15);\n",
              "      fill: #174EA6;\n",
              "    }\n",
              "\n",
              "    .colab-df-buttons div {\n",
              "      margin-bottom: 4px;\n",
              "    }\n",
              "\n",
              "    [theme=dark] .colab-df-convert {\n",
              "      background-color: #3B4455;\n",
              "      fill: #D2E3FC;\n",
              "    }\n",
              "\n",
              "    [theme=dark] .colab-df-convert:hover {\n",
              "      background-color: #434B5C;\n",
              "      box-shadow: 0px 1px 3px 1px rgba(0, 0, 0, 0.15);\n",
              "      filter: drop-shadow(0px 1px 2px rgba(0, 0, 0, 0.3));\n",
              "      fill: #FFFFFF;\n",
              "    }\n",
              "  </style>\n",
              "\n",
              "    <script>\n",
              "      const buttonEl =\n",
              "        document.querySelector('#df-da9bf937-24d9-4996-b04f-8a17bd1b3d83 button.colab-df-convert');\n",
              "      buttonEl.style.display =\n",
              "        google.colab.kernel.accessAllowed ? 'block' : 'none';\n",
              "\n",
              "      async function convertToInteractive(key) {\n",
              "        const element = document.querySelector('#df-da9bf937-24d9-4996-b04f-8a17bd1b3d83');\n",
              "        const dataTable =\n",
              "          await google.colab.kernel.invokeFunction('convertToInteractive',\n",
              "                                                    [key], {});\n",
              "        if (!dataTable) return;\n",
              "\n",
              "        const docLinkHtml = 'Like what you see? Visit the ' +\n",
              "          '<a target=\"_blank\" href=https://colab.research.google.com/notebooks/data_table.ipynb>data table notebook</a>'\n",
              "          + ' to learn more about interactive tables.';\n",
              "        element.innerHTML = '';\n",
              "        dataTable['output_type'] = 'display_data';\n",
              "        await google.colab.output.renderOutput(dataTable, element);\n",
              "        const docLink = document.createElement('div');\n",
              "        docLink.innerHTML = docLinkHtml;\n",
              "        element.appendChild(docLink);\n",
              "      }\n",
              "    </script>\n",
              "  </div>\n",
              "\n",
              "\n",
              "    <div id=\"df-d41d264a-5050-4fba-a9fc-85e325e51841\">\n",
              "      <button class=\"colab-df-quickchart\" onclick=\"quickchart('df-d41d264a-5050-4fba-a9fc-85e325e51841')\"\n",
              "                title=\"Suggest charts\"\n",
              "                style=\"display:none;\">\n",
              "\n",
              "<svg xmlns=\"http://www.w3.org/2000/svg\" height=\"24px\"viewBox=\"0 0 24 24\"\n",
              "     width=\"24px\">\n",
              "    <g>\n",
              "        <path d=\"M19 3H5c-1.1 0-2 .9-2 2v14c0 1.1.9 2 2 2h14c1.1 0 2-.9 2-2V5c0-1.1-.9-2-2-2zM9 17H7v-7h2v7zm4 0h-2V7h2v10zm4 0h-2v-4h2v4z\"/>\n",
              "    </g>\n",
              "</svg>\n",
              "      </button>\n",
              "\n",
              "<style>\n",
              "  .colab-df-quickchart {\n",
              "      --bg-color: #E8F0FE;\n",
              "      --fill-color: #1967D2;\n",
              "      --hover-bg-color: #E2EBFA;\n",
              "      --hover-fill-color: #174EA6;\n",
              "      --disabled-fill-color: #AAA;\n",
              "      --disabled-bg-color: #DDD;\n",
              "  }\n",
              "\n",
              "  [theme=dark] .colab-df-quickchart {\n",
              "      --bg-color: #3B4455;\n",
              "      --fill-color: #D2E3FC;\n",
              "      --hover-bg-color: #434B5C;\n",
              "      --hover-fill-color: #FFFFFF;\n",
              "      --disabled-bg-color: #3B4455;\n",
              "      --disabled-fill-color: #666;\n",
              "  }\n",
              "\n",
              "  .colab-df-quickchart {\n",
              "    background-color: var(--bg-color);\n",
              "    border: none;\n",
              "    border-radius: 50%;\n",
              "    cursor: pointer;\n",
              "    display: none;\n",
              "    fill: var(--fill-color);\n",
              "    height: 32px;\n",
              "    padding: 0;\n",
              "    width: 32px;\n",
              "  }\n",
              "\n",
              "  .colab-df-quickchart:hover {\n",
              "    background-color: var(--hover-bg-color);\n",
              "    box-shadow: 0 1px 2px rgba(60, 64, 67, 0.3), 0 1px 3px 1px rgba(60, 64, 67, 0.15);\n",
              "    fill: var(--button-hover-fill-color);\n",
              "  }\n",
              "\n",
              "  .colab-df-quickchart-complete:disabled,\n",
              "  .colab-df-quickchart-complete:disabled:hover {\n",
              "    background-color: var(--disabled-bg-color);\n",
              "    fill: var(--disabled-fill-color);\n",
              "    box-shadow: none;\n",
              "  }\n",
              "\n",
              "  .colab-df-spinner {\n",
              "    border: 2px solid var(--fill-color);\n",
              "    border-color: transparent;\n",
              "    border-bottom-color: var(--fill-color);\n",
              "    animation:\n",
              "      spin 1s steps(1) infinite;\n",
              "  }\n",
              "\n",
              "  @keyframes spin {\n",
              "    0% {\n",
              "      border-color: transparent;\n",
              "      border-bottom-color: var(--fill-color);\n",
              "      border-left-color: var(--fill-color);\n",
              "    }\n",
              "    20% {\n",
              "      border-color: transparent;\n",
              "      border-left-color: var(--fill-color);\n",
              "      border-top-color: var(--fill-color);\n",
              "    }\n",
              "    30% {\n",
              "      border-color: transparent;\n",
              "      border-left-color: var(--fill-color);\n",
              "      border-top-color: var(--fill-color);\n",
              "      border-right-color: var(--fill-color);\n",
              "    }\n",
              "    40% {\n",
              "      border-color: transparent;\n",
              "      border-right-color: var(--fill-color);\n",
              "      border-top-color: var(--fill-color);\n",
              "    }\n",
              "    60% {\n",
              "      border-color: transparent;\n",
              "      border-right-color: var(--fill-color);\n",
              "    }\n",
              "    80% {\n",
              "      border-color: transparent;\n",
              "      border-right-color: var(--fill-color);\n",
              "      border-bottom-color: var(--fill-color);\n",
              "    }\n",
              "    90% {\n",
              "      border-color: transparent;\n",
              "      border-bottom-color: var(--fill-color);\n",
              "    }\n",
              "  }\n",
              "</style>\n",
              "\n",
              "      <script>\n",
              "        async function quickchart(key) {\n",
              "          const quickchartButtonEl =\n",
              "            document.querySelector('#' + key + ' button');\n",
              "          quickchartButtonEl.disabled = true;  // To prevent multiple clicks.\n",
              "          quickchartButtonEl.classList.add('colab-df-spinner');\n",
              "          try {\n",
              "            const charts = await google.colab.kernel.invokeFunction(\n",
              "                'suggestCharts', [key], {});\n",
              "          } catch (error) {\n",
              "            console.error('Error during call to suggestCharts:', error);\n",
              "          }\n",
              "          quickchartButtonEl.classList.remove('colab-df-spinner');\n",
              "          quickchartButtonEl.classList.add('colab-df-quickchart-complete');\n",
              "        }\n",
              "        (() => {\n",
              "          let quickchartButtonEl =\n",
              "            document.querySelector('#df-d41d264a-5050-4fba-a9fc-85e325e51841 button');\n",
              "          quickchartButtonEl.style.display =\n",
              "            google.colab.kernel.accessAllowed ? 'block' : 'none';\n",
              "        })();\n",
              "      </script>\n",
              "    </div>\n",
              "\n",
              "  <div id=\"id_08893fb1-1f72-476d-9360-441f084032fa\">\n",
              "    <style>\n",
              "      .colab-df-generate {\n",
              "        background-color: #E8F0FE;\n",
              "        border: none;\n",
              "        border-radius: 50%;\n",
              "        cursor: pointer;\n",
              "        display: none;\n",
              "        fill: #1967D2;\n",
              "        height: 32px;\n",
              "        padding: 0 0 0 0;\n",
              "        width: 32px;\n",
              "      }\n",
              "\n",
              "      .colab-df-generate:hover {\n",
              "        background-color: #E2EBFA;\n",
              "        box-shadow: 0px 1px 2px rgba(60, 64, 67, 0.3), 0px 1px 3px 1px rgba(60, 64, 67, 0.15);\n",
              "        fill: #174EA6;\n",
              "      }\n",
              "\n",
              "      [theme=dark] .colab-df-generate {\n",
              "        background-color: #3B4455;\n",
              "        fill: #D2E3FC;\n",
              "      }\n",
              "\n",
              "      [theme=dark] .colab-df-generate:hover {\n",
              "        background-color: #434B5C;\n",
              "        box-shadow: 0px 1px 3px 1px rgba(0, 0, 0, 0.15);\n",
              "        filter: drop-shadow(0px 1px 2px rgba(0, 0, 0, 0.3));\n",
              "        fill: #FFFFFF;\n",
              "      }\n",
              "    </style>\n",
              "    <button class=\"colab-df-generate\" onclick=\"generateWithVariable('top_chunks')\"\n",
              "            title=\"Generate code using this dataframe.\"\n",
              "            style=\"display:none;\">\n",
              "\n",
              "  <svg xmlns=\"http://www.w3.org/2000/svg\" height=\"24px\"viewBox=\"0 0 24 24\"\n",
              "       width=\"24px\">\n",
              "    <path d=\"M7,19H8.4L18.45,9,17,7.55,7,17.6ZM5,21V16.75L18.45,3.32a2,2,0,0,1,2.83,0l1.4,1.43a1.91,1.91,0,0,1,.58,1.4,1.91,1.91,0,0,1-.58,1.4L9.25,21ZM18.45,9,17,7.55Zm-12,3A5.31,5.31,0,0,0,4.9,8.1,5.31,5.31,0,0,0,1,6.5,5.31,5.31,0,0,0,4.9,4.9,5.31,5.31,0,0,0,6.5,1,5.31,5.31,0,0,0,8.1,4.9,5.31,5.31,0,0,0,12,6.5,5.46,5.46,0,0,0,6.5,12Z\"/>\n",
              "  </svg>\n",
              "    </button>\n",
              "    <script>\n",
              "      (() => {\n",
              "      const buttonEl =\n",
              "        document.querySelector('#id_08893fb1-1f72-476d-9360-441f084032fa button.colab-df-generate');\n",
              "      buttonEl.style.display =\n",
              "        google.colab.kernel.accessAllowed ? 'block' : 'none';\n",
              "\n",
              "      buttonEl.onclick = () => {\n",
              "        google.colab.notebook.generateWithVariable('top_chunks');\n",
              "      }\n",
              "      })();\n",
              "    </script>\n",
              "  </div>\n",
              "\n",
              "    </div>\n",
              "  </div>\n"
            ],
            "text/plain": [
              "          filename    cik  year section_name  chunk_index  \\\n",
              "68  88121_2019.htm  88121  2019    section_8            1   \n",
              "67  88121_2019.htm  88121  2019    section_8            0   \n",
              "63  88121_2019.htm  88121  2019    section_7            3   \n",
              "\n",
              "                                           chunk_text  \\\n",
              "68  locations and applied auditor judgment to dete...   \n",
              "67  Item 8. Financial Statements and Supplementary...   \n",
              "63  by realized margins or losses as revenue is re...   \n",
              "\n",
              "                                       augmented_text  \\\n",
              "68  52    88121\\n53    88121\\n54    88121\\n55    8...   \n",
              "67  52    88121\\n53    88121\\n54    88121\\n55    8...   \n",
              "63  52    88121\\n53    88121\\n54    88121\\n55    8...   \n",
              "\n",
              "                                            embedding  similarity  \n",
              "68  [-0.060247424989938736, 0.04971352964639664, -...    0.363626  \n",
              "67  [-0.05201123654842377, 0.0006078851292841136, ...    0.260508  \n",
              "63  [-0.07151684165000916, 0.05800343304872513, 0....    0.256393  "
            ]
          },
          "execution_count": 95,
          "metadata": {},
          "output_type": "execute_result"
        }
      ],
      "source": [
        "# Show top chunk on which LLM answer is based on\n",
        "top_chunks"
      ]
    },
    {
      "cell_type": "code",
      "execution_count": 96,
      "metadata": {
        "colab": {
          "base_uri": "https://localhost:8080/"
        },
        "id": "S5Jp6QOcGxML",
        "outputId": "299582ce-fb14-42e5-f71f-450ad62074ec"
      },
      "outputs": [
        {
          "name": "stdout",
          "output_type": "stream",
          "text": [
            "LLM Answer:\n",
            "Effective.\n"
          ]
        }
      ],
      "source": [
        "## ---------------------- FOR YEAR 2018 - cik 1566373 -----------------\n",
        "query = \"What did management conclude about the effectiveness of internal controls over financial reporting?\"\n",
        "year = 2018\n",
        "\n",
        "# Run your function\n",
        "answer, top_chunks = run_llm_query(query=query, year=year, template=template, model=model)\n",
        "\n",
        "# Show the output\n",
        "print(\"LLM Answer:\")\n",
        "print(answer)"
      ]
    },
    {
      "cell_type": "markdown",
      "metadata": {
        "id": "nKStUyGOHD_N"
      },
      "source": [
        "**Note** : This information is not mentioned in the company's 10-K filing, and the LLM have not correctly identified its absence."
      ]
    },
    {
      "cell_type": "markdown",
      "metadata": {
        "id": "JHFi-Z-Zqzat"
      },
      "source": [
        "* Actual Answer : Information Not Provided"
      ]
    },
    {
      "cell_type": "markdown",
      "metadata": {
        "id": "zMMbtgUiHy0D"
      },
      "source": [
        "## Attribute 5: Company dividends payment"
      ]
    },
    {
      "cell_type": "code",
      "execution_count": 97,
      "metadata": {
        "colab": {
          "base_uri": "https://localhost:8080/"
        },
        "id": "BHqwk91vH8YE",
        "outputId": "67758c49-0e0c-4c24-c7cc-b7397062e88a"
      },
      "outputs": [
        {
          "name": "stdout",
          "output_type": "stream",
          "text": [
            "LLM Answer:\n",
            "No\n"
          ]
        }
      ],
      "source": [
        "## ---------------------- FOR YEAR 2020 - cik 718413 -----------------\n",
        "query = \"Does the company pay dividends on its common stock?\"\n",
        "year = 2020\n",
        "\n",
        "# Run your function\n",
        "answer, top_chunks = run_llm_query(query=query, year=year, template=template, model=model)\n",
        "\n",
        "# Show the output\n",
        "print(\"LLM Answer:\")\n",
        "print(answer)"
      ]
    },
    {
      "cell_type": "markdown",
      "metadata": {
        "id": "5bsliBL-q9O9"
      },
      "source": [
        "* Actual Answer : No"
      ]
    },
    {
      "cell_type": "code",
      "execution_count": 98,
      "metadata": {
        "colab": {
          "base_uri": "https://localhost:8080/",
          "height": 109
        },
        "id": "9w8oj895IVjx",
        "outputId": "46eb051a-32c8-4bc6-8ad3-df9e17aae2e9"
      },
      "outputs": [
        {
          "data": {
            "application/vnd.google.colaboratory.intrinsic+json": {
              "type": "string"
            },
            "text/plain": [
              "'Item 5. Market for Registrant’s Common Equity, Related Stockholder Matters and Issuer Purchases of Equity Securities\\nInformation on the trading market in, market price of, and dividends paid on, the Company’s common stock is incorporated by reference to the section of the 2020 Annual Report under the caption “Common Stock Performance by Quarter” immediately following the “Management’s Discussion and Analysis of Financial Condition and Results of Operations”, filed as Exhibit 13 to this report. The balance of the information required by item 201 of Regulation S-K is omitted in accordance with the regulatory relief available to smaller reporting companies under applicable SEC disclosure rules, as amended in 2018 Release Nos. 33-10513 and 34-83550.\\nThe following table provides information as to the purchases of the Company’s common stock during the three months ended December 31, 2020, by the Company or by any affiliated purchaser (as defined in SEC Rule 10b-18). During the monthly periods presented, the Company did not have any publicly announced repurchase plans or programs.\\n1)\\nAll 1,367 shares were purchased for the account of participants invested in the Company Stock Fund under the Company’s Retirement Savings Plan by or on behalf of the Plan Trustee, the Human Resources Committee of the Bank. Such share purchases were facilitated through CFSG, which provides certain investment advisory services to the Plan. Both the Plan Trustee and CFSG may be considered affiliates of the Company under Rule 10b-18.\\nItem 6.'"
            ]
          },
          "execution_count": 98,
          "metadata": {},
          "output_type": "execute_result"
        }
      ],
      "source": [
        "# Show top chunk on which LLM answer is based on\n",
        "top_chunks[\"chunk_text\"].iloc[0]"
      ]
    },
    {
      "cell_type": "code",
      "execution_count": 99,
      "metadata": {
        "colab": {
          "base_uri": "https://localhost:8080/"
        },
        "id": "hm4UQRfZIp17",
        "outputId": "a366c092-f20c-4a5e-9ad1-f1e505cb24d8"
      },
      "outputs": [
        {
          "name": "stdout",
          "output_type": "stream",
          "text": [
            "LLM Answer:\n",
            "Yes.\n"
          ]
        }
      ],
      "source": [
        "## ---------------------- FOR YEAR 2019 - cik 88121 -----------------\n",
        "query = \"Does the company pay dividends on its common stock?\"\n",
        "year = 2019\n",
        "\n",
        "# Run your function\n",
        "answer, top_chunks = run_llm_query(query=query, year=year, template=template, model=model)\n",
        "\n",
        "# Show the output\n",
        "print(\"LLM Answer:\")\n",
        "print(answer)"
      ]
    },
    {
      "cell_type": "markdown",
      "metadata": {
        "id": "FtB3BnQcrD2r"
      },
      "source": [
        "* Actual Answer : Yes"
      ]
    },
    {
      "cell_type": "code",
      "execution_count": 100,
      "metadata": {
        "colab": {
          "base_uri": "https://localhost:8080/",
          "height": 109
        },
        "id": "Wdq0sunFI1Ai",
        "outputId": "e1e76bd1-4821-43d6-8703-f1411f43d747"
      },
      "outputs": [
        {
          "data": {
            "application/vnd.google.colaboratory.intrinsic+json": {
              "type": "string"
            },
            "text/plain": [
              "'Item 5. Market for Registrant’s Common Equity, Related Stockholder Matters and Issuer Purchases of Equity Securities\\nSeaboard’s common stock is traded on the NYSE American under the symbol SEB. Seaboard had 2,308 stockholders of record of its common stock as of January 31, 2020.\\nStock Performance Chart\\nThe SEC requires a five-year comparison of stock performance for Seaboard with that of an appropriate broad equity market index and similar industry index. Since there is no single industry index to compare stock performance, the companies comprising the Dow Jones U.S. Food Products and Dow Jones U.S. Marine Transportation Industry indices (the “Peer Group”) were chosen as the second comparison.\\nThe following graph shows a five-year comparison of cumulative total return for Seaboard Corporation, the NYSE American Index and the companies comprising the Peer Group, weighted by market capitalization for the five fiscal years commencing December 31, 2014 and ending December 31, 2019.\\nThe comparison of cumulative total returns presented in the above graph was plotted using the following index values and common stock price values:\\nIn each of the four quarters of 2019, Seaboard declared and paid quarterly dividends of $2.25 per share of common stock. In each of the four quarters of 2018 and 2017, Seaboard declared and paid quarterly dividends of $1.50 per share of common stock. Seaboard’s Board of Directors intends that Seaboard will continue to pay quarterly dividends for the reasonably foreseeable future, with the amount of any dividends being dependent upon such factors as Seaboard’s financial condition, results of operations and current and anticipated cash needs, including capital requirements. As discussed in Note 8 to the consolidated financial statements, Seaboard’s ability to declare and pay dividends is subject to limitations imposed by debt agreements.\\nSeaboard has not established any equity compensation plans or individual agreements for its employees under which Seaboard common stock, or options, rights or warrants with respect to Seaboard common stock, may be granted.\\nAs of December 31, 2019, Seaboard may repurchase up to $78 million of its common stock at market value from time to time in open market or privately negotiated purchases under its share repurchase program. There were no purchases made by or on behalf of Seaboard or any “affiliated purchaser” (as defined by applicable rules of the SEC) of shares of Seaboard’s common stock during the fourth quarter of the fiscal year covered by this report. See Note 12 to the consolidated financial statements for discussion of share repurchase activity during 2019.\\nItem 6.'"
            ]
          },
          "execution_count": 100,
          "metadata": {},
          "output_type": "execute_result"
        }
      ],
      "source": [
        "# Show top chunk on which LLM answer is based on\n",
        "top_chunks[\"chunk_text\"].iloc[0]"
      ]
    },
    {
      "cell_type": "code",
      "execution_count": 101,
      "metadata": {
        "colab": {
          "base_uri": "https://localhost:8080/"
        },
        "id": "mlblN4B5JNE7",
        "outputId": "6fea5840-d312-4b04-9a00-0cc35f4110aa"
      },
      "outputs": [
        {
          "name": "stdout",
          "output_type": "stream",
          "text": [
            "LLM Answer:\n",
            "No.\n"
          ]
        }
      ],
      "source": [
        "## ---------------------- FOR YEAR 2018 -  cik 1566373 -----------------\n",
        "query = \"Does the company pay dividends on its common stock?\"\n",
        "year = 2018\n",
        "\n",
        "# Run your function\n",
        "answer, top_chunks = run_llm_query(query=query, year=year, template=template, model=model)\n",
        "\n",
        "# Show the output\n",
        "print(\"LLM Answer:\")\n",
        "print(answer)"
      ]
    },
    {
      "cell_type": "markdown",
      "metadata": {
        "id": "6RJ125ZcrM80"
      },
      "source": [
        "* Actual Answer : No"
      ]
    },
    {
      "cell_type": "markdown",
      "metadata": {
        "id": "wPnCS_nKKif_"
      },
      "source": [
        "**Note** : None of the top retrieved chunks contain dividend payment information, and the LLM has accurately recognized that this detail is not present in the 10-K filing."
      ]
    },
    {
      "cell_type": "code",
      "execution_count": 102,
      "metadata": {
        "colab": {
          "base_uri": "https://localhost:8080/",
          "height": 143
        },
        "id": "WKrqKKQcKc2v",
        "outputId": "d72b34c5-c68d-4f4f-c381-8c14b92dc957"
      },
      "outputs": [
        {
          "data": {
            "application/vnd.google.colaboratory.intrinsic+json": {
              "summary": "{\n  \"name\": \"top_chunks\",\n  \"rows\": 3,\n  \"fields\": [\n    {\n      \"column\": \"filename\",\n      \"properties\": {\n        \"dtype\": \"category\",\n        \"num_unique_values\": 1,\n        \"samples\": [\n          \"1566373_2018.htm\"\n        ],\n        \"semantic_type\": \"\",\n        \"description\": \"\"\n      }\n    },\n    {\n      \"column\": \"cik\",\n      \"properties\": {\n        \"dtype\": \"int32\",\n        \"num_unique_values\": 1,\n        \"samples\": [\n          1566373\n        ],\n        \"semantic_type\": \"\",\n        \"description\": \"\"\n      }\n    },\n    {\n      \"column\": \"year\",\n      \"properties\": {\n        \"dtype\": \"int32\",\n        \"num_unique_values\": 1,\n        \"samples\": [\n          2018\n        ],\n        \"semantic_type\": \"\",\n        \"description\": \"\"\n      }\n    },\n    {\n      \"column\": \"section_name\",\n      \"properties\": {\n        \"dtype\": \"category\",\n        \"num_unique_values\": 1,\n        \"samples\": [\n          \"section_1\"\n        ],\n        \"semantic_type\": \"\",\n        \"description\": \"\"\n      }\n    },\n    {\n      \"column\": \"chunk_index\",\n      \"properties\": {\n        \"dtype\": \"int32\",\n        \"num_unique_values\": 3,\n        \"samples\": [\n          0\n        ],\n        \"semantic_type\": \"\",\n        \"description\": \"\"\n      }\n    },\n    {\n      \"column\": \"chunk_text\",\n      \"properties\": {\n        \"dtype\": \"string\",\n        \"num_unique_values\": 3,\n        \"samples\": [\n          \"Item 1. Business\\nOverview\\nWe are a clinical-stage biopharmaceutical company engaged in the discovery and development of a novel class of therapeutics for the treatment of viral infections, inflammatory diseases and certain cancers using our proprietary small molecule nucleotide platform. We design our compounds to selectively target and modulate the activity of specific proteins implicated in various disease states. We are developing our lead product candidate, inarigivir soproxil, or inarigivir, for the treatment of chronic hepatitis B virus, or HBV. We have designed our antiviral product candidates, including inarigivir, to selectively activate within infected hepatic cells the cellular protein, retinoic acid-inducible gene 1 (RIG-I), to inhibit viral replication and to cause the induction of intracellular interferon signaling pathways for antiviral defense. We believe that inarigivir, as a RIG-I agonist, could play an important role in antiviral therapy as a result of its dual mechanism of action that is designed to selectively modulate the body\\u2019s immune response and inhibit viral replication. We are also developing additional product candidates, including our lead STING (STimulator of INterferon Genes) agonist product candidate, SB 11285, which is an immunotherapeutic agent for the potential treatment of selected cancers.\\nThe following table summarizes the status of our development pipeline. We retain exclusive global commercial rights to all of our compounds.\\nChronic HBV Program\\nChronic HBV infection, which is defined by the presence of hepatitis B surface antigen, or HBsAg, for greater than six months, is a virus most commonly transmitted by contact with the blood or other bodily fluids of an infected person. Individuals with chronic HBV are at an increased risk of developing liver cancer, significant liver disease, or permanent scarring of the liver, leading to cirrhosis and liver failure. There is no approved cure for chronic HBV. Currently approved, standard of care therapies for the treatment of chronic HBV lack a broadly sustained response following the discontinuation of treatment and have significant limitations. Although treatment with pegylated interferon-a, or PEG-IFN- \\u03b1, products can ultimately reduce the amount of HBV DNA, or viral load, in the body, this treatment only has a limited effect on the rate of loss or clearance of HBsAg. PEG-IFN- \\u03b1 products also have significant side effects, including flu-like symptoms and fever and, with long term use, can lead to suppression of the production of red and white blood cells, mood swings, depression, anxiety and other neuropsychiatric effects. Additionally, while nucleoside/tide analogue direct-acting oral antiviral agents such as entecavir (marketed by Bristol-Myers Squibb as Baraclude\\u00ae), tenofovir disoproxil fumarate 300mg (TDF) (marketed by Gilead as Viread\\u00ae), and tenofovir alafenamide 25mg (TAF) (marketed by Gilead as Vemlidy\\u00ae), which we collectively refer to as \\u201cNUCs,\\u201d have demonstrated that they potently suppress HBV DNA, which\\ngenerally we refer to as \\u201cviral suppression\\u201d or \\u201cvirally-suppressed,\\u201d they generally only suppress the virus during treatment without providing significant levels of HBsAg loss or clearance. Additionally, patients taking these NUCs likely require life-long treatment.\\nExperts and regulators have suggested that a \\u201cfunctional cure,\\u201d characterized as either the loss of HBsAg or complete suppression of HBV DNA production, both of which are sustained off therapy, should be the goal of any new curative HBV therapy. A functional cure for chronic HBV with a shorter, finite period of treatment could improve clinical prognosis with a reduction in the risks of cirrhosis and liver cancer.\\nInarigivir Clinical Trial Strategy. We are developing our lead product candidate, inarigivir, an orally-administered hepatic-selective immunomodulator, as a potential backbone in a combinatorial treatment for chronic HBV with the goal to accelerate and substantially increase chronic HBV functional cure rates in a simple, safe and selective manner.\\nACHIEVE Trial. We are currently evaluating inarigivir for the treatment of chronic HBV in a global Phase 2 multi-center clinical trial of inarigivir, which we refer to as the ACHIEVE trial. The ACHIEVE trial is being conducted under our first clinical trial supply and collaboration with Gilead Sciences, Inc., or Gilead. Approximately 80 treatment-naive patients infected with chronic HBV have received doses of 25mg, 50mg, 100mg or 200mg of inarigivir or a placebo as a monotherapy administered daily for 12 weeks, followed by all patients receiving a sequential dose of Viread for 12 weeks. The active-placebo randomization schedule was 4:1 in the inarigivir monotherapy dosing period.\\nIn the first three cohorts (25mg, 50mg and 100mg) of the ACHIEVE trial, 13 of 47 patients (28%) had a 0.5 log10 or greater reduction in HBsAg. Of these 13 responder patients, six were HBeAg-negative (-) patients and seven were HBeAg-positive (+) patients. Additionally, we have observed a dose dependent response of inarigivir on HBV DNA and HBV RNA over the first three cohorts. To date, inarigivir has been well tolerated in the ACHIEVE trial, with no inarigivir-related serious adverse events observed, and no flu-like symptoms or other interferon-like side effects.\\nAll patients in the final 200mg cohort of the ACHIEVE trial have completed dosing of Viread and top-line results from the final 200mg cohort will be presented at The International Liver Congress, the Annual Meeting of the European Association for the Study of the Liver (EASL) in April 2019.\\nGilead Collaboration. In July 2017, we entered into our second clinical trial collaboration agreement with Gilead under which Gilead is funding and conducting a Phase 2 clinical trial examining the co-administration of inarigivir and Vemlidy in patients infected with chronic HBV. This clinical trial collaboration was expanded in August 2018 to include two additional cohorts. In the first cohort of this Phase 2 trial, treatment-naive patients received 12 weeks of combination therapy with inarigivir 50mg and Vemlidy, while in the second cohort treatment-naive patients are receiving 12 weeks of combination therapy with inarigivir 200mg and Vemlidy. In a third cohort, Gilead is evaluating the administration of inarigivir 100mg in virally-suppressed patients who are already are and continue to be treated with a NUC. While we have approved the protocol for this trial under a joint steering committee, Gilead is conducting this trial at their own expense.\\nCATALYST Trials. We plan to initiate in the first half of 2019 two major Phase 2 global trials examining the administration of\"\n        ],\n        \"semantic_type\": \"\",\n        \"description\": \"\"\n      }\n    },\n    {\n      \"column\": \"augmented_text\",\n      \"properties\": {\n        \"dtype\": \"string\",\n        \"num_unique_values\": 3,\n        \"samples\": [\n          \"0     1566373\\n1     1566373\\n2     1566373\\n3     1566373\\n4     1566373\\n5     1566373\\n6     1566373\\n7     1566373\\n8     1566373\\n9     1566373\\n10    1566373\\n11    1566373\\n12    1566373\\n13    1566373\\n14    1566373\\n15    1566373\\n16    1566373\\n17    1566373\\n18    1566373\\n19    1566373\\n20    1566373\\n21    1566373\\n22    1566373\\n23    1566373\\n24    1566373\\n25    1566373\\n26    1566373\\n27    1566373\\n28    1566373\\n29    1566373\\n30    1566373\\n31    1566373\\n32    1566373\\n33    1566373\\n34    1566373\\n35    1566373\\n36    1566373\\n37    1566373\\n38    1566373\\n39    1566373\\n40    1566373\\n41    1566373\\n42    1566373\\n43    1566373\\n44    1566373\\n45    1566373\\n46    1566373\\n47    1566373\\n48    1566373\\n49    1566373\\n50    1566373\\n51    1566373\\nName: cik, dtype: int32-section_1: Item 1. Business\\nOverview\\nWe are a clinical-stage biopharmaceutical company engaged in the discovery and development of a novel class of therapeutics for the treatment of viral infections, inflammatory diseases and certain cancers using our proprietary small molecule nucleotide platform. We design our compounds to selectively target and modulate the activity of specific proteins implicated in various disease states. We are developing our lead product candidate, inarigivir soproxil, or inarigivir, for the treatment of chronic hepatitis B virus, or HBV. We have designed our antiviral product candidates, including inarigivir, to selectively activate within infected hepatic cells the cellular protein, retinoic acid-inducible gene 1 (RIG-I), to inhibit viral replication and to cause the induction of intracellular interferon signaling pathways for antiviral defense. We believe that inarigivir, as a RIG-I agonist, could play an important role in antiviral therapy as a result of its dual mechanism of action that is designed to selectively modulate the body\\u2019s immune response and inhibit viral replication. We are also developing additional product candidates, including our lead STING (STimulator of INterferon Genes) agonist product candidate, SB 11285, which is an immunotherapeutic agent for the potential treatment of selected cancers.\\nThe following table summarizes the status of our development pipeline. We retain exclusive global commercial rights to all of our compounds.\\nChronic HBV Program\\nChronic HBV infection, which is defined by the presence of hepatitis B surface antigen, or HBsAg, for greater than six months, is a virus most commonly transmitted by contact with the blood or other bodily fluids of an infected person. Individuals with chronic HBV are at an increased risk of developing liver cancer, significant liver disease, or permanent scarring of the liver, leading to cirrhosis and liver failure. There is no approved cure for chronic HBV. Currently approved, standard of care therapies for the treatment of chronic HBV lack a broadly sustained response following the discontinuation of treatment and have significant limitations. Although treatment with pegylated interferon-a, or PEG-IFN- \\u03b1, products can ultimately reduce the amount of HBV DNA, or viral load, in the body, this treatment only has a limited effect on the rate of loss or clearance of HBsAg. PEG-IFN- \\u03b1 products also have significant side effects, including flu-like symptoms and fever and, with long term use, can lead to suppression of the production of red and white blood cells, mood swings, depression, anxiety and other neuropsychiatric effects. Additionally, while nucleoside/tide analogue direct-acting oral antiviral agents such as entecavir (marketed by Bristol-Myers Squibb as Baraclude\\u00ae), tenofovir disoproxil fumarate 300mg (TDF) (marketed by Gilead as Viread\\u00ae), and tenofovir alafenamide 25mg (TAF) (marketed by Gilead as Vemlidy\\u00ae), which we collectively refer to as \\u201cNUCs,\\u201d have demonstrated that they potently suppress HBV DNA, which\\ngenerally we refer to as \\u201cviral suppression\\u201d or \\u201cvirally-suppressed,\\u201d they generally only suppress the virus during treatment without providing significant levels of HBsAg loss or clearance. Additionally, patients taking these NUCs likely require life-long treatment.\\nExperts and regulators have suggested that a \\u201cfunctional cure,\\u201d characterized as either the loss of HBsAg or complete suppression of HBV DNA production, both of which are sustained off therapy, should be the goal of any new curative HBV therapy. A functional cure for chronic HBV with a shorter, finite period of treatment could improve clinical prognosis with a reduction in the risks of cirrhosis and liver cancer.\\nInarigivir Clinical Trial Strategy. We are developing our lead product candidate, inarigivir, an orally-administered hepatic-selective immunomodulator, as a potential backbone in a combinatorial treatment for chronic HBV with the goal to accelerate and substantially increase chronic HBV functional cure rates in a simple, safe and selective manner.\\nACHIEVE Trial. We are currently evaluating inarigivir for the treatment of chronic HBV in a global Phase 2 multi-center clinical trial of inarigivir, which we refer to as the ACHIEVE trial. The ACHIEVE trial is being conducted under our first clinical trial supply and collaboration with Gilead Sciences, Inc., or Gilead. Approximately 80 treatment-naive patients infected with chronic HBV have received doses of 25mg, 50mg, 100mg or 200mg of inarigivir or a placebo as a monotherapy administered daily for 12 weeks, followed by all patients receiving a sequential dose of Viread for 12 weeks. The active-placebo randomization schedule was 4:1 in the inarigivir monotherapy dosing period.\\nIn the first three cohorts (25mg, 50mg and 100mg) of the ACHIEVE trial, 13 of 47 patients (28%) had a 0.5 log10 or greater reduction in HBsAg. Of these 13 responder patients, six were HBeAg-negative (-) patients and seven were HBeAg-positive (+) patients. Additionally, we have observed a dose dependent response of inarigivir on HBV DNA and HBV RNA over the first three cohorts. To date, inarigivir has been well tolerated in the ACHIEVE trial, with no inarigivir-related serious adverse events observed, and no flu-like symptoms or other interferon-like side effects.\\nAll patients in the final 200mg cohort of the ACHIEVE trial have completed dosing of Viread and top-line results from the final 200mg cohort will be presented at The International Liver Congress, the Annual Meeting of the European Association for the Study of the Liver (EASL) in April 2019.\\nGilead Collaboration. In July 2017, we entered into our second clinical trial collaboration agreement with Gilead under which Gilead is funding and conducting a Phase 2 clinical trial examining the co-administration of inarigivir and Vemlidy in patients infected with chronic HBV. This clinical trial collaboration was expanded in August 2018 to include two additional cohorts. In the first cohort of this Phase 2 trial, treatment-naive patients received 12 weeks of combination therapy with inarigivir 50mg and Vemlidy, while in the second cohort treatment-naive patients are receiving 12 weeks of combination therapy with inarigivir 200mg and Vemlidy. In a third cohort, Gilead is evaluating the administration of inarigivir 100mg in virally-suppressed patients who are already are and continue to be treated with a NUC. While we have approved the protocol for this trial under a joint steering committee, Gilead is conducting this trial at their own expense.\\nCATALYST Trials. We plan to initiate in the first half of 2019 two major Phase 2 global trials examining the administration of\"\n        ],\n        \"semantic_type\": \"\",\n        \"description\": \"\"\n      }\n    },\n    {\n      \"column\": \"embedding\",\n      \"properties\": {\n        \"dtype\": \"object\",\n        \"semantic_type\": \"\",\n        \"description\": \"\"\n      }\n    },\n    {\n      \"column\": \"similarity\",\n      \"properties\": {\n        \"dtype\": \"number\",\n        \"std\": 0.0,\n        \"min\": -0.03205360206271881,\n        \"max\": -0.03205360206271881,\n        \"num_unique_values\": 1,\n        \"samples\": [\n          -0.03205360206271881\n        ],\n        \"semantic_type\": \"\",\n        \"description\": \"\"\n      }\n    }\n  ]\n}",
              "type": "dataframe",
              "variable_name": "top_chunks"
            },
            "text/html": [
              "\n",
              "  <div id=\"df-9016a8bb-9fa2-4ad7-8a63-c4ea040d304f\" class=\"colab-df-container\">\n",
              "    <div>\n",
              "<style scoped>\n",
              "    .dataframe tbody tr th:only-of-type {\n",
              "        vertical-align: middle;\n",
              "    }\n",
              "\n",
              "    .dataframe tbody tr th {\n",
              "        vertical-align: top;\n",
              "    }\n",
              "\n",
              "    .dataframe thead th {\n",
              "        text-align: right;\n",
              "    }\n",
              "</style>\n",
              "<table border=\"1\" class=\"dataframe\">\n",
              "  <thead>\n",
              "    <tr style=\"text-align: right;\">\n",
              "      <th></th>\n",
              "      <th>filename</th>\n",
              "      <th>cik</th>\n",
              "      <th>year</th>\n",
              "      <th>section_name</th>\n",
              "      <th>chunk_index</th>\n",
              "      <th>chunk_text</th>\n",
              "      <th>augmented_text</th>\n",
              "      <th>embedding</th>\n",
              "      <th>similarity</th>\n",
              "    </tr>\n",
              "  </thead>\n",
              "  <tbody>\n",
              "    <tr>\n",
              "      <th>0</th>\n",
              "      <td>1566373_2018.htm</td>\n",
              "      <td>1566373</td>\n",
              "      <td>2018</td>\n",
              "      <td>section_1</td>\n",
              "      <td>0</td>\n",
              "      <td>Item 1. Business\\nOverview\\nWe are a clinical-...</td>\n",
              "      <td>0     1566373\\n1     1566373\\n2     1566373\\n3...</td>\n",
              "      <td>[0.009221972897648811, -0.0379352867603302, -0...</td>\n",
              "      <td>-0.032054</td>\n",
              "    </tr>\n",
              "    <tr>\n",
              "      <th>1</th>\n",
              "      <td>1566373_2018.htm</td>\n",
              "      <td>1566373</td>\n",
              "      <td>2018</td>\n",
              "      <td>section_1</td>\n",
              "      <td>1</td>\n",
              "      <td>inarigivir 400mg in different patient populati...</td>\n",
              "      <td>0     1566373\\n1     1566373\\n2     1566373\\n3...</td>\n",
              "      <td>[0.009221972897648811, -0.0379352867603302, -0...</td>\n",
              "      <td>-0.032054</td>\n",
              "    </tr>\n",
              "    <tr>\n",
              "      <th>2</th>\n",
              "      <td>1566373_2018.htm</td>\n",
              "      <td>1566373</td>\n",
              "      <td>2018</td>\n",
              "      <td>section_1</td>\n",
              "      <td>2</td>\n",
              "      <td>clinical trial in cancer later in 2019. SB 112...</td>\n",
              "      <td>0     1566373\\n1     1566373\\n2     1566373\\n3...</td>\n",
              "      <td>[0.009221972897648811, -0.0379352867603302, -0...</td>\n",
              "      <td>-0.032054</td>\n",
              "    </tr>\n",
              "  </tbody>\n",
              "</table>\n",
              "</div>\n",
              "    <div class=\"colab-df-buttons\">\n",
              "\n",
              "  <div class=\"colab-df-container\">\n",
              "    <button class=\"colab-df-convert\" onclick=\"convertToInteractive('df-9016a8bb-9fa2-4ad7-8a63-c4ea040d304f')\"\n",
              "            title=\"Convert this dataframe to an interactive table.\"\n",
              "            style=\"display:none;\">\n",
              "\n",
              "  <svg xmlns=\"http://www.w3.org/2000/svg\" height=\"24px\" viewBox=\"0 -960 960 960\">\n",
              "    <path d=\"M120-120v-720h720v720H120Zm60-500h600v-160H180v160Zm220 220h160v-160H400v160Zm0 220h160v-160H400v160ZM180-400h160v-160H180v160Zm440 0h160v-160H620v160ZM180-180h160v-160H180v160Zm440 0h160v-160H620v160Z\"/>\n",
              "  </svg>\n",
              "    </button>\n",
              "\n",
              "  <style>\n",
              "    .colab-df-container {\n",
              "      display:flex;\n",
              "      gap: 12px;\n",
              "    }\n",
              "\n",
              "    .colab-df-convert {\n",
              "      background-color: #E8F0FE;\n",
              "      border: none;\n",
              "      border-radius: 50%;\n",
              "      cursor: pointer;\n",
              "      display: none;\n",
              "      fill: #1967D2;\n",
              "      height: 32px;\n",
              "      padding: 0 0 0 0;\n",
              "      width: 32px;\n",
              "    }\n",
              "\n",
              "    .colab-df-convert:hover {\n",
              "      background-color: #E2EBFA;\n",
              "      box-shadow: 0px 1px 2px rgba(60, 64, 67, 0.3), 0px 1px 3px 1px rgba(60, 64, 67, 0.15);\n",
              "      fill: #174EA6;\n",
              "    }\n",
              "\n",
              "    .colab-df-buttons div {\n",
              "      margin-bottom: 4px;\n",
              "    }\n",
              "\n",
              "    [theme=dark] .colab-df-convert {\n",
              "      background-color: #3B4455;\n",
              "      fill: #D2E3FC;\n",
              "    }\n",
              "\n",
              "    [theme=dark] .colab-df-convert:hover {\n",
              "      background-color: #434B5C;\n",
              "      box-shadow: 0px 1px 3px 1px rgba(0, 0, 0, 0.15);\n",
              "      filter: drop-shadow(0px 1px 2px rgba(0, 0, 0, 0.3));\n",
              "      fill: #FFFFFF;\n",
              "    }\n",
              "  </style>\n",
              "\n",
              "    <script>\n",
              "      const buttonEl =\n",
              "        document.querySelector('#df-9016a8bb-9fa2-4ad7-8a63-c4ea040d304f button.colab-df-convert');\n",
              "      buttonEl.style.display =\n",
              "        google.colab.kernel.accessAllowed ? 'block' : 'none';\n",
              "\n",
              "      async function convertToInteractive(key) {\n",
              "        const element = document.querySelector('#df-9016a8bb-9fa2-4ad7-8a63-c4ea040d304f');\n",
              "        const dataTable =\n",
              "          await google.colab.kernel.invokeFunction('convertToInteractive',\n",
              "                                                    [key], {});\n",
              "        if (!dataTable) return;\n",
              "\n",
              "        const docLinkHtml = 'Like what you see? Visit the ' +\n",
              "          '<a target=\"_blank\" href=https://colab.research.google.com/notebooks/data_table.ipynb>data table notebook</a>'\n",
              "          + ' to learn more about interactive tables.';\n",
              "        element.innerHTML = '';\n",
              "        dataTable['output_type'] = 'display_data';\n",
              "        await google.colab.output.renderOutput(dataTable, element);\n",
              "        const docLink = document.createElement('div');\n",
              "        docLink.innerHTML = docLinkHtml;\n",
              "        element.appendChild(docLink);\n",
              "      }\n",
              "    </script>\n",
              "  </div>\n",
              "\n",
              "\n",
              "    <div id=\"df-87295739-b41a-4fda-9496-6e10d7bdea10\">\n",
              "      <button class=\"colab-df-quickchart\" onclick=\"quickchart('df-87295739-b41a-4fda-9496-6e10d7bdea10')\"\n",
              "                title=\"Suggest charts\"\n",
              "                style=\"display:none;\">\n",
              "\n",
              "<svg xmlns=\"http://www.w3.org/2000/svg\" height=\"24px\"viewBox=\"0 0 24 24\"\n",
              "     width=\"24px\">\n",
              "    <g>\n",
              "        <path d=\"M19 3H5c-1.1 0-2 .9-2 2v14c0 1.1.9 2 2 2h14c1.1 0 2-.9 2-2V5c0-1.1-.9-2-2-2zM9 17H7v-7h2v7zm4 0h-2V7h2v10zm4 0h-2v-4h2v4z\"/>\n",
              "    </g>\n",
              "</svg>\n",
              "      </button>\n",
              "\n",
              "<style>\n",
              "  .colab-df-quickchart {\n",
              "      --bg-color: #E8F0FE;\n",
              "      --fill-color: #1967D2;\n",
              "      --hover-bg-color: #E2EBFA;\n",
              "      --hover-fill-color: #174EA6;\n",
              "      --disabled-fill-color: #AAA;\n",
              "      --disabled-bg-color: #DDD;\n",
              "  }\n",
              "\n",
              "  [theme=dark] .colab-df-quickchart {\n",
              "      --bg-color: #3B4455;\n",
              "      --fill-color: #D2E3FC;\n",
              "      --hover-bg-color: #434B5C;\n",
              "      --hover-fill-color: #FFFFFF;\n",
              "      --disabled-bg-color: #3B4455;\n",
              "      --disabled-fill-color: #666;\n",
              "  }\n",
              "\n",
              "  .colab-df-quickchart {\n",
              "    background-color: var(--bg-color);\n",
              "    border: none;\n",
              "    border-radius: 50%;\n",
              "    cursor: pointer;\n",
              "    display: none;\n",
              "    fill: var(--fill-color);\n",
              "    height: 32px;\n",
              "    padding: 0;\n",
              "    width: 32px;\n",
              "  }\n",
              "\n",
              "  .colab-df-quickchart:hover {\n",
              "    background-color: var(--hover-bg-color);\n",
              "    box-shadow: 0 1px 2px rgba(60, 64, 67, 0.3), 0 1px 3px 1px rgba(60, 64, 67, 0.15);\n",
              "    fill: var(--button-hover-fill-color);\n",
              "  }\n",
              "\n",
              "  .colab-df-quickchart-complete:disabled,\n",
              "  .colab-df-quickchart-complete:disabled:hover {\n",
              "    background-color: var(--disabled-bg-color);\n",
              "    fill: var(--disabled-fill-color);\n",
              "    box-shadow: none;\n",
              "  }\n",
              "\n",
              "  .colab-df-spinner {\n",
              "    border: 2px solid var(--fill-color);\n",
              "    border-color: transparent;\n",
              "    border-bottom-color: var(--fill-color);\n",
              "    animation:\n",
              "      spin 1s steps(1) infinite;\n",
              "  }\n",
              "\n",
              "  @keyframes spin {\n",
              "    0% {\n",
              "      border-color: transparent;\n",
              "      border-bottom-color: var(--fill-color);\n",
              "      border-left-color: var(--fill-color);\n",
              "    }\n",
              "    20% {\n",
              "      border-color: transparent;\n",
              "      border-left-color: var(--fill-color);\n",
              "      border-top-color: var(--fill-color);\n",
              "    }\n",
              "    30% {\n",
              "      border-color: transparent;\n",
              "      border-left-color: var(--fill-color);\n",
              "      border-top-color: var(--fill-color);\n",
              "      border-right-color: var(--fill-color);\n",
              "    }\n",
              "    40% {\n",
              "      border-color: transparent;\n",
              "      border-right-color: var(--fill-color);\n",
              "      border-top-color: var(--fill-color);\n",
              "    }\n",
              "    60% {\n",
              "      border-color: transparent;\n",
              "      border-right-color: var(--fill-color);\n",
              "    }\n",
              "    80% {\n",
              "      border-color: transparent;\n",
              "      border-right-color: var(--fill-color);\n",
              "      border-bottom-color: var(--fill-color);\n",
              "    }\n",
              "    90% {\n",
              "      border-color: transparent;\n",
              "      border-bottom-color: var(--fill-color);\n",
              "    }\n",
              "  }\n",
              "</style>\n",
              "\n",
              "      <script>\n",
              "        async function quickchart(key) {\n",
              "          const quickchartButtonEl =\n",
              "            document.querySelector('#' + key + ' button');\n",
              "          quickchartButtonEl.disabled = true;  // To prevent multiple clicks.\n",
              "          quickchartButtonEl.classList.add('colab-df-spinner');\n",
              "          try {\n",
              "            const charts = await google.colab.kernel.invokeFunction(\n",
              "                'suggestCharts', [key], {});\n",
              "          } catch (error) {\n",
              "            console.error('Error during call to suggestCharts:', error);\n",
              "          }\n",
              "          quickchartButtonEl.classList.remove('colab-df-spinner');\n",
              "          quickchartButtonEl.classList.add('colab-df-quickchart-complete');\n",
              "        }\n",
              "        (() => {\n",
              "          let quickchartButtonEl =\n",
              "            document.querySelector('#df-87295739-b41a-4fda-9496-6e10d7bdea10 button');\n",
              "          quickchartButtonEl.style.display =\n",
              "            google.colab.kernel.accessAllowed ? 'block' : 'none';\n",
              "        })();\n",
              "      </script>\n",
              "    </div>\n",
              "\n",
              "  <div id=\"id_9e3eb4c3-afa3-4213-bfe2-e4bb84c0d2b2\">\n",
              "    <style>\n",
              "      .colab-df-generate {\n",
              "        background-color: #E8F0FE;\n",
              "        border: none;\n",
              "        border-radius: 50%;\n",
              "        cursor: pointer;\n",
              "        display: none;\n",
              "        fill: #1967D2;\n",
              "        height: 32px;\n",
              "        padding: 0 0 0 0;\n",
              "        width: 32px;\n",
              "      }\n",
              "\n",
              "      .colab-df-generate:hover {\n",
              "        background-color: #E2EBFA;\n",
              "        box-shadow: 0px 1px 2px rgba(60, 64, 67, 0.3), 0px 1px 3px 1px rgba(60, 64, 67, 0.15);\n",
              "        fill: #174EA6;\n",
              "      }\n",
              "\n",
              "      [theme=dark] .colab-df-generate {\n",
              "        background-color: #3B4455;\n",
              "        fill: #D2E3FC;\n",
              "      }\n",
              "\n",
              "      [theme=dark] .colab-df-generate:hover {\n",
              "        background-color: #434B5C;\n",
              "        box-shadow: 0px 1px 3px 1px rgba(0, 0, 0, 0.15);\n",
              "        filter: drop-shadow(0px 1px 2px rgba(0, 0, 0, 0.3));\n",
              "        fill: #FFFFFF;\n",
              "      }\n",
              "    </style>\n",
              "    <button class=\"colab-df-generate\" onclick=\"generateWithVariable('top_chunks')\"\n",
              "            title=\"Generate code using this dataframe.\"\n",
              "            style=\"display:none;\">\n",
              "\n",
              "  <svg xmlns=\"http://www.w3.org/2000/svg\" height=\"24px\"viewBox=\"0 0 24 24\"\n",
              "       width=\"24px\">\n",
              "    <path d=\"M7,19H8.4L18.45,9,17,7.55,7,17.6ZM5,21V16.75L18.45,3.32a2,2,0,0,1,2.83,0l1.4,1.43a1.91,1.91,0,0,1,.58,1.4,1.91,1.91,0,0,1-.58,1.4L9.25,21ZM18.45,9,17,7.55Zm-12,3A5.31,5.31,0,0,0,4.9,8.1,5.31,5.31,0,0,0,1,6.5,5.31,5.31,0,0,0,4.9,4.9,5.31,5.31,0,0,0,6.5,1,5.31,5.31,0,0,0,8.1,4.9,5.31,5.31,0,0,0,12,6.5,5.46,5.46,0,0,0,6.5,12Z\"/>\n",
              "  </svg>\n",
              "    </button>\n",
              "    <script>\n",
              "      (() => {\n",
              "      const buttonEl =\n",
              "        document.querySelector('#id_9e3eb4c3-afa3-4213-bfe2-e4bb84c0d2b2 button.colab-df-generate');\n",
              "      buttonEl.style.display =\n",
              "        google.colab.kernel.accessAllowed ? 'block' : 'none';\n",
              "\n",
              "      buttonEl.onclick = () => {\n",
              "        google.colab.notebook.generateWithVariable('top_chunks');\n",
              "      }\n",
              "      })();\n",
              "    </script>\n",
              "  </div>\n",
              "\n",
              "    </div>\n",
              "  </div>\n"
            ],
            "text/plain": [
              "           filename      cik  year section_name  chunk_index  \\\n",
              "0  1566373_2018.htm  1566373  2018    section_1            0   \n",
              "1  1566373_2018.htm  1566373  2018    section_1            1   \n",
              "2  1566373_2018.htm  1566373  2018    section_1            2   \n",
              "\n",
              "                                          chunk_text  \\\n",
              "0  Item 1. Business\\nOverview\\nWe are a clinical-...   \n",
              "1  inarigivir 400mg in different patient populati...   \n",
              "2  clinical trial in cancer later in 2019. SB 112...   \n",
              "\n",
              "                                      augmented_text  \\\n",
              "0  0     1566373\\n1     1566373\\n2     1566373\\n3...   \n",
              "1  0     1566373\\n1     1566373\\n2     1566373\\n3...   \n",
              "2  0     1566373\\n1     1566373\\n2     1566373\\n3...   \n",
              "\n",
              "                                           embedding  similarity  \n",
              "0  [0.009221972897648811, -0.0379352867603302, -0...   -0.032054  \n",
              "1  [0.009221972897648811, -0.0379352867603302, -0...   -0.032054  \n",
              "2  [0.009221972897648811, -0.0379352867603302, -0...   -0.032054  "
            ]
          },
          "execution_count": 102,
          "metadata": {},
          "output_type": "execute_result"
        }
      ],
      "source": [
        "# Show top chunk on which LLM answer is based on\n",
        "top_chunks"
      ]
    }
  ],
  "metadata": {
    "colab": {
      "provenance": []
    },
    "kernelspec": {
      "display_name": "Python 3",
      "name": "python3"
    },
    "language_info": {
      "name": "python"
    }
  },
  "nbformat": 4,
  "nbformat_minor": 0
}
